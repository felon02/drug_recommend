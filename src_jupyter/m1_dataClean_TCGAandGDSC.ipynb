{
 "cells": [
  {
   "cell_type": "markdown",
   "id": "16dbccc2",
   "metadata": {},
   "source": [
    "# TCGA & GDSC filtering and normalization"
   ]
  },
  {
   "cell_type": "code",
   "execution_count": 1,
   "id": "f3b3a2ae",
   "metadata": {},
   "outputs": [],
   "source": [
    "import numpy as np\n",
    "import pandas as pd\n",
    "import os"
   ]
  },
  {
   "cell_type": "raw",
   "id": "9d62c70c",
   "metadata": {},
   "source": [
    "# data download:\n",
    "gdsc: https://cellmodelpassports.sanger.ac.uk/downloads\n",
    "ccle: https://sites.broadinstitute.org/ccle\n",
    "tcga: https://xenabrowser.net/datapages/?cohort=TCGA%20Pan-Cancer%20(PANCAN)&removeHub=https%3A%2F%2Fxena.treehouse.gi.ucsc.edu%3A443\n",
    "\n",
    "# RNA annotation:\n",
    "gdsc: tpm. it's raw tpm.\n",
    "ccle: log2(tpm+1)\n",
    "tcga: log2(tpm+0.001)\n",
    "# determination: we use log2(tpm+0.001) as criteria"
   ]
  },
  {
   "cell_type": "markdown",
   "id": "ccba9fa0",
   "metadata": {},
   "source": [
    "# preprocess of TCGA: gep, drug"
   ]
  },
  {
   "cell_type": "markdown",
   "id": "d3a9fdde",
   "metadata": {},
   "source": [
    "## preprocess gep of TCGA:"
   ]
  },
  {
   "cell_type": "code",
   "execution_count": 2,
   "id": "5efb8a09",
   "metadata": {},
   "outputs": [
    {
     "name": "stdout",
     "output_type": "stream",
     "text": [
      "tpm_tcga.shape: (60498, 10535)\n"
     ]
    }
   ],
   "source": [
    "# raw data\n",
    "path_tcga = \"../data_input/tcga\"\n",
    "tpm_tcga = pd.read_csv(os.path.join(path_tcga, 'tcga_RSEM_gene_tpm.gz'),\n",
    "                       sep=\"\\t\",\n",
    "                       index_col=0) \n",
    "print(f'tpm_tcga.shape: {tpm_tcga.shape}')"
   ]
  },
  {
   "cell_type": "code",
   "execution_count": 3,
   "id": "ae279018",
   "metadata": {},
   "outputs": [
    {
     "name": "stdout",
     "output_type": "stream",
     "text": [
      "genefile.head:       HGNC ID Approved symbol           Approved name    Status  \\\n",
      "0      HGNC:5            A1BG  alpha-1-B glycoprotein  Approved   \n",
      "1  HGNC:37133        A1BG-AS1    A1BG antisense RNA 1  Approved   \n",
      "\n",
      "              Previous symbols Alias symbols RefSeq IDs  Ensembl gene ID  \\\n",
      "0                          NaN           NaN  NM_130786  ENSG00000121410   \n",
      "1  NCRNA00181, A1BGAS, A1BG-AS      FLJ23569  NR_015380  ENSG00000268895   \n",
      "\n",
      "   NCBI Gene ID  \n",
      "0           1.0  \n",
      "1      503538.0  \n",
      "Index(['HGNC ID', 'Approved symbol', 'Approved name', 'Status',\n",
      "       'Previous symbols', 'Alias symbols', 'RefSeq IDs', 'Ensembl gene ID',\n",
      "       'NCBI Gene ID'],\n",
      "      dtype='object')\n",
      "genefile_v3.shape: (39012, 2)\n"
     ]
    }
   ],
   "source": [
    "# process gep: genefile downloaded from HGNS\n",
    "\n",
    "genefile = \"../data_input/HGNC_genesSymbol_conversion.txt\"\n",
    "genefile = pd.read_csv(genefile, sep = \"\\t\")\n",
    "print(f\"genefile.head: {genefile.head(2)}\")\n",
    "#\n",
    "# process genefile\n",
    "print(genefile.columns)\n",
    "genefile_v1 = genefile.loc[:, ['Approved symbol', 'Ensembl gene ID']]\n",
    "genefile_v1.columns = [\"gene_symbol\", \"gene_ensemble\"]\n",
    "#\n",
    "mask_na = genefile_v1.gene_ensemble.isna()\n",
    "genefile_v2 = genefile_v1.loc[~mask_na, :]\n",
    "mask_dup = genefile_v2.gene_ensemble.duplicated()\n",
    "genefile_v3 = genefile_v2.loc[~mask_dup, :]\n",
    "#\n",
    "print(f\"genefile_v3.shape: {genefile_v3.shape}\")\n",
    "# CONCLUSION: only 30K genes, about half of the TPM genes, but enough for analysis"
   ]
  },
  {
   "cell_type": "code",
   "execution_count": 4,
   "id": "c53335c3",
   "metadata": {},
   "outputs": [
    {
     "name": "stdout",
     "output_type": "stream",
     "text": [
      "tpm_tcga_v1.shape: (38502, 10536)\n"
     ]
    }
   ],
   "source": [
    "# process gep: merge\n",
    "\n",
    "tpm_tcga.index = tpm_tcga.index.str.extract(pat = \"(\\w+)\", expand = False)\n",
    "tpm_tcga.columns = tpm_tcga.columns.str[0:12]\n",
    "#\n",
    "tpm_tcga_v1 = pd.merge(tpm_tcga, genefile_v3, left_index = True, right_on = \"gene_ensemble\", how = \"inner\")\n",
    "tpm_tcga_v1.set_index(\"gene_symbol\", drop = True, inplace = True)\n",
    "#\n",
    "print(f\"tpm_tcga_v1.shape: {tpm_tcga_v1.shape}\")"
   ]
  },
  {
   "cell_type": "code",
   "execution_count": 5,
   "id": "ab4e9c8b",
   "metadata": {},
   "outputs": [
    {
     "data": {
      "text/html": [
       "<div>\n",
       "<style scoped>\n",
       "    .dataframe tbody tr th:only-of-type {\n",
       "        vertical-align: middle;\n",
       "    }\n",
       "\n",
       "    .dataframe tbody tr th {\n",
       "        vertical-align: top;\n",
       "    }\n",
       "\n",
       "    .dataframe thead th {\n",
       "        text-align: right;\n",
       "    }\n",
       "</style>\n",
       "<table border=\"1\" class=\"dataframe\">\n",
       "  <thead>\n",
       "    <tr style=\"text-align: right;\">\n",
       "      <th></th>\n",
       "      <th>TCGA-19-1787</th>\n",
       "      <th>TCGA-S9-A7J2</th>\n",
       "      <th>TCGA-G3-A3CH</th>\n",
       "      <th>TCGA-EK-A2RE</th>\n",
       "      <th>TCGA-44-6778</th>\n",
       "      <th>TCGA-F4-6854</th>\n",
       "      <th>TCGA-AB-2863</th>\n",
       "      <th>TCGA-C8-A1HL</th>\n",
       "      <th>TCGA-EW-A2FS</th>\n",
       "      <th>TCGA-IR-A3L7</th>\n",
       "      <th>...</th>\n",
       "      <th>TCGA-A8-A09K</th>\n",
       "      <th>TCGA-61-1907</th>\n",
       "      <th>TCGA-IB-7885</th>\n",
       "      <th>TCGA-95-7947</th>\n",
       "      <th>TCGA-VQ-AA6F</th>\n",
       "      <th>TCGA-BR-8588</th>\n",
       "      <th>TCGA-24-2254</th>\n",
       "      <th>TCGA-DD-A115</th>\n",
       "      <th>TCGA-FV-A3I0</th>\n",
       "      <th>gene_ensemble</th>\n",
       "    </tr>\n",
       "    <tr>\n",
       "      <th>gene_symbol</th>\n",
       "      <th></th>\n",
       "      <th></th>\n",
       "      <th></th>\n",
       "      <th></th>\n",
       "      <th></th>\n",
       "      <th></th>\n",
       "      <th></th>\n",
       "      <th></th>\n",
       "      <th></th>\n",
       "      <th></th>\n",
       "      <th></th>\n",
       "      <th></th>\n",
       "      <th></th>\n",
       "      <th></th>\n",
       "      <th></th>\n",
       "      <th></th>\n",
       "      <th></th>\n",
       "      <th></th>\n",
       "      <th></th>\n",
       "      <th></th>\n",
       "      <th></th>\n",
       "    </tr>\n",
       "  </thead>\n",
       "  <tbody>\n",
       "    <tr>\n",
       "      <th>LINC02082</th>\n",
       "      <td>-9.9658</td>\n",
       "      <td>0.2998</td>\n",
       "      <td>-9.9658</td>\n",
       "      <td>-9.9658</td>\n",
       "      <td>-9.9658</td>\n",
       "      <td>-9.9658</td>\n",
       "      <td>-9.9658</td>\n",
       "      <td>-9.9658</td>\n",
       "      <td>-9.9658</td>\n",
       "      <td>-9.9658</td>\n",
       "      <td>...</td>\n",
       "      <td>-9.9658</td>\n",
       "      <td>-9.9658</td>\n",
       "      <td>-9.9658</td>\n",
       "      <td>-9.9658</td>\n",
       "      <td>-9.9658</td>\n",
       "      <td>-9.9658</td>\n",
       "      <td>-1.9379</td>\n",
       "      <td>-9.9658</td>\n",
       "      <td>-9.9658</td>\n",
       "      <td>ENSG00000242268</td>\n",
       "    </tr>\n",
       "    <tr>\n",
       "      <th>ST8SIA5-DT</th>\n",
       "      <td>-3.8160</td>\n",
       "      <td>-3.0469</td>\n",
       "      <td>-9.9658</td>\n",
       "      <td>-9.9658</td>\n",
       "      <td>-5.5735</td>\n",
       "      <td>-9.9658</td>\n",
       "      <td>-3.4580</td>\n",
       "      <td>-9.9658</td>\n",
       "      <td>-5.0116</td>\n",
       "      <td>-9.9658</td>\n",
       "      <td>...</td>\n",
       "      <td>-9.9658</td>\n",
       "      <td>-9.9658</td>\n",
       "      <td>-9.9658</td>\n",
       "      <td>-6.5064</td>\n",
       "      <td>-9.9658</td>\n",
       "      <td>-9.9658</td>\n",
       "      <td>-5.5735</td>\n",
       "      <td>-9.9658</td>\n",
       "      <td>-9.9658</td>\n",
       "      <td>ENSG00000270112</td>\n",
       "    </tr>\n",
       "  </tbody>\n",
       "</table>\n",
       "<p>2 rows × 10536 columns</p>\n",
       "</div>"
      ],
      "text/plain": [
       "             TCGA-19-1787  TCGA-S9-A7J2  TCGA-G3-A3CH  TCGA-EK-A2RE  \\\n",
       "gene_symbol                                                           \n",
       "LINC02082         -9.9658        0.2998       -9.9658       -9.9658   \n",
       "ST8SIA5-DT        -3.8160       -3.0469       -9.9658       -9.9658   \n",
       "\n",
       "             TCGA-44-6778  TCGA-F4-6854  TCGA-AB-2863  TCGA-C8-A1HL  \\\n",
       "gene_symbol                                                           \n",
       "LINC02082         -9.9658       -9.9658       -9.9658       -9.9658   \n",
       "ST8SIA5-DT        -5.5735       -9.9658       -3.4580       -9.9658   \n",
       "\n",
       "             TCGA-EW-A2FS  TCGA-IR-A3L7  ...  TCGA-A8-A09K  TCGA-61-1907  \\\n",
       "gene_symbol                              ...                               \n",
       "LINC02082         -9.9658       -9.9658  ...       -9.9658       -9.9658   \n",
       "ST8SIA5-DT        -5.0116       -9.9658  ...       -9.9658       -9.9658   \n",
       "\n",
       "             TCGA-IB-7885  TCGA-95-7947  TCGA-VQ-AA6F  TCGA-BR-8588  \\\n",
       "gene_symbol                                                           \n",
       "LINC02082         -9.9658       -9.9658       -9.9658       -9.9658   \n",
       "ST8SIA5-DT        -9.9658       -6.5064       -9.9658       -9.9658   \n",
       "\n",
       "             TCGA-24-2254  TCGA-DD-A115  TCGA-FV-A3I0    gene_ensemble  \n",
       "gene_symbol                                                             \n",
       "LINC02082         -1.9379       -9.9658       -9.9658  ENSG00000242268  \n",
       "ST8SIA5-DT        -5.5735       -9.9658       -9.9658  ENSG00000270112  \n",
       "\n",
       "[2 rows x 10536 columns]"
      ]
     },
     "execution_count": 5,
     "metadata": {},
     "output_type": "execute_result"
    }
   ],
   "source": [
    "tpm_tcga_v1.head(2)"
   ]
  },
  {
   "cell_type": "markdown",
   "id": "025f5a56",
   "metadata": {},
   "source": [
    "## Preprocess pheno treated by a single drug in TCGA"
   ]
  },
  {
   "cell_type": "code",
   "execution_count": 6,
   "id": "31da05bb",
   "metadata": {},
   "outputs": [
    {
     "name": "stdout",
     "output_type": "stream",
     "text": [
      "pheno_tcga_raw.shape: (10967, 99)\n",
      "snv_nonsilence_tcga.shape: (40543, 9104)\n"
     ]
    }
   ],
   "source": [
    "# raw data\n",
    "path_tcga = \"../data_input/tcga\"\n",
    "snv_nonsilence_tcga = pd.read_csv(os.path.join(\n",
    "    path_tcga, 'mc3.v0.2.8.PUBLIC.nonsilentGene.xena.gz'),\n",
    "                                  sep='\\t',\n",
    "                                  index_col=0)\n",
    "# https://xenabrowser.net/datapages/?dataset=tcga_RSEM_gene_tpm&host=https%3A%2F%2Ftoil.xenahubs.net&removeHub=https%3A%2F%2Fxena.treehouse.gi.ucsc.edu%3A443\n",
    "# log2(tpm+0.001)\n",
    "# tpm_tcga = pd.read_csv(os.path.join(path_tcga, 'tcga_RSEM_gene_tpm.gz'),\n",
    "#                        sep=\"\\t\",\n",
    "#                      index_col=0) \n",
    "pheno_tcga_raw = pd.read_csv(os.path.join(path_tcga, \"pheno_TCGApanCancer.tsv\"),\n",
    "                    sep=\"\\t\")\n",
    "print(f\"pheno_tcga_raw.shape: {pheno_tcga_raw.shape}\")\n",
    "print(f'snv_nonsilence_tcga.shape: {snv_nonsilence_tcga.shape}')\n",
    "# print(f'tpm_tcga.shape: {tpm_tcga.shape}')\n",
    "\n",
    "# TCGA response data cleaned by paper: Evaluating the molecule-based prediction of drug in cancer\n",
    "f = \"../data_input/Evaluating the molecule-based prediction of drug in cancer_supplementary_tables.xlsx\"\n",
    "drug_tcga = pd.read_excel(f, sheet_name = \"Table S1\",skiprows = 1)\n",
    "drug_response_tcga = pd.read_excel(f, sheet_name = \"Table S2\", skiprows = 1)\n",
    "drug_response_inconsist_tcga = pd.read_excel(f, sheet_name = \"Table S3\", skiprows = 1)"
   ]
  },
  {
   "cell_type": "code",
   "execution_count": 7,
   "id": "e74df54d",
   "metadata": {},
   "outputs": [
    {
     "name": "stdout",
     "output_type": "stream",
     "text": [
      "id_snv.shape: (9104,); id_gep.shape: (9782,), id_response.shape: (1197,)\n",
      "# of patients TCGA: (8347,)\n",
      "# of patients included: (1018,)\n"
     ]
    }
   ],
   "source": [
    "# id intersection of response, pheno, snv, gep\n",
    "\n",
    "from functools import reduce\n",
    "\n",
    "id_pheno = pheno_tcga_raw[\"Patient ID\"]\n",
    "id_snv = snv_nonsilence_tcga.columns.str[0:12]\n",
    "id_gep = tpm_tcga_v1.columns\n",
    "id_response = drug_response_tcga.bcr_patient_barcode\n",
    "\n",
    "print(f\"id_snv.shape: {id_snv.unique().shape}; id_gep.shape: {id_gep.unique().shape}, id_response.shape: {id_response.unique().shape}\")\n",
    "\n",
    "id_intersect_TCGA = reduce(np.intersect1d, \n",
    "                      [id_pheno, id_snv, id_gep])\n",
    "print(f\"# of patients TCGA: {id_intersect_TCGA.shape}\")\n",
    "\n",
    "\n",
    "id_intersect = reduce(np.intersect1d, \n",
    "                      [id_pheno, id_snv, id_gep, id_response])\n",
    "print(f\"# of patients included: {id_intersect.shape}\")"
   ]
  },
  {
   "cell_type": "code",
   "execution_count": 8,
   "id": "c05e423c",
   "metadata": {},
   "outputs": [
    {
     "name": "stdout",
     "output_type": "stream",
     "text": [
      "response_per_pt_tcga.shape: (1018, 2)\n",
      "response_per_pt_tcga_singleDrug.shape: (404, 2)\n",
      "singleDrug_tcga: ['Carboplatin' 'Gemcitabine' 'Sorafenib' 'Everolimus' 'Sunitinib'\n",
      " 'Fluorouracil' 'Cisplatin' 'Dasatinib' 'Paclitaxel' 'Docetaxel'\n",
      " 'Erlotinib' 'Oxaliplatin' 'Trastuzumab' 'Anastrozole' 'Folfox'\n",
      " 'Capecitabine' 'FOLFOX' 'Temsirolimus' 'Pazopanib' 'Zoledronate'\n",
      " 'Cetuximab' 'Cyclophosphamide' 'Levothyroxine' 'BCG' 'Etoposide'\n",
      " 'Doxorubicin' 'Leuprolide' 'triptorelin' 'MEL-44' 'Aldesleukin'\n",
      " 'Temozolomide' 'doxorubicin/cyclophosphamide' 'Bevacizumab'\n",
      " 'Liothyronine' 'Tamoxifen' 'Pamidronate' 'Dacarbazine' 'Lomustine'\n",
      " 'Alverine' 'PNU-159548' 'Fotemustine' 'PI-88' 'Goserelin' 'Bicalutamide'\n",
      " 'Ipilimumab' 'Topotecan' 'Vinorelbine' 'Themozolomide' 'Ifosfamide'\n",
      " 'Carmustine' 'px-866' 'nivolumab' 'Melphalan' 'Bleomycin']\n",
      "   bcr_patient_barcode    drug_name\n",
      "10        TCGA-2G-AAF1  Carboplatin\n",
      "50        TCGA-2L-AAQA  Gemcitabine\n",
      "51        TCGA-2L-AAQE  Gemcitabine\n",
      "52        TCGA-2L-AAQI  Gemcitabine\n",
      "53        TCGA-2L-AAQJ  Gemcitabine\n"
     ]
    }
   ],
   "source": [
    "#\n",
    "keys_grouper = [\"bcr_patient_barcode\"]\n",
    "response_v1 = drug_response_tcga.loc[drug_response_tcga.bcr_patient_barcode.isin(id_intersect), :]\n",
    "response_per_pt_tcga = response_v1.groupby(keys_grouper)[\"drug_name\"].apply(lambda x: \":\".join(x))\n",
    "response_per_pt_tcga = pd.DataFrame(response_per_pt_tcga).reset_index()\n",
    "print(f\"response_per_pt_tcga.shape: {response_per_pt_tcga.shape}\")\n",
    "\n",
    "mask_single_drug = ~(response_per_pt_tcga.drug_name.str.contains(\":|,| \"))\n",
    "response_per_pt_tcga_singleDrug = response_per_pt_tcga.loc[mask_single_drug, :]\n",
    "print(f\"response_per_pt_tcga_singleDrug.shape: {response_per_pt_tcga_singleDrug.shape}\")\n",
    "\n",
    "singleDrug_tcga = response_per_pt_tcga_singleDrug.drug_name.unique()\n",
    "print(f\"singleDrug_tcga: {singleDrug_tcga}\")\n",
    "print(response_per_pt_tcga_singleDrug.head())"
   ]
  },
  {
   "cell_type": "code",
   "execution_count": 9,
   "id": "b2abc71d",
   "metadata": {},
   "outputs": [
    {
     "data": {
      "text/plain": [
       "(24,)"
      ]
     },
     "execution_count": 9,
     "metadata": {},
     "output_type": "execute_result"
    }
   ],
   "source": [
    "mask1 = pheno_tcga_raw[\"Patient ID\"].isin(response_per_pt_tcga_singleDrug.bcr_patient_barcode)\n",
    "pheno_tcga_raw.loc[mask1, \"TCGA PanCanAtlas Cancer Type Acronym\"].unique().shape"
   ]
  },
  {
   "cell_type": "code",
   "execution_count": 10,
   "id": "9fefd844",
   "metadata": {},
   "outputs": [
    {
     "data": {
      "text/html": [
       "<div>\n",
       "<style scoped>\n",
       "    .dataframe tbody tr th:only-of-type {\n",
       "        vertical-align: middle;\n",
       "    }\n",
       "\n",
       "    .dataframe tbody tr th {\n",
       "        vertical-align: top;\n",
       "    }\n",
       "\n",
       "    .dataframe thead th {\n",
       "        text-align: right;\n",
       "    }\n",
       "</style>\n",
       "<table border=\"1\" class=\"dataframe\">\n",
       "  <thead>\n",
       "    <tr style=\"text-align: right;\">\n",
       "      <th></th>\n",
       "      <th>bcr_patient_barcode</th>\n",
       "      <th>drug_name</th>\n",
       "    </tr>\n",
       "  </thead>\n",
       "  <tbody>\n",
       "    <tr>\n",
       "      <th>10</th>\n",
       "      <td>TCGA-2G-AAF1</td>\n",
       "      <td>Carboplatin</td>\n",
       "    </tr>\n",
       "    <tr>\n",
       "      <th>50</th>\n",
       "      <td>TCGA-2L-AAQA</td>\n",
       "      <td>Gemcitabine</td>\n",
       "    </tr>\n",
       "    <tr>\n",
       "      <th>51</th>\n",
       "      <td>TCGA-2L-AAQE</td>\n",
       "      <td>Gemcitabine</td>\n",
       "    </tr>\n",
       "  </tbody>\n",
       "</table>\n",
       "</div>"
      ],
      "text/plain": [
       "   bcr_patient_barcode    drug_name\n",
       "10        TCGA-2G-AAF1  Carboplatin\n",
       "50        TCGA-2L-AAQA  Gemcitabine\n",
       "51        TCGA-2L-AAQE  Gemcitabine"
      ]
     },
     "execution_count": 10,
     "metadata": {},
     "output_type": "execute_result"
    }
   ],
   "source": [
    "response_per_pt_tcga_singleDrug.head(3)"
   ]
  },
  {
   "cell_type": "markdown",
   "id": "81f99844",
   "metadata": {},
   "source": [
    "# preprocess GDSC"
   ]
  },
  {
   "cell_type": "code",
   "execution_count": 12,
   "id": "7ea967ae",
   "metadata": {},
   "outputs": [
    {
     "name": "stderr",
     "output_type": "stream",
     "text": [
      "/mnt/disk8t/Anaconda/envs/tf/lib/python3.10/site-packages/openpyxl/worksheet/_read_only.py:79: UserWarning: Unknown extension is not supported and will be removed\n",
      "  for idx, row in parser.parse():\n"
     ]
    }
   ],
   "source": [
    "# GDSC data\n",
    "drug_gdsc = pd.read_csv(\"../data_input/GDSC/screened_compounds_rel_8.4.csv\")\n",
    "cell_anno_gdsc = pd.read_excel(\"../data_input/GDSC/Cell_Lines_Details.xlsx\", sheet_name = \"Cell line details\")\n",
    "ic50_gdsc2 = pd.read_excel(\"../data_input/GDSC/GDSC2_fitted_dose_response_24Jul22.xlsx\")\n",
    "ic50_gdsc1 = pd.read_excel(\"../data_input/GDSC/GDSC1_fitted_dose_response_24Jul22.xlsx\")"
   ]
  },
  {
   "cell_type": "markdown",
   "id": "a15eb448",
   "metadata": {},
   "source": [
    "## filtering drugs using both gdsc and singleDrug tcga data"
   ]
  },
  {
   "cell_type": "code",
   "execution_count": 13,
   "id": "c27158e7",
   "metadata": {},
   "outputs": [
    {
     "name": "stdout",
     "output_type": "stream",
     "text": [
      "202\n",
      "1513\n"
     ]
    }
   ],
   "source": [
    "drug_gdsc[\"drug_and_alias\"] = np.where(drug_gdsc.DRUG_NAME.isna(),\n",
    "                                       drug_gdsc.SYNONYMS,\n",
    "                                       drug_gdsc.DRUG_NAME + \", \" + drug_gdsc.SYNONYMS)\n",
    "print(sum(drug_gdsc[\"drug_and_alias\"].isna()))\n",
    "\n",
    "#\n",
    "d = drug_gdsc[\"drug_and_alias\"].astype(str)\n",
    "drug_gdsc_flat = [s.strip() for item in d for s in item.split(\",\")]\n",
    "print(len(drug_gdsc_flat))"
   ]
  },
  {
   "cell_type": "code",
   "execution_count": 14,
   "id": "2bd78355",
   "metadata": {},
   "outputs": [
    {
     "name": "stdout",
     "output_type": "stream",
     "text": [
      "# of intersected drugs: 21\n",
      " intersected drugs: ['Bicalutamide' 'Cetuximab' 'Cisplatin' 'Cyclophosphamide' 'Dacarbazine'\n",
      " 'Dasatinib' 'Docetaxel' 'Doxorubicin' 'Erlotinib' 'Etoposide'\n",
      " 'Gemcitabine' 'Oxaliplatin' 'Paclitaxel' 'Pazopanib' 'Sorafenib'\n",
      " 'Sunitinib' 'Tamoxifen' 'Temozolomide' 'Temsirolimus' 'Vinorelbine'\n",
      " 'Zoledronate']\n",
      "length drug_tcga_unique: 33\n"
     ]
    }
   ],
   "source": [
    "# drugs intersected\n",
    "drug_intersect = np.intersect1d(drug_gdsc_flat, singleDrug_tcga)\n",
    "print(\"# of intersected drugs: {}\".format(len(drug_intersect)))\n",
    "print(\" intersected drugs: {}\".format(drug_intersect))\n",
    "# no fluorouracil, because fluorouracil is named 5-Fluorouracil in gdsc\n",
    "\n",
    "# drug_tcga_unique\n",
    "drug_tcga_unique = np.setdiff1d(singleDrug_tcga, drug_gdsc_flat)\n",
    "print(f\"length drug_tcga_unique: {len(drug_tcga_unique)}\")\n",
    "# I checked these drugs mannually, can i can add no drug to the intersected drug more"
   ]
  },
  {
   "cell_type": "code",
   "execution_count": 15,
   "id": "a671ddfc",
   "metadata": {},
   "outputs": [
    {
     "name": "stdout",
     "output_type": "stream",
     "text": [
      "True\n",
      "len of drug_intersect: 22\n"
     ]
    }
   ],
   "source": [
    "# add Fluorouracil to drug_intesect. and i will revise 5-Fluorouracil -> Fluorouracil latter in gdsc\n",
    "print(\"Fluorouracil\" in singleDrug_tcga)\n",
    "#\n",
    "drug_intersect = np.append(drug_intersect, \"Fluorouracil\")\n",
    "drug_intersect = drug_intersect[drug_intersect != \"nan\"]\n",
    "print(\"len of drug_intersect: {}\".format(len(drug_intersect)))"
   ]
  },
  {
   "cell_type": "markdown",
   "id": "de51249a",
   "metadata": {},
   "source": [
    "## create full GDSC data comprised of GDSC1 & GDSC2"
   ]
  },
  {
   "cell_type": "code",
   "execution_count": 16,
   "id": "9eb64bd6",
   "metadata": {},
   "outputs": [
    {
     "data": {
      "text/html": [
       "<div>\n",
       "<style scoped>\n",
       "    .dataframe tbody tr th:only-of-type {\n",
       "        vertical-align: middle;\n",
       "    }\n",
       "\n",
       "    .dataframe tbody tr th {\n",
       "        vertical-align: top;\n",
       "    }\n",
       "\n",
       "    .dataframe thead th {\n",
       "        text-align: right;\n",
       "    }\n",
       "</style>\n",
       "<table border=\"1\" class=\"dataframe\">\n",
       "  <thead>\n",
       "    <tr style=\"text-align: right;\">\n",
       "      <th></th>\n",
       "      <th>DATASET</th>\n",
       "      <th>NLME_RESULT_ID</th>\n",
       "      <th>NLME_CURVE_ID</th>\n",
       "      <th>COSMIC_ID</th>\n",
       "      <th>CELL_LINE_NAME</th>\n",
       "      <th>SANGER_MODEL_ID</th>\n",
       "      <th>TCGA_DESC</th>\n",
       "      <th>DRUG_ID</th>\n",
       "      <th>DRUG_NAME</th>\n",
       "      <th>PUTATIVE_TARGET</th>\n",
       "      <th>PATHWAY_NAME</th>\n",
       "      <th>COMPANY_ID</th>\n",
       "      <th>WEBRELEASE</th>\n",
       "      <th>MIN_CONC</th>\n",
       "      <th>MAX_CONC</th>\n",
       "      <th>LN_IC50</th>\n",
       "      <th>AUC</th>\n",
       "      <th>RMSE</th>\n",
       "      <th>Z_SCORE</th>\n",
       "    </tr>\n",
       "  </thead>\n",
       "  <tbody>\n",
       "    <tr>\n",
       "      <th>0</th>\n",
       "      <td>GDSC2</td>\n",
       "      <td>401</td>\n",
       "      <td>18945558</td>\n",
       "      <td>683667</td>\n",
       "      <td>PFSK-1</td>\n",
       "      <td>SIDM01132</td>\n",
       "      <td>MB</td>\n",
       "      <td>1003</td>\n",
       "      <td>Camptothecin</td>\n",
       "      <td>TOP1</td>\n",
       "      <td>DNA replication</td>\n",
       "      <td>1046</td>\n",
       "      <td>Y</td>\n",
       "      <td>0.0001</td>\n",
       "      <td>0.1</td>\n",
       "      <td>-1.462148</td>\n",
       "      <td>0.930105</td>\n",
       "      <td>0.088999</td>\n",
       "      <td>0.432482</td>\n",
       "    </tr>\n",
       "    <tr>\n",
       "      <th>1</th>\n",
       "      <td>GDSC2</td>\n",
       "      <td>401</td>\n",
       "      <td>18945796</td>\n",
       "      <td>684052</td>\n",
       "      <td>A673</td>\n",
       "      <td>SIDM00848</td>\n",
       "      <td>UNCLASSIFIED</td>\n",
       "      <td>1003</td>\n",
       "      <td>Camptothecin</td>\n",
       "      <td>TOP1</td>\n",
       "      <td>DNA replication</td>\n",
       "      <td>1046</td>\n",
       "      <td>Y</td>\n",
       "      <td>0.0001</td>\n",
       "      <td>0.1</td>\n",
       "      <td>-4.869447</td>\n",
       "      <td>0.614932</td>\n",
       "      <td>0.111423</td>\n",
       "      <td>-1.420322</td>\n",
       "    </tr>\n",
       "  </tbody>\n",
       "</table>\n",
       "</div>"
      ],
      "text/plain": [
       "  DATASET  NLME_RESULT_ID  NLME_CURVE_ID  COSMIC_ID CELL_LINE_NAME  \\\n",
       "0   GDSC2             401       18945558     683667         PFSK-1   \n",
       "1   GDSC2             401       18945796     684052           A673   \n",
       "\n",
       "  SANGER_MODEL_ID     TCGA_DESC  DRUG_ID     DRUG_NAME PUTATIVE_TARGET  \\\n",
       "0       SIDM01132            MB     1003  Camptothecin            TOP1   \n",
       "1       SIDM00848  UNCLASSIFIED     1003  Camptothecin            TOP1   \n",
       "\n",
       "      PATHWAY_NAME  COMPANY_ID WEBRELEASE  MIN_CONC  MAX_CONC   LN_IC50  \\\n",
       "0  DNA replication        1046          Y    0.0001       0.1 -1.462148   \n",
       "1  DNA replication        1046          Y    0.0001       0.1 -4.869447   \n",
       "\n",
       "        AUC      RMSE   Z_SCORE  \n",
       "0  0.930105  0.088999  0.432482  \n",
       "1  0.614932  0.111423 -1.420322  "
      ]
     },
     "execution_count": 16,
     "metadata": {},
     "output_type": "execute_result"
    }
   ],
   "source": [
    "ic50_gdsc2.head(2)"
   ]
  },
  {
   "cell_type": "code",
   "execution_count": 17,
   "id": "85ec6ce8",
   "metadata": {},
   "outputs": [
    {
     "name": "stdout",
     "output_type": "stream",
     "text": [
      "ic50_gdsc1.shape: (333161, 19)\n",
      "ic50_gdsc2.shape: (242036, 19)\n",
      "is ic50_gdsc1.columns == ic50_gdsc1.columns: True\n",
      "#duplications in gdsc1: 18067\n",
      "#duplications in gdsc1: 6288\n",
      "ic50_gdsc1_rmDup.shape: (315094, 20)\n",
      "ic50_gdsc2_rmDup.shape: (235748, 20)\n",
      "#mask_overlap_id: 89476\n",
      "ic50_gdsc_full.shape: (461366, 20)\n"
     ]
    }
   ],
   "source": [
    "# merge ic50_gdsc1/2 to a single file\n",
    "\n",
    "print(f\"ic50_gdsc1.shape: {ic50_gdsc1.shape}\")\n",
    "print(f\"ic50_gdsc2.shape: {ic50_gdsc2.shape}\")\n",
    "print(f\"is ic50_gdsc1.columns == ic50_gdsc1.columns: {(ic50_gdsc1.columns == ic50_gdsc1.columns).all()}\")\n",
    "\n",
    "keys_merge = [\"SANGER_MODEL_ID\", \"DRUG_NAME\"]\n",
    "# BE CAREFULL: DRUG_ID is the order in each dataset, and is inconsistent between datasets\n",
    "\n",
    "mask_dup1 = ic50_gdsc1.loc[:, keys_merge].duplicated(keep = \"first\")\n",
    "mask_dup2 = ic50_gdsc2.loc[:, keys_merge].duplicated(keep = \"first\")\n",
    "print(f\"#duplications in gdsc1: {mask_dup1.sum()}\")\n",
    "print(f\"#duplications in gdsc1: {mask_dup2.sum()}\")\n",
    "# Why do some drugs have multiple Drug IDs? https://www.cancerrxgene.org/faq \n",
    "\n",
    "ic50_gdsc1[\"id_cell_drug\"] = ic50_gdsc1[\"SANGER_MODEL_ID\"] + \":\" + ic50_gdsc1[\"DRUG_NAME\"]\n",
    "ic50_gdsc2[\"id_cell_drug\"] = ic50_gdsc2[\"SANGER_MODEL_ID\"] + \":\" + ic50_gdsc2[\"DRUG_NAME\"]\n",
    "\n",
    "ic50_gdsc1_rmDup = ic50_gdsc1.loc[~ic50_gdsc1[\"id_cell_drug\"].duplicated(), :]\n",
    "ic50_gdsc2_rmDup = ic50_gdsc2.loc[~ic50_gdsc2[\"id_cell_drug\"].duplicated(), :]\n",
    "print(f\"ic50_gdsc1_rmDup.shape: {ic50_gdsc1_rmDup.shape}\")\n",
    "print(f\"ic50_gdsc2_rmDup.shape: {ic50_gdsc2_rmDup.shape}\")\n",
    "\n",
    "mask_overlap_id = ic50_gdsc1_rmDup.id_cell_drug.isin(ic50_gdsc2_rmDup.id_cell_drug)\n",
    "print(f\"#mask_overlap_id: {mask_overlap_id.sum()}\")\n",
    "\n",
    "ic50_gdsc_full = pd.concat(\n",
    "    [ic50_gdsc2_rmDup, ic50_gdsc1_rmDup.loc[~mask_overlap_id, :]],\n",
    "    axis = 0\n",
    ")\n",
    "print(f\"ic50_gdsc_full.shape: {ic50_gdsc_full.shape}\")"
   ]
  },
  {
   "cell_type": "code",
   "execution_count": 18,
   "id": "d3ead57c",
   "metadata": {},
   "outputs": [
    {
     "data": {
      "text/html": [
       "<div>\n",
       "<style scoped>\n",
       "    .dataframe tbody tr th:only-of-type {\n",
       "        vertical-align: middle;\n",
       "    }\n",
       "\n",
       "    .dataframe tbody tr th {\n",
       "        vertical-align: top;\n",
       "    }\n",
       "\n",
       "    .dataframe thead th {\n",
       "        text-align: right;\n",
       "    }\n",
       "</style>\n",
       "<table border=\"1\" class=\"dataframe\">\n",
       "  <thead>\n",
       "    <tr style=\"text-align: right;\">\n",
       "      <th></th>\n",
       "      <th>DATASET</th>\n",
       "      <th>NLME_RESULT_ID</th>\n",
       "      <th>NLME_CURVE_ID</th>\n",
       "      <th>COSMIC_ID</th>\n",
       "      <th>CELL_LINE_NAME</th>\n",
       "      <th>SANGER_MODEL_ID</th>\n",
       "      <th>TCGA_DESC</th>\n",
       "      <th>DRUG_ID</th>\n",
       "      <th>DRUG_NAME</th>\n",
       "      <th>PUTATIVE_TARGET</th>\n",
       "      <th>PATHWAY_NAME</th>\n",
       "      <th>COMPANY_ID</th>\n",
       "      <th>WEBRELEASE</th>\n",
       "      <th>MIN_CONC</th>\n",
       "      <th>MAX_CONC</th>\n",
       "      <th>LN_IC50</th>\n",
       "      <th>AUC</th>\n",
       "      <th>RMSE</th>\n",
       "      <th>Z_SCORE</th>\n",
       "      <th>id_cell_drug</th>\n",
       "    </tr>\n",
       "  </thead>\n",
       "  <tbody>\n",
       "    <tr>\n",
       "      <th>0</th>\n",
       "      <td>GDSC2</td>\n",
       "      <td>401</td>\n",
       "      <td>18945558</td>\n",
       "      <td>683667</td>\n",
       "      <td>PFSK-1</td>\n",
       "      <td>SIDM01132</td>\n",
       "      <td>MB</td>\n",
       "      <td>1003</td>\n",
       "      <td>Camptothecin</td>\n",
       "      <td>TOP1</td>\n",
       "      <td>DNA replication</td>\n",
       "      <td>1046</td>\n",
       "      <td>Y</td>\n",
       "      <td>0.0001</td>\n",
       "      <td>0.1</td>\n",
       "      <td>-1.462148</td>\n",
       "      <td>0.930105</td>\n",
       "      <td>0.088999</td>\n",
       "      <td>0.432482</td>\n",
       "      <td>SIDM01132:Camptothecin</td>\n",
       "    </tr>\n",
       "    <tr>\n",
       "      <th>1</th>\n",
       "      <td>GDSC2</td>\n",
       "      <td>401</td>\n",
       "      <td>18945796</td>\n",
       "      <td>684052</td>\n",
       "      <td>A673</td>\n",
       "      <td>SIDM00848</td>\n",
       "      <td>UNCLASSIFIED</td>\n",
       "      <td>1003</td>\n",
       "      <td>Camptothecin</td>\n",
       "      <td>TOP1</td>\n",
       "      <td>DNA replication</td>\n",
       "      <td>1046</td>\n",
       "      <td>Y</td>\n",
       "      <td>0.0001</td>\n",
       "      <td>0.1</td>\n",
       "      <td>-4.869447</td>\n",
       "      <td>0.614932</td>\n",
       "      <td>0.111423</td>\n",
       "      <td>-1.420322</td>\n",
       "      <td>SIDM00848:Camptothecin</td>\n",
       "    </tr>\n",
       "    <tr>\n",
       "      <th>2</th>\n",
       "      <td>GDSC2</td>\n",
       "      <td>401</td>\n",
       "      <td>18946078</td>\n",
       "      <td>684057</td>\n",
       "      <td>ES5</td>\n",
       "      <td>SIDM00263</td>\n",
       "      <td>UNCLASSIFIED</td>\n",
       "      <td>1003</td>\n",
       "      <td>Camptothecin</td>\n",
       "      <td>TOP1</td>\n",
       "      <td>DNA replication</td>\n",
       "      <td>1046</td>\n",
       "      <td>Y</td>\n",
       "      <td>0.0001</td>\n",
       "      <td>0.1</td>\n",
       "      <td>-3.360684</td>\n",
       "      <td>0.790953</td>\n",
       "      <td>0.142754</td>\n",
       "      <td>-0.599894</td>\n",
       "      <td>SIDM00263:Camptothecin</td>\n",
       "    </tr>\n",
       "    <tr>\n",
       "      <th>3</th>\n",
       "      <td>GDSC2</td>\n",
       "      <td>401</td>\n",
       "      <td>18946335</td>\n",
       "      <td>684059</td>\n",
       "      <td>ES7</td>\n",
       "      <td>SIDM00269</td>\n",
       "      <td>UNCLASSIFIED</td>\n",
       "      <td>1003</td>\n",
       "      <td>Camptothecin</td>\n",
       "      <td>TOP1</td>\n",
       "      <td>DNA replication</td>\n",
       "      <td>1046</td>\n",
       "      <td>Y</td>\n",
       "      <td>0.0001</td>\n",
       "      <td>0.1</td>\n",
       "      <td>-5.045014</td>\n",
       "      <td>0.592624</td>\n",
       "      <td>0.135642</td>\n",
       "      <td>-1.515791</td>\n",
       "      <td>SIDM00269:Camptothecin</td>\n",
       "    </tr>\n",
       "    <tr>\n",
       "      <th>4</th>\n",
       "      <td>GDSC2</td>\n",
       "      <td>401</td>\n",
       "      <td>18946617</td>\n",
       "      <td>684062</td>\n",
       "      <td>EW-11</td>\n",
       "      <td>SIDM00203</td>\n",
       "      <td>UNCLASSIFIED</td>\n",
       "      <td>1003</td>\n",
       "      <td>Camptothecin</td>\n",
       "      <td>TOP1</td>\n",
       "      <td>DNA replication</td>\n",
       "      <td>1046</td>\n",
       "      <td>Y</td>\n",
       "      <td>0.0001</td>\n",
       "      <td>0.1</td>\n",
       "      <td>-3.741620</td>\n",
       "      <td>0.733992</td>\n",
       "      <td>0.128066</td>\n",
       "      <td>-0.807038</td>\n",
       "      <td>SIDM00203:Camptothecin</td>\n",
       "    </tr>\n",
       "  </tbody>\n",
       "</table>\n",
       "</div>"
      ],
      "text/plain": [
       "  DATASET  NLME_RESULT_ID  NLME_CURVE_ID  COSMIC_ID CELL_LINE_NAME  \\\n",
       "0   GDSC2             401       18945558     683667         PFSK-1   \n",
       "1   GDSC2             401       18945796     684052           A673   \n",
       "2   GDSC2             401       18946078     684057            ES5   \n",
       "3   GDSC2             401       18946335     684059            ES7   \n",
       "4   GDSC2             401       18946617     684062          EW-11   \n",
       "\n",
       "  SANGER_MODEL_ID     TCGA_DESC  DRUG_ID     DRUG_NAME PUTATIVE_TARGET  \\\n",
       "0       SIDM01132            MB     1003  Camptothecin            TOP1   \n",
       "1       SIDM00848  UNCLASSIFIED     1003  Camptothecin            TOP1   \n",
       "2       SIDM00263  UNCLASSIFIED     1003  Camptothecin            TOP1   \n",
       "3       SIDM00269  UNCLASSIFIED     1003  Camptothecin            TOP1   \n",
       "4       SIDM00203  UNCLASSIFIED     1003  Camptothecin            TOP1   \n",
       "\n",
       "      PATHWAY_NAME  COMPANY_ID WEBRELEASE  MIN_CONC  MAX_CONC   LN_IC50  \\\n",
       "0  DNA replication        1046          Y    0.0001       0.1 -1.462148   \n",
       "1  DNA replication        1046          Y    0.0001       0.1 -4.869447   \n",
       "2  DNA replication        1046          Y    0.0001       0.1 -3.360684   \n",
       "3  DNA replication        1046          Y    0.0001       0.1 -5.045014   \n",
       "4  DNA replication        1046          Y    0.0001       0.1 -3.741620   \n",
       "\n",
       "        AUC      RMSE   Z_SCORE            id_cell_drug  \n",
       "0  0.930105  0.088999  0.432482  SIDM01132:Camptothecin  \n",
       "1  0.614932  0.111423 -1.420322  SIDM00848:Camptothecin  \n",
       "2  0.790953  0.142754 -0.599894  SIDM00263:Camptothecin  \n",
       "3  0.592624  0.135642 -1.515791  SIDM00269:Camptothecin  \n",
       "4  0.733992  0.128066 -0.807038  SIDM00203:Camptothecin  "
      ]
     },
     "execution_count": 18,
     "metadata": {},
     "output_type": "execute_result"
    }
   ],
   "source": [
    "ic50_gdsc_full.head()"
   ]
  },
  {
   "cell_type": "code",
   "execution_count": 19,
   "id": "fcec123d",
   "metadata": {},
   "outputs": [
    {
     "data": {
      "text/plain": [
       "(978,)"
      ]
     },
     "execution_count": 19,
     "metadata": {},
     "output_type": "execute_result"
    }
   ],
   "source": [
    "ic50_gdsc_full.SANGER_MODEL_ID.unique().shape"
   ]
  },
  {
   "cell_type": "code",
   "execution_count": 20,
   "id": "e5d732d6",
   "metadata": {},
   "outputs": [
    {
     "name": "stdout",
     "output_type": "stream",
     "text": [
      "973\n"
     ]
    }
   ],
   "source": [
    "# revise 5-Fluorouracil -> Fluorouracil in gdsc\n",
    "print((ic50_gdsc_full.DRUG_NAME == \"5-Fluorouracil\").sum())\n",
    "ic50_gdsc_full[\"drug_name_revised\"] = np.where(\n",
    "    ic50_gdsc_full.DRUG_NAME == \"5-Fluorouracil\", \n",
    "    \"Fluorouracil\",\n",
    "    ic50_gdsc_full.DRUG_NAME)"
   ]
  },
  {
   "cell_type": "code",
   "execution_count": 21,
   "id": "8f63e032",
   "metadata": {},
   "outputs": [
    {
     "name": "stdout",
     "output_type": "stream",
     "text": [
      "ic50_gdsc_interDrug.shape: (19932, 21)\n"
     ]
    }
   ],
   "source": [
    "# filter IC50 by intersected drugs\n",
    "ic50_gdsc_interDrug = ic50_gdsc_full.loc[ic50_gdsc_full.drug_name_revised.isin(drug_intersect), :]\n",
    "print(f\"ic50_gdsc_interDrug.shape: {ic50_gdsc_interDrug.shape}\")"
   ]
  },
  {
   "cell_type": "code",
   "execution_count": 22,
   "id": "d6761cf0",
   "metadata": {},
   "outputs": [
    {
     "name": "stdout",
     "output_type": "stream",
     "text": [
      "ic50_gdsc_interDrug removing cetuximab: (19070, 21)\n"
     ]
    }
   ],
   "source": [
    "# WARNING: Cetuximab is an antibody of big molecular, it has no molecular structure, should be removed\n",
    "mask_Cetuximab = ic50_gdsc_interDrug.drug_name_revised == \"Cetuximab\"\n",
    "ic50_gdsc_interDrug = ic50_gdsc_interDrug.loc[~mask_Cetuximab, :]\n",
    "print(f\"ic50_gdsc_interDrug removing cetuximab: {ic50_gdsc_interDrug.shape}\")"
   ]
  },
  {
   "cell_type": "code",
   "execution_count": 23,
   "id": "fd147a4d",
   "metadata": {},
   "outputs": [
    {
     "data": {
      "text/html": [
       "<div>\n",
       "<style scoped>\n",
       "    .dataframe tbody tr th:only-of-type {\n",
       "        vertical-align: middle;\n",
       "    }\n",
       "\n",
       "    .dataframe tbody tr th {\n",
       "        vertical-align: top;\n",
       "    }\n",
       "\n",
       "    .dataframe thead th {\n",
       "        text-align: right;\n",
       "    }\n",
       "</style>\n",
       "<table border=\"1\" class=\"dataframe\">\n",
       "  <thead>\n",
       "    <tr style=\"text-align: right;\">\n",
       "      <th></th>\n",
       "      <th>DATASET</th>\n",
       "      <th>NLME_RESULT_ID</th>\n",
       "      <th>NLME_CURVE_ID</th>\n",
       "      <th>COSMIC_ID</th>\n",
       "      <th>CELL_LINE_NAME</th>\n",
       "      <th>SANGER_MODEL_ID</th>\n",
       "      <th>TCGA_DESC</th>\n",
       "      <th>DRUG_ID</th>\n",
       "      <th>DRUG_NAME</th>\n",
       "      <th>PUTATIVE_TARGET</th>\n",
       "      <th>...</th>\n",
       "      <th>COMPANY_ID</th>\n",
       "      <th>WEBRELEASE</th>\n",
       "      <th>MIN_CONC</th>\n",
       "      <th>MAX_CONC</th>\n",
       "      <th>LN_IC50</th>\n",
       "      <th>AUC</th>\n",
       "      <th>RMSE</th>\n",
       "      <th>Z_SCORE</th>\n",
       "      <th>id_cell_drug</th>\n",
       "      <th>drug_name_revised</th>\n",
       "    </tr>\n",
       "  </thead>\n",
       "  <tbody>\n",
       "    <tr>\n",
       "      <th>1709</th>\n",
       "      <td>GDSC2</td>\n",
       "      <td>401</td>\n",
       "      <td>18945560</td>\n",
       "      <td>683667</td>\n",
       "      <td>PFSK-1</td>\n",
       "      <td>SIDM01132</td>\n",
       "      <td>MB</td>\n",
       "      <td>1005</td>\n",
       "      <td>Cisplatin</td>\n",
       "      <td>DNA crosslinker</td>\n",
       "      <td>...</td>\n",
       "      <td>1046</td>\n",
       "      <td>Y</td>\n",
       "      <td>0.004002</td>\n",
       "      <td>8.0</td>\n",
       "      <td>3.179510</td>\n",
       "      <td>0.955113</td>\n",
       "      <td>0.116859</td>\n",
       "      <td>-0.030198</td>\n",
       "      <td>SIDM01132:Cisplatin</td>\n",
       "      <td>Cisplatin</td>\n",
       "    </tr>\n",
       "    <tr>\n",
       "      <th>1710</th>\n",
       "      <td>GDSC2</td>\n",
       "      <td>401</td>\n",
       "      <td>18945798</td>\n",
       "      <td>684052</td>\n",
       "      <td>A673</td>\n",
       "      <td>SIDM00848</td>\n",
       "      <td>UNCLASSIFIED</td>\n",
       "      <td>1005</td>\n",
       "      <td>Cisplatin</td>\n",
       "      <td>DNA crosslinker</td>\n",
       "      <td>...</td>\n",
       "      <td>1046</td>\n",
       "      <td>Y</td>\n",
       "      <td>0.004002</td>\n",
       "      <td>8.0</td>\n",
       "      <td>-0.006975</td>\n",
       "      <td>0.724965</td>\n",
       "      <td>0.088826</td>\n",
       "      <td>-1.747663</td>\n",
       "      <td>SIDM00848:Cisplatin</td>\n",
       "      <td>Cisplatin</td>\n",
       "    </tr>\n",
       "  </tbody>\n",
       "</table>\n",
       "<p>2 rows × 21 columns</p>\n",
       "</div>"
      ],
      "text/plain": [
       "     DATASET  NLME_RESULT_ID  NLME_CURVE_ID  COSMIC_ID CELL_LINE_NAME  \\\n",
       "1709   GDSC2             401       18945560     683667         PFSK-1   \n",
       "1710   GDSC2             401       18945798     684052           A673   \n",
       "\n",
       "     SANGER_MODEL_ID     TCGA_DESC  DRUG_ID  DRUG_NAME  PUTATIVE_TARGET  ...  \\\n",
       "1709       SIDM01132            MB     1005  Cisplatin  DNA crosslinker  ...   \n",
       "1710       SIDM00848  UNCLASSIFIED     1005  Cisplatin  DNA crosslinker  ...   \n",
       "\n",
       "     COMPANY_ID  WEBRELEASE  MIN_CONC  MAX_CONC   LN_IC50       AUC      RMSE  \\\n",
       "1709       1046           Y  0.004002       8.0  3.179510  0.955113  0.116859   \n",
       "1710       1046           Y  0.004002       8.0 -0.006975  0.724965  0.088826   \n",
       "\n",
       "       Z_SCORE         id_cell_drug drug_name_revised  \n",
       "1709 -0.030198  SIDM01132:Cisplatin         Cisplatin  \n",
       "1710 -1.747663  SIDM00848:Cisplatin         Cisplatin  \n",
       "\n",
       "[2 rows x 21 columns]"
      ]
     },
     "execution_count": 23,
     "metadata": {},
     "output_type": "execute_result"
    }
   ],
   "source": [
    "ic50_gdsc_interDrug.head(2)"
   ]
  },
  {
   "cell_type": "code",
   "execution_count": 24,
   "id": "e1fbd46e",
   "metadata": {},
   "outputs": [
    {
     "data": {
      "text/plain": [
       "(978,)"
      ]
     },
     "execution_count": 24,
     "metadata": {},
     "output_type": "execute_result"
    }
   ],
   "source": [
    "ic50_gdsc_interDrug.SANGER_MODEL_ID.unique().shape"
   ]
  },
  {
   "cell_type": "code",
   "execution_count": 7,
   "id": "dd6d1d45",
   "metadata": {},
   "outputs": [],
   "source": [
    "# save\n",
    "# ic50_gdsc_interDrug.to_csv(\"../output/out_gdsc/ic50_gdsc_interDrug.csv\", index = False)"
   ]
  },
  {
   "cell_type": "markdown",
   "id": "b576b61a",
   "metadata": {},
   "source": [
    "# IC50 of gdsc"
   ]
  },
  {
   "cell_type": "code",
   "execution_count": 25,
   "id": "6815787c",
   "metadata": {},
   "outputs": [],
   "source": [
    "#\n",
    "cell_anno_ccle = pd.read_csv(\"../data_input/ccle/data_22Q4/Model.csv\", index_col = 0)"
   ]
  },
  {
   "cell_type": "code",
   "execution_count": 26,
   "id": "798bce3d",
   "metadata": {},
   "outputs": [
    {
     "name": "stdout",
     "output_type": "stream",
     "text": [
      "mask_dup.sum: 0\n",
      "ic50_gdsc_v1.shape: (19070, 3)\n",
      "mask_dup.sum: 0\n"
     ]
    }
   ],
   "source": [
    "# remove duplications\n",
    "\n",
    "# check duplication\n",
    "mask_dup = ic50_gdsc_interDrug.duplicated([\"SANGER_MODEL_ID\", \"drug_name_revised\"])\n",
    "print(f\"mask_dup.sum: {mask_dup.sum()}\")\n",
    "\n",
    "ic50_gdsc_v1 = ic50_gdsc_interDrug.groupby([\"SANGER_MODEL_ID\", \"drug_name_revised\"])[\"LN_IC50\"].mean().reset_index()\n",
    "print(f\"ic50_gdsc_v1.shape: {ic50_gdsc_v1.shape}\")\n",
    "# double check\n",
    "mask_dup = ic50_gdsc_v1.duplicated([\"SANGER_MODEL_ID\", \"drug_name_revised\"])\n",
    "print(f\"mask_dup.sum: {mask_dup.sum()}\")"
   ]
  },
  {
   "cell_type": "code",
   "execution_count": 27,
   "id": "471fa9e5",
   "metadata": {},
   "outputs": [
    {
     "name": "stdout",
     "output_type": "stream",
     "text": [
      "tcga_cancers.len: (33,)\n"
     ]
    }
   ],
   "source": [
    "# mapping of cancer types between ccle and tcga\n",
    "# cancer type: CCLE vs. TCGA\n",
    "\n",
    "tcga_cancers = pheno_tcga_raw[\"TCGA PanCanAtlas Cancer Type Acronym\"].unique()\n",
    "print(f\"tcga_cancers.len: {tcga_cancers.shape}\")\n",
    "\n",
    "cancer_ccle_unique = np.setdiff1d(cell_anno_ccle.OncotreeCode.unique().astype(str), tcga_cancers)\n",
    "tcga_unique = np.setdiff1d(tcga_cancers, cell_anno_ccle.OncotreeCode.unique().astype(str))\n",
    "cancer_inter = np.intersect1d(tcga_cancers, cell_anno_ccle.OncotreeCode.unique().astype(str))"
   ]
  },
  {
   "cell_type": "code",
   "execution_count": 28,
   "id": "6eb8b782",
   "metadata": {},
   "outputs": [],
   "source": [
    "cancer_typer_dict = {\n",
    "    'AASTR': 'LGG',\n",
    "    'ABC': 'Non-Hodgkin Lymphoma',\n",
    "    'ACRM': 'SKCM',\n",
    "    'ALAL': 'Myeloid',\n",
    "    'ALCLALKN': 'Non-Hodgkin Lymphoma',\n",
    "    'ALCLALKP': 'Non-Hodgkin Lymphoma',\n",
    "    'AM': 'Myeloid',\n",
    "    'AMKL': 'Myeloid',\n",
    "    'AML': 'Myeloid',\n",
    "    'AMLGATA2MECOM': 'Myeloid',\n",
    "    'AMML': 'Myeloid',\n",
    "    'AMOL': 'Myeloid',\n",
    "    'AMPCA': 'AMPCA',\n",
    "    'ARMS': 'SARC',\n",
    "    'ASTR': 'LGG',\n",
    "    'ATLL': 'Non-Hodgkin Lymphoma',\n",
    "    'ATRT': 'Embryonal Tumor',\n",
    "    'BL': 'Non-Hodgkin Lymphoma',\n",
    "    'BLL': 'Lymphoid',\n",
    "    'BLLBCRABL1': 'Lymphoid',\n",
    "    'BLSC': 'BLCA',\n",
    "    'BNNOS': 'BNNOS',\n",
    "    'BPLL': 'Non-Hodgkin Lymphoma',\n",
    "    'BRCANOS': 'BRCA',\n",
    "    'BRCNOS': 'BRCA',\n",
    "    'BTMOV': 'OV',\n",
    "    'CCOV': 'OV',\n",
    "    'CCRCC': 'KIRC',\n",
    "    'CEAD': 'CESC',\n",
    "    'CEGCC': 'CEGCC',\n",
    "    'CELNOS': 'CELNOS',\n",
    "    'CHDM': 'CHDM',\n",
    "    'CHS': 'SARC',\n",
    "    'CLLSLL': 'Non-Hodgkin Lymphoma',\n",
    "    'CML': 'Myeloproliferative Neoplasms',\n",
    "    'CMLBCRABL1': 'Myeloproliferative Neoplasms',\n",
    "    'COADREAD': 'COAD',\n",
    "    'CSCC': 'CSCC',\n",
    "    'DA': 'Small Bowel Cancer',\n",
    "    'DCIS': 'BRCA',\n",
    "    'DDCHS': 'SARC',\n",
    "    'DDLS': 'SARC',\n",
    "    'DLBCLNOS': 'Non-Hodgkin Lymphoma',\n",
    "    'DSTAD': 'STAD',\n",
    "    'ECAD': 'CESC',\n",
    "    'EGCT': 'Extra Gonadal Germ Cell Tumor',\n",
    "    'EHCH': 'EHCH',\n",
    "    'EMBCA': 'Embryonal Tumor',\n",
    "    'EMCHS': 'SARC',\n",
    "    'EOV': 'OV',\n",
    "    'EPIS': 'SARC',\n",
    "    'ERMS': 'SARC',\n",
    "    'ES': 'SARC',\n",
    "    'ESCC': 'ESCA',\n",
    "    'ESS': 'Endometrial Stromal Sarcoma',\n",
    "    'FIBS': 'SARC',\n",
    "    'FL': 'Non-Hodgkin Lymphoma',\n",
    "    'FTCL': 'Non-Hodgkin Lymphoma',\n",
    "    'GB': 'GBM',\n",
    "    'GBAD': 'Gallbladder Cancer',\n",
    "    'GBC': 'Gallbladder Cancer',\n",
    "    'GCB': 'Non-Hodgkin Lymphoma',\n",
    "    'GCLC': 'NSCLC',\n",
    "    'GEJ': 'STAD',\n",
    "    'GIST': 'GIST',\n",
    "    'GRCT': 'Granulosa Cell Tumor',\n",
    "    'GSARC': 'SARC',\n",
    "    'HCC': 'LIHC',\n",
    "    'HCCIHCH': 'LIHC',\n",
    "    'HCL': 'Non-Hodgkin Lymphoma',\n",
    "    'HGSOC': 'OV',\n",
    "    'HL': 'Hodgkin Lymphoma',\n",
    "    'HPHSC': 'HNSC',\n",
    "    'HSTCL': 'Non-Hodgkin Lymphoma',\n",
    "    'IDC': 'BRCA',\n",
    "    'IHCH': 'LIHC',\n",
    "    'ILC': 'BRCA',\n",
    "    'LCLC': 'NSCLC',\n",
    "    'LGSOC': 'OV',\n",
    "    'LIHB': 'LIHC',\n",
    "    'LIPO': 'SARC',\n",
    "    'LMS': 'SARC',\n",
    "    'LUAS': 'LUAD',\n",
    "    'LUCA': 'Neuroendocrine Tumor',\n",
    "    'LUMEC': 'NSCLC',\n",
    "    'LXSC': 'HNSC',\n",
    "    'MACR': 'COAD',\n",
    "    'MBL': 'Embryonal Tumor',\n",
    "    'MBN': 'Non-Hodgkin Lymphoma',\n",
    "    'MCC': 'Merkel Cell Carcinoma',\n",
    "    'MCCE': 'CESC',\n",
    "    'MCL': 'Non-Hodgkin Lymphoma',\n",
    "    'MDS': 'Myelodysplastic Syndromes',\n",
    "    'MEL': 'SKCM',\n",
    "    'MFH': 'SARC',\n",
    "    'MLADS': 'Myeloid Leukemia',\n",
    "    'MNG': 'Meningioma',\n",
    "    'MOV': 'OV',\n",
    "    'MPNST': 'Nerve Sheath Tumor',\n",
    "    'MRC': 'Renal Medullary Carcinoma',\n",
    "    'MRT': 'Rhabdoid Cancer',\n",
    "    'MSTAD': 'STAD',\n",
    "    'MTNN': 'Non-Hodgkin Lymphoma',\n",
    "    'MUCC': 'Salivary Carcinoma',\n",
    "    'MXOV': 'OV',\n",
    "    'MYCF': 'Non-Hodgkin Lymphoma',\n",
    "    'NBL': 'Neuroblastoma',\n",
    "    'NHL': 'Non-Hodgkin Lymphoma',\n",
    "    'NKCLL': 'Lymphoid',\n",
    "    'NSCLC': 'NSCLC',\n",
    "    'OCSC': 'HNSC',\n",
    "    'ODG': 'LGG',\n",
    "    'OHNCA': 'HNSC',\n",
    "    'OMGCT': 'Mixed Germ Cell Tumor',\n",
    "    'OOVC': 'OV',\n",
    "    'OPHSC': 'HNSC',\n",
    "    'OS': 'SARC',\n",
    "    'PAASC': 'PAAD',\n",
    "    'PANET': 'Neuroendocrine Tumor',\n",
    "    'PCM': 'Non-Hodgkin Lymphoma',\n",
    "    'PEL': 'Non-Hodgkin Lymphoma',\n",
    "    'PLBMESO': 'Pleural Mesothelioma',\n",
    "    'PLEMESO': 'Pleural Mesothelioma',\n",
    "    'PLMESO': 'Pleural Mesothelioma',\n",
    "    'PLSMESO': 'Pleural Mesothelioma',\n",
    "    'PMBL': 'Non-Hodgkin Lymphoma',\n",
    "    'PNET': 'Embryonal Tumor',\n",
    "    'PRCC': 'KIRC',\n",
    "    'PRSCC': 'Prostate Small Cell Carcinoma',\n",
    "    'RBL': 'Retinoblastoma',\n",
    "    'RCC': 'KIRC',\n",
    "    'RMS': 'SARC',\n",
    "    'SARCNOS': 'SARC',\n",
    "    'SCCE': 'CESC',\n",
    "    'SCCO': 'OV',\n",
    "    'SCLC': 'SCLC',\n",
    "    'SMZL': 'Non-Hodgkin Lymphoma',\n",
    "    'SNSC': 'HNSC',\n",
    "    'SOC': 'OV',\n",
    "    'SS': 'Non-Hodgkin Lymphoma',\n",
    "    'SSRCC': 'STAD',\n",
    "    'STAS': 'STAD',\n",
    "    'STSC': 'STAD',\n",
    "    'SYNS': 'SARC',\n",
    "    'THAP': 'THCA',\n",
    "    'THFO': 'THCA',\n",
    "    'THME': 'THCA',\n",
    "    'THPA': 'THCA',\n",
    "    'THPD': 'THCA',\n",
    "    'TLGL': 'Non-Hodgkin Lymphoma',\n",
    "    'TLL': 'Lymphoid',\n",
    "    'TSTAD': 'STAD',\n",
    "    'TT': 'Teratoma',\n",
    "    'UASC': 'UCEC',\n",
    "    'UCCA': 'Choriocarcinoma',\n",
    "    'UCCC': 'UCEC',\n",
    "    'UCU': 'Urethral Cancer',\n",
    "    'ULMS': 'SARC',\n",
    "    'UM': 'SKCM',\n",
    "    'USARC': 'SARC',\n",
    "    'VMM': 'SKCM',\n",
    "    'VSC': 'VSC',\n",
    "    'WDLS': 'SARC'\n",
    "}"
   ]
  },
  {
   "cell_type": "code",
   "execution_count": 29,
   "id": "a9709bf7",
   "metadata": {},
   "outputs": [
    {
     "name": "stdout",
     "output_type": "stream",
     "text": [
      "df_ccleUniuqe.shape: (163, 2)\n",
      "df_inter.shape: (17, 2)\n",
      "df_cancerType_mapping_CCLEandTCGA.shape: (180, 2)\n"
     ]
    }
   ],
   "source": [
    "df_ccleUniuqe = pd.DataFrame.from_dict(cancer_typer_dict,\n",
    "                                       orient=\"index\",\n",
    "                                       dtype=\"str\").reset_index()\n",
    "df_ccleUniuqe.columns = [\"OncotreeCode_CCLE\", \"cancerType_TCGA\"]\n",
    "print(f\"df_ccleUniuqe.shape: {df_ccleUniuqe.shape}\")\n",
    "#\n",
    "df_inter = pd.DataFrame({\n",
    "    \"OncotreeCode_CCLE\": cancer_inter,\n",
    "    \"cancerType_TCGA\": cancer_inter\n",
    "})\n",
    "print(f\"df_inter.shape: {df_inter.shape}\")\n",
    "#\n",
    "df_cancerType_mapping_CCLEandTCGA = pd.concat([df_ccleUniuqe, df_inter])\n",
    "print(f\"df_cancerType_mapping_CCLEandTCGA.shape: {df_cancerType_mapping_CCLEandTCGA.shape}\")"
   ]
  },
  {
   "cell_type": "code",
   "execution_count": 30,
   "id": "e09908a3",
   "metadata": {},
   "outputs": [
    {
     "data": {
      "text/plain": [
       "163    nan\n",
       "dtype: object"
      ]
     },
     "execution_count": 30,
     "metadata": {},
     "output_type": "execute_result"
    }
   ],
   "source": [
    "# double check\n",
    "mask = pd.Series(cancer_ccle_unique).isin(cancer_typer_dict.keys())\n",
    "pd.Series(cancer_ccle_unique)[~mask]"
   ]
  },
  {
   "cell_type": "code",
   "execution_count": 31,
   "id": "8f9074a5",
   "metadata": {},
   "outputs": [
    {
     "name": "stdout",
     "output_type": "stream",
     "text": [
      "cell_anno_ccle.shape: (1826, 23)\n",
      "cell_anno_ccle_v1.shape: (1719, 25)\n",
      "x: ['nan']\n"
     ]
    }
   ],
   "source": [
    "# add cancer type TCGA to ccle anno\n",
    "cell_anno_ccle_v1 = pd.merge(cell_anno_ccle, df_cancerType_mapping_CCLEandTCGA,\n",
    "                            left_on = \"OncotreeCode\", right_on = \"OncotreeCode_CCLE\",\n",
    "                            how = \"inner\")\n",
    "print(f\"cell_anno_ccle.shape: {cell_anno_ccle.shape}\")\n",
    "print(f\"cell_anno_ccle_v1.shape: {cell_anno_ccle_v1.shape}\")\n",
    "\n",
    "x = np.setdiff1d(cell_anno_ccle.OncotreeCode.unique().astype(str), cell_anno_ccle_v1.OncotreeCode.unique())\n",
    "print(f\"x: {x}\")"
   ]
  },
  {
   "cell_type": "code",
   "execution_count": 32,
   "id": "5c4835e2",
   "metadata": {},
   "outputs": [
    {
     "name": "stdout",
     "output_type": "stream",
     "text": [
      "[nan]\n",
      "18901 169\n",
      "ic50_gdsc_v2.shape: (18901, 28)\n"
     ]
    }
   ],
   "source": [
    "# add annotation\n",
    "mask_dup = cell_anno_ccle_v1[\"SangerModelID\"].duplicated(keep = False)\n",
    "print(cell_anno_ccle_v1.loc[mask_dup, 'SangerModelID'].unique()) # all are NAs\n",
    "#\n",
    "mask1 = ic50_gdsc_v1.SANGER_MODEL_ID.isin(cell_anno_ccle_v1.SangerModelID)\n",
    "print(sum(mask1), sum(~mask1))\n",
    "#\n",
    "ic50_gdsc_v2 = pd.merge(ic50_gdsc_v1, \n",
    "                               cell_anno_ccle_v1,\n",
    "                               left_on = \"SANGER_MODEL_ID\",\n",
    "                              right_on = \"SangerModelID\",\n",
    "                              how = \"inner\")\n",
    "print(\"ic50_gdsc_v2.shape: {}\".format(ic50_gdsc_v2.shape))"
   ]
  },
  {
   "cell_type": "code",
   "execution_count": 33,
   "id": "704b6cf4",
   "metadata": {},
   "outputs": [
    {
     "name": "stdout",
     "output_type": "stream",
     "text": [
      "drug_count.shape: (21,)\n",
      "mask1.sum: 1816\n",
      "ic50_gdsc_v3.shape: (17085, 28)\n",
      "cancer_keep_raw: \n",
      "Index(['BRCA', 'COAD', 'ESCA', 'GBM', 'HNSC', 'KIRC', 'LUAD', 'Lymphoid',\n",
      "       'Neuroblastoma', 'Non-Hodgkin Lymphoma', 'OV', 'PAAD', 'SARC', 'SCLC',\n",
      "       'SKCM'],\n",
      "      dtype='object', name='cancerType_TCGA')\n",
      "cancer_type_keep.len: (12,)\n",
      "cancer_type_keep: ['BRCA' 'COAD' 'ESCA' 'GBM' 'HNSC' 'KIRC' 'LUAD' 'OV' 'PAAD' 'SARC' 'SCLC'\n",
      " 'SKCM']\n",
      "after mask2, ic50_gdsc_v3.shape: (9653, 28)\n"
     ]
    }
   ],
   "source": [
    "# filter ic50_gdsc_v2 by cancer tyepr and drug\n",
    "#\n",
    "drug_count = pd.crosstab(ic50_gdsc_v2.cancerType_TCGA,\n",
    "                                ic50_gdsc_v2.drug_name_revised).sum(axis = 0)\n",
    "print(f\"drug_count.shape: {drug_count.shape}\")\n",
    "# conclusion: Sunitinib has 396 items, Dacarbazine and Zoledronate have 712, \n",
    "# all the rest have items more than 850\n",
    "# so, remove them\n",
    "drug_rm = [\"Sunitinib\", \"Dacarbazine\", \"Zoledronate\"]\n",
    "mask1 = ic50_gdsc_v2.drug_name_revised.isin(drug_rm)\n",
    "ic50_gdsc_v3 = ic50_gdsc_v2.loc[~mask1, :]\n",
    "print(f\"mask1.sum: {mask1.sum()}\")\n",
    "print(f\"ic50_gdsc_v3.shape: {ic50_gdsc_v3.shape}\")\n",
    "\n",
    "#\n",
    "cancer_type_count = pd.crosstab(ic50_gdsc_v3.cancerType_TCGA,\n",
    "                                ic50_gdsc_v3.drug_name_revised).sum(axis = 1)\n",
    "N_cancer_cutoff = 30 * 18 # 21-3 drugs, 30 iterms per drug per cancer type\n",
    "cancer_keep_raw = cancer_type_count[cancer_type_count >= N_cancer_cutoff].index\n",
    "print(f\"cancer_keep_raw: \\n{cancer_keep_raw}\")\n",
    "cancer_rm = ['Lymphoid', 'Non-Hodgkin Lymphoma', 'Myeloid', 'Neuroblastoma']\n",
    "#\n",
    "cancer_type_keep = np.setdiff1d(cancer_keep_raw, cancer_rm)\n",
    "print(f\"cancer_type_keep.len: {cancer_type_keep.shape}\")\n",
    "print(f\"cancer_type_keep: {cancer_type_keep}\")\n",
    "\n",
    "#\n",
    "mask2 = ic50_gdsc_v3['cancerType_TCGA'].isin(cancer_type_keep)\n",
    "ic50_gdsc_v3 = ic50_gdsc_v3.loc[mask2, :]\n",
    "print(f'after mask2, ic50_gdsc_v3.shape: {ic50_gdsc_v3.shape}')"
   ]
  },
  {
   "cell_type": "code",
   "execution_count": 34,
   "id": "575c4328",
   "metadata": {},
   "outputs": [
    {
     "data": {
      "text/html": [
       "<div>\n",
       "<style scoped>\n",
       "    .dataframe tbody tr th:only-of-type {\n",
       "        vertical-align: middle;\n",
       "    }\n",
       "\n",
       "    .dataframe tbody tr th {\n",
       "        vertical-align: top;\n",
       "    }\n",
       "\n",
       "    .dataframe thead th {\n",
       "        text-align: right;\n",
       "    }\n",
       "</style>\n",
       "<table border=\"1\" class=\"dataframe\">\n",
       "  <thead>\n",
       "    <tr style=\"text-align: right;\">\n",
       "      <th></th>\n",
       "      <th>SANGER_MODEL_ID</th>\n",
       "      <th>drug_name_revised</th>\n",
       "      <th>LN_IC50</th>\n",
       "      <th>PatientID</th>\n",
       "      <th>CellLineName</th>\n",
       "      <th>StrippedCellLineName</th>\n",
       "      <th>Age</th>\n",
       "      <th>SourceType</th>\n",
       "      <th>SangerModelID</th>\n",
       "      <th>RRID</th>\n",
       "      <th>...</th>\n",
       "      <th>CCLEName</th>\n",
       "      <th>COSMICID</th>\n",
       "      <th>PublicComments</th>\n",
       "      <th>WTSIMasterCellID</th>\n",
       "      <th>OncotreeCode</th>\n",
       "      <th>OncotreeSubtype</th>\n",
       "      <th>OncotreePrimaryDisease</th>\n",
       "      <th>OncotreeLineage</th>\n",
       "      <th>OncotreeCode_CCLE</th>\n",
       "      <th>cancerType_TCGA</th>\n",
       "    </tr>\n",
       "  </thead>\n",
       "  <tbody>\n",
       "    <tr>\n",
       "      <th>0</th>\n",
       "      <td>SIDM00003</td>\n",
       "      <td>Bicalutamide</td>\n",
       "      <td>2.619632</td>\n",
       "      <td>PT-3NwoWt</td>\n",
       "      <td>M14</td>\n",
       "      <td>M14</td>\n",
       "      <td>33.0</td>\n",
       "      <td>NaN</td>\n",
       "      <td>SIDM00003</td>\n",
       "      <td>CVCL_1395</td>\n",
       "      <td>...</td>\n",
       "      <td>M14_SKIN</td>\n",
       "      <td>905975.0</td>\n",
       "      <td>NaN</td>\n",
       "      <td>586.0</td>\n",
       "      <td>MEL</td>\n",
       "      <td>Melanoma</td>\n",
       "      <td>Melanoma</td>\n",
       "      <td>Skin</td>\n",
       "      <td>MEL</td>\n",
       "      <td>SKCM</td>\n",
       "    </tr>\n",
       "    <tr>\n",
       "      <th>1</th>\n",
       "      <td>SIDM00003</td>\n",
       "      <td>Cisplatin</td>\n",
       "      <td>2.935488</td>\n",
       "      <td>PT-3NwoWt</td>\n",
       "      <td>M14</td>\n",
       "      <td>M14</td>\n",
       "      <td>33.0</td>\n",
       "      <td>NaN</td>\n",
       "      <td>SIDM00003</td>\n",
       "      <td>CVCL_1395</td>\n",
       "      <td>...</td>\n",
       "      <td>M14_SKIN</td>\n",
       "      <td>905975.0</td>\n",
       "      <td>NaN</td>\n",
       "      <td>586.0</td>\n",
       "      <td>MEL</td>\n",
       "      <td>Melanoma</td>\n",
       "      <td>Melanoma</td>\n",
       "      <td>Skin</td>\n",
       "      <td>MEL</td>\n",
       "      <td>SKCM</td>\n",
       "    </tr>\n",
       "  </tbody>\n",
       "</table>\n",
       "<p>2 rows × 28 columns</p>\n",
       "</div>"
      ],
      "text/plain": [
       "  SANGER_MODEL_ID drug_name_revised   LN_IC50  PatientID CellLineName  \\\n",
       "0       SIDM00003      Bicalutamide  2.619632  PT-3NwoWt          M14   \n",
       "1       SIDM00003         Cisplatin  2.935488  PT-3NwoWt          M14   \n",
       "\n",
       "  StrippedCellLineName   Age SourceType SangerModelID       RRID  ...  \\\n",
       "0                  M14  33.0        NaN     SIDM00003  CVCL_1395  ...   \n",
       "1                  M14  33.0        NaN     SIDM00003  CVCL_1395  ...   \n",
       "\n",
       "   CCLEName  COSMICID PublicComments WTSIMasterCellID OncotreeCode  \\\n",
       "0  M14_SKIN  905975.0            NaN            586.0          MEL   \n",
       "1  M14_SKIN  905975.0            NaN            586.0          MEL   \n",
       "\n",
       "  OncotreeSubtype OncotreePrimaryDisease  OncotreeLineage OncotreeCode_CCLE  \\\n",
       "0        Melanoma               Melanoma             Skin               MEL   \n",
       "1        Melanoma               Melanoma             Skin               MEL   \n",
       "\n",
       "   cancerType_TCGA  \n",
       "0             SKCM  \n",
       "1             SKCM  \n",
       "\n",
       "[2 rows x 28 columns]"
      ]
     },
     "execution_count": 34,
     "metadata": {},
     "output_type": "execute_result"
    }
   ],
   "source": [
    "ic50_gdsc_v3.head(2)"
   ]
  },
  {
   "cell_type": "code",
   "execution_count": 35,
   "id": "df937f67",
   "metadata": {},
   "outputs": [
    {
     "data": {
      "text/html": [
       "<div>\n",
       "<style scoped>\n",
       "    .dataframe tbody tr th:only-of-type {\n",
       "        vertical-align: middle;\n",
       "    }\n",
       "\n",
       "    .dataframe tbody tr th {\n",
       "        vertical-align: top;\n",
       "    }\n",
       "\n",
       "    .dataframe thead th {\n",
       "        text-align: right;\n",
       "    }\n",
       "</style>\n",
       "<table border=\"1\" class=\"dataframe\">\n",
       "  <thead>\n",
       "    <tr style=\"text-align: right;\">\n",
       "      <th></th>\n",
       "      <th>OncotreeCode_CCLE</th>\n",
       "      <th>cancerType_TCGA</th>\n",
       "    </tr>\n",
       "  </thead>\n",
       "  <tbody>\n",
       "    <tr>\n",
       "      <th>0</th>\n",
       "      <td>AASTR</td>\n",
       "      <td>LGG</td>\n",
       "    </tr>\n",
       "    <tr>\n",
       "      <th>1</th>\n",
       "      <td>ABC</td>\n",
       "      <td>Non-Hodgkin Lymphoma</td>\n",
       "    </tr>\n",
       "  </tbody>\n",
       "</table>\n",
       "</div>"
      ],
      "text/plain": [
       "  OncotreeCode_CCLE       cancerType_TCGA\n",
       "0             AASTR                   LGG\n",
       "1               ABC  Non-Hodgkin Lymphoma"
      ]
     },
     "execution_count": 35,
     "metadata": {},
     "output_type": "execute_result"
    }
   ],
   "source": [
    "df_cancerType_mapping_CCLEandTCGA.head(2)"
   ]
  },
  {
   "cell_type": "code",
   "execution_count": 36,
   "id": "59614ea1",
   "metadata": {},
   "outputs": [],
   "source": [
    "?df_cancerType_mapping_CCLEandTCGA.to_csv"
   ]
  },
  {
   "cell_type": "code",
   "execution_count": 38,
   "id": "90ff6e3f",
   "metadata": {},
   "outputs": [],
   "source": [
    "# save\n",
    "df_cancerType_mapping_CCLEandTCGA.to_csv(\"../data_temp/df_cancerType_mapping_CCLEandTCGA.csv\", index = False)"
   ]
  },
  {
   "cell_type": "markdown",
   "id": "660062b7",
   "metadata": {},
   "source": [
    "## observe ic50_gdsc_v3: distribution, et al."
   ]
  },
  {
   "cell_type": "code",
   "execution_count": 26,
   "id": "693ce495",
   "metadata": {},
   "outputs": [],
   "source": [
    "import matplotlib.pyplot as plt"
   ]
  },
  {
   "cell_type": "code",
   "execution_count": 39,
   "id": "80538ee2",
   "metadata": {},
   "outputs": [
    {
     "data": {
      "text/html": [
       "<div>\n",
       "<style scoped>\n",
       "    .dataframe tbody tr th:only-of-type {\n",
       "        vertical-align: middle;\n",
       "    }\n",
       "\n",
       "    .dataframe tbody tr th {\n",
       "        vertical-align: top;\n",
       "    }\n",
       "\n",
       "    .dataframe thead th {\n",
       "        text-align: right;\n",
       "    }\n",
       "</style>\n",
       "<table border=\"1\" class=\"dataframe\">\n",
       "  <thead>\n",
       "    <tr style=\"text-align: right;\">\n",
       "      <th></th>\n",
       "      <th>count</th>\n",
       "      <th>mean</th>\n",
       "      <th>std</th>\n",
       "      <th>min</th>\n",
       "      <th>25%</th>\n",
       "      <th>50%</th>\n",
       "      <th>75%</th>\n",
       "      <th>max</th>\n",
       "    </tr>\n",
       "    <tr>\n",
       "      <th>drug_name_revised</th>\n",
       "      <th></th>\n",
       "      <th></th>\n",
       "      <th></th>\n",
       "      <th></th>\n",
       "      <th></th>\n",
       "      <th></th>\n",
       "      <th></th>\n",
       "      <th></th>\n",
       "    </tr>\n",
       "  </thead>\n",
       "  <tbody>\n",
       "    <tr>\n",
       "      <th>Bicalutamide</th>\n",
       "      <td>544.0</td>\n",
       "      <td>3.358614</td>\n",
       "      <td>1.167542</td>\n",
       "      <td>0.412596</td>\n",
       "      <td>2.526035</td>\n",
       "      <td>2.962292</td>\n",
       "      <td>4.091079</td>\n",
       "      <td>8.117291</td>\n",
       "    </tr>\n",
       "    <tr>\n",
       "      <th>Cisplatin</th>\n",
       "      <td>534.0</td>\n",
       "      <td>3.470756</td>\n",
       "      <td>1.725471</td>\n",
       "      <td>-1.729818</td>\n",
       "      <td>2.316679</td>\n",
       "      <td>3.340573</td>\n",
       "      <td>4.543105</td>\n",
       "      <td>9.246956</td>\n",
       "    </tr>\n",
       "    <tr>\n",
       "      <th>Cyclophosphamide</th>\n",
       "      <td>535.0</td>\n",
       "      <td>5.485460</td>\n",
       "      <td>0.841350</td>\n",
       "      <td>3.121873</td>\n",
       "      <td>4.966275</td>\n",
       "      <td>5.483147</td>\n",
       "      <td>5.950109</td>\n",
       "      <td>8.899644</td>\n",
       "    </tr>\n",
       "    <tr>\n",
       "      <th>Dasatinib</th>\n",
       "      <td>544.0</td>\n",
       "      <td>1.485265</td>\n",
       "      <td>2.178961</td>\n",
       "      <td>-3.895545</td>\n",
       "      <td>-0.150274</td>\n",
       "      <td>1.703187</td>\n",
       "      <td>3.274466</td>\n",
       "      <td>6.915985</td>\n",
       "    </tr>\n",
       "    <tr>\n",
       "      <th>Docetaxel</th>\n",
       "      <td>546.0</td>\n",
       "      <td>-4.078585</td>\n",
       "      <td>1.597049</td>\n",
       "      <td>-7.308510</td>\n",
       "      <td>-5.307286</td>\n",
       "      <td>-4.147839</td>\n",
       "      <td>-3.049849</td>\n",
       "      <td>0.857092</td>\n",
       "    </tr>\n",
       "    <tr>\n",
       "      <th>Doxorubicin</th>\n",
       "      <td>538.0</td>\n",
       "      <td>-1.614968</td>\n",
       "      <td>1.690033</td>\n",
       "      <td>-5.395225</td>\n",
       "      <td>-2.852567</td>\n",
       "      <td>-1.732883</td>\n",
       "      <td>-0.611088</td>\n",
       "      <td>3.659683</td>\n",
       "    </tr>\n",
       "    <tr>\n",
       "      <th>Erlotinib</th>\n",
       "      <td>543.0</td>\n",
       "      <td>3.106234</td>\n",
       "      <td>1.532610</td>\n",
       "      <td>-2.707414</td>\n",
       "      <td>2.152659</td>\n",
       "      <td>3.216069</td>\n",
       "      <td>4.203496</td>\n",
       "      <td>6.915784</td>\n",
       "    </tr>\n",
       "    <tr>\n",
       "      <th>Etoposide</th>\n",
       "      <td>487.0</td>\n",
       "      <td>1.770230</td>\n",
       "      <td>1.968835</td>\n",
       "      <td>-2.896512</td>\n",
       "      <td>0.344834</td>\n",
       "      <td>1.691213</td>\n",
       "      <td>3.013814</td>\n",
       "      <td>6.911835</td>\n",
       "    </tr>\n",
       "    <tr>\n",
       "      <th>Fluorouracil</th>\n",
       "      <td>545.0</td>\n",
       "      <td>4.744464</td>\n",
       "      <td>1.557623</td>\n",
       "      <td>0.879116</td>\n",
       "      <td>3.623564</td>\n",
       "      <td>4.651282</td>\n",
       "      <td>5.678227</td>\n",
       "      <td>10.204099</td>\n",
       "    </tr>\n",
       "    <tr>\n",
       "      <th>Gemcitabine</th>\n",
       "      <td>546.0</td>\n",
       "      <td>-0.253276</td>\n",
       "      <td>2.875256</td>\n",
       "      <td>-7.242160</td>\n",
       "      <td>-2.631628</td>\n",
       "      <td>-0.619409</td>\n",
       "      <td>1.884733</td>\n",
       "      <td>7.735116</td>\n",
       "    </tr>\n",
       "    <tr>\n",
       "      <th>Oxaliplatin</th>\n",
       "      <td>541.0</td>\n",
       "      <td>4.253833</td>\n",
       "      <td>1.526706</td>\n",
       "      <td>-0.702150</td>\n",
       "      <td>3.178306</td>\n",
       "      <td>4.190193</td>\n",
       "      <td>5.262765</td>\n",
       "      <td>8.716544</td>\n",
       "    </tr>\n",
       "    <tr>\n",
       "      <th>Paclitaxel</th>\n",
       "      <td>544.0</td>\n",
       "      <td>-2.561576</td>\n",
       "      <td>1.967245</td>\n",
       "      <td>-6.667084</td>\n",
       "      <td>-4.200396</td>\n",
       "      <td>-2.768338</td>\n",
       "      <td>-1.016213</td>\n",
       "      <td>2.981220</td>\n",
       "    </tr>\n",
       "    <tr>\n",
       "      <th>Pazopanib</th>\n",
       "      <td>483.0</td>\n",
       "      <td>3.242273</td>\n",
       "      <td>1.257571</td>\n",
       "      <td>-2.301194</td>\n",
       "      <td>2.409409</td>\n",
       "      <td>3.255803</td>\n",
       "      <td>4.187000</td>\n",
       "      <td>5.967332</td>\n",
       "    </tr>\n",
       "    <tr>\n",
       "      <th>Sorafenib</th>\n",
       "      <td>543.0</td>\n",
       "      <td>2.809492</td>\n",
       "      <td>1.042874</td>\n",
       "      <td>-0.634442</td>\n",
       "      <td>2.132648</td>\n",
       "      <td>2.614768</td>\n",
       "      <td>3.357772</td>\n",
       "      <td>6.862843</td>\n",
       "    </tr>\n",
       "    <tr>\n",
       "      <th>Tamoxifen</th>\n",
       "      <td>546.0</td>\n",
       "      <td>4.265806</td>\n",
       "      <td>1.175762</td>\n",
       "      <td>1.277015</td>\n",
       "      <td>3.442398</td>\n",
       "      <td>4.187734</td>\n",
       "      <td>5.034156</td>\n",
       "      <td>8.433143</td>\n",
       "    </tr>\n",
       "    <tr>\n",
       "      <th>Temozolomide</th>\n",
       "      <td>546.0</td>\n",
       "      <td>6.639061</td>\n",
       "      <td>1.055623</td>\n",
       "      <td>2.321905</td>\n",
       "      <td>5.983779</td>\n",
       "      <td>6.641064</td>\n",
       "      <td>7.260606</td>\n",
       "      <td>9.811507</td>\n",
       "    </tr>\n",
       "    <tr>\n",
       "      <th>Temsirolimus</th>\n",
       "      <td>544.0</td>\n",
       "      <td>1.156336</td>\n",
       "      <td>1.575379</td>\n",
       "      <td>-5.861426</td>\n",
       "      <td>0.258553</td>\n",
       "      <td>1.219901</td>\n",
       "      <td>2.218842</td>\n",
       "      <td>6.090144</td>\n",
       "    </tr>\n",
       "    <tr>\n",
       "      <th>Vinorelbine</th>\n",
       "      <td>544.0</td>\n",
       "      <td>-2.550226</td>\n",
       "      <td>2.024758</td>\n",
       "      <td>-8.095602</td>\n",
       "      <td>-4.147308</td>\n",
       "      <td>-2.713205</td>\n",
       "      <td>-1.336589</td>\n",
       "      <td>3.591732</td>\n",
       "    </tr>\n",
       "  </tbody>\n",
       "</table>\n",
       "</div>"
      ],
      "text/plain": [
       "                   count      mean       std       min       25%       50%  \\\n",
       "drug_name_revised                                                            \n",
       "Bicalutamide       544.0  3.358614  1.167542  0.412596  2.526035  2.962292   \n",
       "Cisplatin          534.0  3.470756  1.725471 -1.729818  2.316679  3.340573   \n",
       "Cyclophosphamide   535.0  5.485460  0.841350  3.121873  4.966275  5.483147   \n",
       "Dasatinib          544.0  1.485265  2.178961 -3.895545 -0.150274  1.703187   \n",
       "Docetaxel          546.0 -4.078585  1.597049 -7.308510 -5.307286 -4.147839   \n",
       "Doxorubicin        538.0 -1.614968  1.690033 -5.395225 -2.852567 -1.732883   \n",
       "Erlotinib          543.0  3.106234  1.532610 -2.707414  2.152659  3.216069   \n",
       "Etoposide          487.0  1.770230  1.968835 -2.896512  0.344834  1.691213   \n",
       "Fluorouracil       545.0  4.744464  1.557623  0.879116  3.623564  4.651282   \n",
       "Gemcitabine        546.0 -0.253276  2.875256 -7.242160 -2.631628 -0.619409   \n",
       "Oxaliplatin        541.0  4.253833  1.526706 -0.702150  3.178306  4.190193   \n",
       "Paclitaxel         544.0 -2.561576  1.967245 -6.667084 -4.200396 -2.768338   \n",
       "Pazopanib          483.0  3.242273  1.257571 -2.301194  2.409409  3.255803   \n",
       "Sorafenib          543.0  2.809492  1.042874 -0.634442  2.132648  2.614768   \n",
       "Tamoxifen          546.0  4.265806  1.175762  1.277015  3.442398  4.187734   \n",
       "Temozolomide       546.0  6.639061  1.055623  2.321905  5.983779  6.641064   \n",
       "Temsirolimus       544.0  1.156336  1.575379 -5.861426  0.258553  1.219901   \n",
       "Vinorelbine        544.0 -2.550226  2.024758 -8.095602 -4.147308 -2.713205   \n",
       "\n",
       "                        75%        max  \n",
       "drug_name_revised                       \n",
       "Bicalutamide       4.091079   8.117291  \n",
       "Cisplatin          4.543105   9.246956  \n",
       "Cyclophosphamide   5.950109   8.899644  \n",
       "Dasatinib          3.274466   6.915985  \n",
       "Docetaxel         -3.049849   0.857092  \n",
       "Doxorubicin       -0.611088   3.659683  \n",
       "Erlotinib          4.203496   6.915784  \n",
       "Etoposide          3.013814   6.911835  \n",
       "Fluorouracil       5.678227  10.204099  \n",
       "Gemcitabine        1.884733   7.735116  \n",
       "Oxaliplatin        5.262765   8.716544  \n",
       "Paclitaxel        -1.016213   2.981220  \n",
       "Pazopanib          4.187000   5.967332  \n",
       "Sorafenib          3.357772   6.862843  \n",
       "Tamoxifen          5.034156   8.433143  \n",
       "Temozolomide       7.260606   9.811507  \n",
       "Temsirolimus       2.218842   6.090144  \n",
       "Vinorelbine       -1.336589   3.591732  "
      ]
     },
     "execution_count": 39,
     "metadata": {},
     "output_type": "execute_result"
    }
   ],
   "source": [
    "# observe data\n",
    "ic50_gdsc_v3.groupby(\"drug_name_revised\")[\"LN_IC50\"].describe()"
   ]
  },
  {
   "cell_type": "code",
   "execution_count": 40,
   "id": "b0b07d30",
   "metadata": {},
   "outputs": [
    {
     "name": "stdout",
     "output_type": "stream",
     "text": [
      "ic50_gdsc_v3_pivoted.shape: (548, 18)\n"
     ]
    },
    {
     "data": {
      "text/plain": [
       "<AxesSubplot: ylabel='Density'>"
      ]
     },
     "execution_count": 40,
     "metadata": {},
     "output_type": "execute_result"
    },
    {
     "data": {
      "image/png": "[encoded data removed]",
      "text/plain": [
       "<Figure size 700x700 with 1 Axes>"
      ]
     },
     "metadata": {},
     "output_type": "display_data"
    }
   ],
   "source": [
    "# distribution of drugs\n",
    "ic50_gdsc_v3_pivoted = ic50_gdsc_v3.pivot(index=\"SANGER_MODEL_ID\", columns=\"drug_name_revised\", values=\"LN_IC50\")\n",
    "print(f'ic50_gdsc_v3_pivoted.shape: {ic50_gdsc_v3_pivoted.shape}')\n",
    "\n",
    "# plot\n",
    "ic50_gdsc_v3_pivoted.plot.density(figsize = (7, 7), linewidth = 4)\n",
    "# conclusion: 2 parts: 1st part has low IC50, 2nd part have high IC50"
   ]
  },
  {
   "cell_type": "markdown",
   "id": "0033cebc",
   "metadata": {},
   "source": [
    "# intergrate SNV, GEP, pheno, and IC50 of gdsc"
   ]
  },
  {
   "cell_type": "markdown",
   "id": "68d1dd40",
   "metadata": {},
   "source": [
    "## raw data and preprocess"
   ]
  },
  {
   "cell_type": "code",
   "execution_count": 46,
   "id": "5f870809",
   "metadata": {},
   "outputs": [
    {
     "name": "stdout",
     "output_type": "stream",
     "text": [
      "  SANGER_MODEL_ID drug_name_revised   LN_IC50  PatientID CellLineName  \\\n",
      "0       SIDM00003      Bicalutamide  2.619632  PT-3NwoWt          M14   \n",
      "1       SIDM00003         Cisplatin  2.935488  PT-3NwoWt          M14   \n",
      "\n",
      "  StrippedCellLineName   Age SourceType SangerModelID       RRID  ...  \\\n",
      "0                  M14  33.0        NaN     SIDM00003  CVCL_1395  ...   \n",
      "1                  M14  33.0        NaN     SIDM00003  CVCL_1395  ...   \n",
      "\n",
      "   CCLEName  COSMICID PublicComments WTSIMasterCellID OncotreeCode  \\\n",
      "0  M14_SKIN  905975.0            NaN            586.0          MEL   \n",
      "1  M14_SKIN  905975.0            NaN            586.0          MEL   \n",
      "\n",
      "  OncotreeSubtype OncotreePrimaryDisease  OncotreeLineage OncotreeCode_CCLE  \\\n",
      "0        Melanoma               Melanoma             Skin               MEL   \n",
      "1        Melanoma               Melanoma             Skin               MEL   \n",
      "\n",
      "   cancerType_TCGA  \n",
      "0             SKCM  \n",
      "1             SKCM  \n",
      "\n",
      "[2 rows x 28 columns]\n",
      "tpm_gdsc.shape: (37606, 1433)\n"
     ]
    }
   ],
   "source": [
    "# raw data\n",
    "# ic50\n",
    "print(ic50_gdsc_v3.head(2))\n",
    "# snv\n",
    "snv_gdsc_raw = pd.read_csv(\"../data_input/GDSC/mutations_all_20230202.zip\") # the full version\n",
    "#\n",
    "# GEP of gdsc: raw data\n",
    "tpm_gdsc = pd.read_csv(\"../data_input/GDSC/rnaseq_tpm_20220624.csv\", dtype = 'str')\n",
    "print(f'tpm_gdsc.shape: {tpm_gdsc.shape}')"
   ]
  },
  {
   "cell_type": "code",
   "execution_count": 3,
   "id": "c4f88ba0",
   "metadata": {},
   "outputs": [
    {
     "data": {
      "text/html": [
       "<div>\n",
       "<style scoped>\n",
       "    .dataframe tbody tr th:only-of-type {\n",
       "        vertical-align: middle;\n",
       "    }\n",
       "\n",
       "    .dataframe tbody tr th {\n",
       "        vertical-align: top;\n",
       "    }\n",
       "\n",
       "    .dataframe thead th {\n",
       "        text-align: right;\n",
       "    }\n",
       "</style>\n",
       "<table border=\"1\" class=\"dataframe\">\n",
       "  <thead>\n",
       "    <tr style=\"text-align: right;\">\n",
       "      <th></th>\n",
       "      <th>gene_id</th>\n",
       "      <th>gene_symbol</th>\n",
       "      <th>model_id</th>\n",
       "      <th>protein_mutation</th>\n",
       "      <th>rna_mutation</th>\n",
       "      <th>cdna_mutation</th>\n",
       "      <th>cancer_driver</th>\n",
       "      <th>cancer_predisposition_variant</th>\n",
       "      <th>effect</th>\n",
       "      <th>vaf</th>\n",
       "      <th>coding</th>\n",
       "      <th>source</th>\n",
       "      <th>model_name</th>\n",
       "    </tr>\n",
       "  </thead>\n",
       "  <tbody>\n",
       "    <tr>\n",
       "      <th>0</th>\n",
       "      <td>SIDG17159</td>\n",
       "      <td>MAN1A2</td>\n",
       "      <td>SIDM01279</td>\n",
       "      <td>-</td>\n",
       "      <td>r.?</td>\n",
       "      <td>-</td>\n",
       "      <td>False</td>\n",
       "      <td>False</td>\n",
       "      <td>intronic</td>\n",
       "      <td>0.2973</td>\n",
       "      <td>False</td>\n",
       "      <td>Sanger</td>\n",
       "      <td>HCM-SANG-0269-C18</td>\n",
       "    </tr>\n",
       "    <tr>\n",
       "      <th>1</th>\n",
       "      <td>SIDG36607</td>\n",
       "      <td>ST8SIA5</td>\n",
       "      <td>SIDM02021</td>\n",
       "      <td>-</td>\n",
       "      <td>r.?</td>\n",
       "      <td>-</td>\n",
       "      <td>False</td>\n",
       "      <td>False</td>\n",
       "      <td>intronic</td>\n",
       "      <td>0.3889</td>\n",
       "      <td>False</td>\n",
       "      <td>Sanger</td>\n",
       "      <td>HCM-SANG-1082-C15</td>\n",
       "    </tr>\n",
       "    <tr>\n",
       "      <th>2</th>\n",
       "      <td>SIDG16700</td>\n",
       "      <td>LONRF2</td>\n",
       "      <td>SIDM02021</td>\n",
       "      <td>-</td>\n",
       "      <td>r.?</td>\n",
       "      <td>-</td>\n",
       "      <td>False</td>\n",
       "      <td>False</td>\n",
       "      <td>downstream</td>\n",
       "      <td>0.4667</td>\n",
       "      <td>False</td>\n",
       "      <td>Sanger</td>\n",
       "      <td>HCM-SANG-1082-C15</td>\n",
       "    </tr>\n",
       "    <tr>\n",
       "      <th>3</th>\n",
       "      <td>SIDG09188</td>\n",
       "      <td>FLRT2</td>\n",
       "      <td>SIDM01954</td>\n",
       "      <td>-</td>\n",
       "      <td>r.?</td>\n",
       "      <td>-</td>\n",
       "      <td>False</td>\n",
       "      <td>False</td>\n",
       "      <td>intronic</td>\n",
       "      <td>1.0000</td>\n",
       "      <td>False</td>\n",
       "      <td>Sanger</td>\n",
       "      <td>HCM-SANG-0537-C18</td>\n",
       "    </tr>\n",
       "    <tr>\n",
       "      <th>4</th>\n",
       "      <td>SIDG21177</td>\n",
       "      <td>MYO1E</td>\n",
       "      <td>SIDM01954</td>\n",
       "      <td>-</td>\n",
       "      <td>r.?</td>\n",
       "      <td>-</td>\n",
       "      <td>False</td>\n",
       "      <td>False</td>\n",
       "      <td>intronic</td>\n",
       "      <td>0.3611</td>\n",
       "      <td>False</td>\n",
       "      <td>Sanger</td>\n",
       "      <td>HCM-SANG-0537-C18</td>\n",
       "    </tr>\n",
       "  </tbody>\n",
       "</table>\n",
       "</div>"
      ],
      "text/plain": [
       "     gene_id gene_symbol   model_id protein_mutation rna_mutation  \\\n",
       "0  SIDG17159      MAN1A2  SIDM01279                -          r.?   \n",
       "1  SIDG36607     ST8SIA5  SIDM02021                -          r.?   \n",
       "2  SIDG16700      LONRF2  SIDM02021                -          r.?   \n",
       "3  SIDG09188       FLRT2  SIDM01954                -          r.?   \n",
       "4  SIDG21177       MYO1E  SIDM01954                -          r.?   \n",
       "\n",
       "  cdna_mutation  cancer_driver  cancer_predisposition_variant      effect  \\\n",
       "0             -          False                          False    intronic   \n",
       "1             -          False                          False    intronic   \n",
       "2             -          False                          False  downstream   \n",
       "3             -          False                          False    intronic   \n",
       "4             -          False                          False    intronic   \n",
       "\n",
       "      vaf  coding  source         model_name  \n",
       "0  0.2973   False  Sanger  HCM-SANG-0269-C18  \n",
       "1  0.3889   False  Sanger  HCM-SANG-1082-C15  \n",
       "2  0.4667   False  Sanger  HCM-SANG-1082-C15  \n",
       "3  1.0000   False  Sanger  HCM-SANG-0537-C18  \n",
       "4  0.3611   False  Sanger  HCM-SANG-0537-C18  "
      ]
     },
     "execution_count": 3,
     "metadata": {},
     "output_type": "execute_result"
    }
   ],
   "source": [
    "snv_gdsc_raw.head()"
   ]
  },
  {
   "cell_type": "code",
   "execution_count": 4,
   "id": "3e3f605c",
   "metadata": {},
   "outputs": [
    {
     "data": {
      "text/plain": [
       "array(['intronic', 'downstream', 'upstream', '3prime_UTR_variant',\n",
       "       '5prime_UTR_variant', 'missense', 'frameshift', 'ess_splice',\n",
       "       'splice_region', 'inframe', 'nc_variant', '5prime_UTR_ess_splice',\n",
       "       'nonsense', 'silent', 'stop_lost', '3prime_UTR_ess_splice',\n",
       "       'start_lost',\n",
       "       'SO:0000010:protein_coding,SO:0000147:exon,SO:0000205:three_prime_UTR,SO:0000316:CDS,SO:0000159:deletion,SO:0001634:500B_downstream_variant,SO:0001577:complex_change_in_transcript,SO:0001576:transcript_variant,SO:0001578:stop_lost',\n",
       "       'complex_sub', 'cds_disrupted', 'nc_ess_splice',\n",
       "       'SO:0000010:protein_coding,SO:0000188:intron,SO:0000205:three_prime_UTR,SO:0001996:extended_intronic_splice_region,SO:0000159:deletion,SO:0001624:3_prime_UTR_variant,SO:0001995:extended_intronic_splice_region_variant,SO:0001627:intron_variant,SO:0001576:transcript_variant',\n",
       "       'SO:0000011:non_protein_coding,SO:0001993:extended_cis_splice_site,SO:0001996:extended_intronic_splice_region,SO:1000032:indel,SO:0001995:extended_intronic_splice_region_variant,SO:0001629:splice_site_variant',\n",
       "       'SO:0000010:protein_coding,SO:0000316:CDS,SO:0001996:extended_intronic_splice_region,SO:0000159:deletion,SO:0001995:extended_intronic_splice_region_variant,SO:0001576:transcript_variant,SO:0001578:stop_lost',\n",
       "       'SO:0000010:protein_coding,SO:0000316:CDS,SO:0001996:extended_intronic_splice_region,SO:1000002:substitution,SO:0001995:extended_intronic_splice_region_variant,SO:0001576:transcript_variant,SO:0001578:stop_lost',\n",
       "       'SO:0000010:protein_coding,SO:0000188:intron,SO:0000204:five_prime_UTR,SO:0001993:extended_cis_splice_site,SO:0001996:extended_intronic_splice_region,SO:0000159:deletion,SO:0001623:5_prime_UTR_variant,SO:0001995:extended_intronic_splice_region_variant,SO:0001629:splice_site_variant,SO:0001627:intron_variant,SO:0001576:transcript_variant',\n",
       "       'SO:0000010:protein_coding,SO:0000147:exon,SO:0000204:five_prime_UTR,SO:0000316:CDS,SO:0000159:deletion,SO:0001636:2KB_upstream_variant,SO:0001577:complex_change_in_transcript,SO:0001576:transcript_variant,SO:0001582:initiator_codon_change',\n",
       "       'SO:0000010:protein_coding,SO:0000205:three_prime_UTR,SO:0001993:extended_cis_splice_site,SO:0000667:insertion,SO:0001624:3_prime_UTR_variant,SO:0001629:splice_site_variant,SO:0001576:transcript_variant',\n",
       "       'SO:0000010:protein_coding,SO:0000147:exon,SO:0000316:CDS,SO:0000667:insertion,SO:0001589:frameshift_variant,SO:0001576:transcript_variant',\n",
       "       'SO:0000011:non_protein_coding,SO:0001993:extended_cis_splice_site,SO:0001996:extended_intronic_splice_region,SO:0000159:deletion,SO:0001995:extended_intronic_splice_region_variant,SO:0001629:splice_site_variant',\n",
       "       'SO:0000010:protein_coding,SO:0000147:exon,SO:0000316:CDS,SO:0000159:deletion,SO:0001636:2KB_upstream_variant,SO:0001577:complex_change_in_transcript,SO:0001576:transcript_variant,SO:0001582:initiator_codon_change',\n",
       "       'SO:0000010:protein_coding,SO:0000147:exon,SO:0000316:CDS,SO:1000032:indel,SO:0001650:inframe_variant,SO:0001652:inframe_codon_loss',\n",
       "       'SO:0000010:protein_coding,SO:0000147:exon,SO:0000188:intron,SO:0000316:CDS,SO:0001993:extended_cis_splice_site,SO:0001996:extended_intronic_splice_region,SO:0000159:deletion,SO:0001577:complex_change_in_transcript,SO:0001576:transcript_variant,SO:0001582:initiator_codon_change',\n",
       "       'SO:0000010:protein_coding,SO:0000147:exon,SO:0000205:three_prime_UTR,SO:0001993:extended_cis_splice_site,SO:0001996:extended_intronic_splice_region,SO:1000032:indel,SO:0001624:3_prime_UTR_variant,SO:0001577:complex_change_in_transcript,SO:0001576:transcript_variant',\n",
       "       'SO:0000010:protein_coding,SO:0000147:exon,SO:0000316:CDS,SO:0000159:deletion,SO:0001634:500B_downstream_variant,SO:0001577:complex_change_in_transcript,SO:0001576:transcript_variant,SO:0001578:stop_lost',\n",
       "       'SO:0000010:protein_coding,SO:0000147:exon,SO:0000204:five_prime_UTR,SO:0000316:CDS,SO:0001993:extended_cis_splice_site,SO:0001996:extended_intronic_splice_region,SO:1000032:indel,SO:0001577:complex_change_in_transcript,SO:0001576:transcript_variant,SO:0001582:initiator_codon_change',\n",
       "       'SO:0000010:protein_coding,SO:0000147:exon,SO:0000316:CDS,SO:1000032:indel,SO:0001636:2KB_upstream_variant,SO:0001577:complex_change_in_transcript,SO:0001576:transcript_variant,SO:0001582:initiator_codon_change',\n",
       "       'SO:0000010:protein_coding,SO:0000147:exon,SO:0000316:CDS,SO:1000032:indel,SO:0001633:5KB_downstream_variant,SO:0001634:500B_downstream_variant,SO:0001577:complex_change_in_transcript,SO:0001576:transcript_variant,SO:0001578:stop_lost',\n",
       "       'SO:0000010:protein_coding,SO:0000147:exon,SO:0000316:CDS,SO:1000032:indel,SO:0001634:500B_downstream_variant,SO:0001577:complex_change_in_transcript,SO:0001576:transcript_variant,SO:0001578:stop_lost',\n",
       "       'SO:0000010:protein_coding,SO:0000316:CDS,SO:0001996:extended_intronic_splice_region,SO:1000002:substitution,SO:0001995:extended_intronic_splice_region_variant,SO:0001576:transcript_variant,SO:0001582:initiator_codon_change',\n",
       "       'SO:0000010:protein_coding,SO:0000147:exon,SO:0000188:intron,SO:0000316:CDS,SO:0001993:extended_cis_splice_site,SO:0001996:extended_intronic_splice_region,SO:0000159:deletion,SO:0001634:500B_downstream_variant,SO:0001577:complex_change_in_transcript,SO:0001576:transcript_variant,SO:0001578:stop_lost',\n",
       "       'SO:0000010:protein_coding,SO:0000316:CDS,SO:0001993:extended_cis_splice_site,SO:1000002:substitution,SO:0001629:splice_site_variant,SO:0001576:transcript_variant,SO:0001582:initiator_codon_change',\n",
       "       'SO:0000010:protein_coding,SO:0000147:exon,SO:0000204:five_prime_UTR,SO:0001993:extended_cis_splice_site,SO:0000159:deletion,SO:0001623:5_prime_UTR_variant,SO:0001577:complex_change_in_transcript,SO:0001576:transcript_variant',\n",
       "       'SO:0000010:protein_coding,SO:0000147:exon,SO:0000205:three_prime_UTR,SO:0000316:CDS,SO:0000159:deletion,SO:0001633:5KB_downstream_variant,SO:0001634:500B_downstream_variant,SO:0001577:complex_change_in_transcript,SO:0001576:transcript_variant,SO:0001578:stop_lost'],\n",
       "      dtype=object)"
      ]
     },
     "execution_count": 4,
     "metadata": {},
     "output_type": "execute_result"
    }
   ],
   "source": [
    "snv_gdsc_raw.effect.unique()"
   ]
  },
  {
   "cell_type": "code",
   "execution_count": 47,
   "id": "0685331e",
   "metadata": {},
   "outputs": [
    {
     "name": "stdout",
     "output_type": "stream",
     "text": [
      "missense|frameshift|inframe|nonsense|stop_lost|start_lost|protein_coding\n",
      "mask_vc.sum: 1341990\n",
      "mask_proteinCoding.sum: 636\n",
      "snv_gdsc_preprocessed.shape: (1341990, 13)\n"
     ]
    }
   ],
   "source": [
    "# preprocess: snv\n",
    "\n",
    "vc = ['missense', 'frameshift', 'inframe', 'nonsense','stop_lost', 'start_lost', 'protein_coding']\n",
    "pat = \"|\".join(vc)\n",
    "print(pat)\n",
    "\n",
    "mask_vc = snv_gdsc_raw.effect.str.contains(pat)\n",
    "print(f\"mask_vc.sum: {mask_vc.sum()}\")\n",
    "\n",
    "mask_proteinCoding = snv_gdsc_raw.effect.str.contains(\"protein_coding\")\n",
    "print(f\"mask_proteinCoding.sum: {mask_proteinCoding.sum()}\")\n",
    "\n",
    "snv_gdsc_preprocessed = snv_gdsc_raw.loc[mask_vc, :]\n",
    "print(f\"snv_gdsc_preprocessed.shape: {snv_gdsc_preprocessed.shape}\")"
   ]
  },
  {
   "cell_type": "code",
   "execution_count": 48,
   "id": "60df96df",
   "metadata": {},
   "outputs": [
    {
     "name": "stdout",
     "output_type": "stream",
     "text": [
      "tpm_gdsc_preprocessed.shape: (37602, 1431)\n"
     ]
    }
   ],
   "source": [
    "# proprocess: gep\n",
    "tpm_gdsc_modelID = tpm_gdsc.columns[2::]\n",
    "tpm_gdsc_gene_symbol = tpm_gdsc.iloc[4::, 1].values\n",
    "tpm_gdsc_preprocessed = tpm_gdsc.iloc[4::, 2::]\n",
    "tpm_gdsc_preprocessed.columns = tpm_gdsc_modelID\n",
    "tpm_gdsc_preprocessed.index = tpm_gdsc_gene_symbol\n",
    "print(f'tpm_gdsc_preprocessed.shape: {tpm_gdsc_preprocessed.shape}')"
   ]
  },
  {
   "cell_type": "markdown",
   "id": "4a739c05",
   "metadata": {
    "heading_collapsed": true
   },
   "source": [
    "## driver gene filtering"
   ]
  },
  {
   "cell_type": "code",
   "execution_count": 49,
   "id": "818d8d58",
   "metadata": {
    "hidden": true
   },
   "outputs": [],
   "source": [
    "from functools import reduce"
   ]
  },
  {
   "cell_type": "code",
   "execution_count": 44,
   "id": "97af33fd",
   "metadata": {
    "hidden": true
   },
   "outputs": [
    {
     "name": "stdout",
     "output_type": "stream",
     "text": [
      "  symbol method_of_action   cosmic_moa intogen_moa    gene_id\n",
      "0  ABCB1              Act          NaN         Act  SIDG00064\n",
      "1   ABI1        ambiguous  TSG, fusion   ambiguous  SIDG00145\n",
      "False\n",
      "# of driver genes: 783\n",
      "             TCGA-19-1787  TCGA-S9-A7J2  TCGA-G3-A3CH  TCGA-EK-A2RE  \\\n",
      "gene_symbol                                                           \n",
      "LINC02082         -9.9658        0.2998       -9.9658       -9.9658   \n",
      "ST8SIA5-DT        -3.8160       -3.0469       -9.9658       -9.9658   \n",
      "\n",
      "             TCGA-44-6778  TCGA-F4-6854  TCGA-AB-2863  TCGA-C8-A1HL  \\\n",
      "gene_symbol                                                           \n",
      "LINC02082         -9.9658       -9.9658       -9.9658       -9.9658   \n",
      "ST8SIA5-DT        -5.5735       -9.9658       -3.4580       -9.9658   \n",
      "\n",
      "             TCGA-EW-A2FS  TCGA-IR-A3L7  ...  TCGA-A8-A09K  TCGA-61-1907  \\\n",
      "gene_symbol                              ...                               \n",
      "LINC02082         -9.9658       -9.9658  ...       -9.9658       -9.9658   \n",
      "ST8SIA5-DT        -5.0116       -9.9658  ...       -9.9658       -9.9658   \n",
      "\n",
      "             TCGA-IB-7885  TCGA-95-7947  TCGA-VQ-AA6F  TCGA-BR-8588  \\\n",
      "gene_symbol                                                           \n",
      "LINC02082         -9.9658       -9.9658       -9.9658       -9.9658   \n",
      "ST8SIA5-DT        -9.9658       -6.5064       -9.9658       -9.9658   \n",
      "\n",
      "             TCGA-24-2254  TCGA-DD-A115  TCGA-FV-A3I0    gene_ensemble  \n",
      "gene_symbol                                                             \n",
      "LINC02082         -1.9379       -9.9658       -9.9658  ENSG00000242268  \n",
      "ST8SIA5-DT        -5.5735       -9.9658       -9.9658  ENSG00000270112  \n",
      "\n",
      "[2 rows x 10536 columns]\n"
     ]
    }
   ],
   "source": [
    "# driver genes defined by gdsc\n",
    "df_driverG = pd.read_csv(\"../data_input/GDSC/driver_genes_20221018.csv\")\n",
    "print(df_driverG.head(2))\n",
    "print(df_driverG.symbol.duplicated().any()) # No duplication, good\n",
    "#\n",
    "arr_driverG = df_driverG.symbol\n",
    "print(f'# of driver genes: {len(arr_driverG)}')\n",
    "\n",
    "# tpm tcga\n",
    "print(tpm_tcga_v1.head(2))\n",
    "# tpm ccle\n",
    "tpm_ccle = pd.read_csv(os.path.join(\"../data_input/ccle/data_20Q4\", \"CCLE_expression_full.csv\"))"
   ]
  },
  {
   "cell_type": "code",
   "execution_count": 50,
   "id": "1127f98e",
   "metadata": {
    "hidden": true
   },
   "outputs": [
    {
     "name": "stdout",
     "output_type": "stream",
     "text": [
      "ic50_gdsc_v3.SANGER_MODEL_ID.unique().shape: (548,)\n",
      "snv_gdsc_preprocessed.model_id.unique().shape: (1435,)\n",
      "tpm_gdsc_preprocessed.columns.unique().shape: (1431,)\n",
      "id_inter_gdsc.shape: (542,)\n"
     ]
    }
   ],
   "source": [
    "# id.model intersection in gdsc: ic50, snv, tpm\n",
    "\n",
    "id_inter_gdsc = reduce(np.intersect1d,\n",
    "                       [ic50_gdsc_v3.SANGER_MODEL_ID.unique(),\n",
    "                        snv_gdsc_preprocessed.model_id.unique(),\n",
    "                        tpm_gdsc_preprocessed.columns.unique()]\n",
    "                       )\n",
    "\n",
    "print(f\"ic50_gdsc_v3.SANGER_MODEL_ID.unique().shape: {ic50_gdsc_v3.SANGER_MODEL_ID.unique().shape}\")\n",
    "print(f\"snv_gdsc_preprocessed.model_id.unique().shape: {snv_gdsc_preprocessed.model_id.unique().shape}\")\n",
    "print(f\"tpm_gdsc_preprocessed.columns.unique().shape: {tpm_gdsc_preprocessed.columns.unique().shape}\")\n",
    "print(f\"id_inter_gdsc.shape: {id_inter_gdsc.shape}\")"
   ]
  },
  {
   "cell_type": "code",
   "execution_count": 51,
   "id": "b4ff598d",
   "metadata": {
    "hidden": true
   },
   "outputs": [
    {
     "name": "stdout",
     "output_type": "stream",
     "text": [
      "arr_driverG.shape: (783,)\n",
      "geneInter_4sets length: 776\n"
     ]
    }
   ],
   "source": [
    "# gene intersection among arr_driverG, gdsc, ccle, and tcga \n",
    "gene_gep_ccle = tpm_ccle.columns.str.extract(\"([^ (]+)\", expand = False).astype(str)\n",
    "geneInter_4sets = reduce(np.intersect1d, \n",
    "                                     [arr_driverG,\n",
    "                                      tpm_gdsc_preprocessed.index, \n",
    "                                      tpm_tcga_v1.index,\n",
    "                                      gene_gep_ccle])\n",
    "print(f\"arr_driverG.shape: {arr_driverG.shape}\")\n",
    "print(f\"geneInter_4sets length: {len(geneInter_4sets)}\")"
   ]
  },
  {
   "cell_type": "code",
   "execution_count": 31,
   "id": "e0ae74ac",
   "metadata": {
    "hidden": true
   },
   "outputs": [],
   "source": [
    "# save\n",
    "# np.save(\"../output/out_gdsc/id_inter_gdsc.npy\", id_inter_gdsc)\n",
    "# np.save(\"../output/out_gdsc/geneInter_4sets.npy\", geneInter_4sets)"
   ]
  },
  {
   "cell_type": "code",
   "execution_count": 110,
   "id": "692d49c9",
   "metadata": {
    "hidden": true
   },
   "outputs": [],
   "source": [
    "# can i use gep_tpm_ccle to create gep_tpm_gdsc?\n",
    "# n_saple = gep_tpm_ccle.index.isin(ic50_gdsc_v3.ModelID.unique()).sum()\n",
    "# print(n_saple)\n",
    "# No, i can't, becuase gep_tpm_ccle only contains 465 samples that belong to gdsc"
   ]
  },
  {
   "cell_type": "code",
   "execution_count": 52,
   "id": "43959172",
   "metadata": {
    "hidden": true
   },
   "outputs": [
    {
     "name": "stdout",
     "output_type": "stream",
     "text": [
      "mask_driverG.sum: 83305\n",
      "snv_gdsc_v1.shape: (24558, 14)\n",
      "snv_gdsc_wide.shape: (542, 770)\n",
      "df_add.shape: (0, 6)\n",
      "snv_gdsc_wide_v1.shape: (542, 776)\n",
      "x is True?: True\n"
     ]
    }
   ],
   "source": [
    "# snv process: filter, to wider format\n",
    "mask_sample = snv_gdsc_preprocessed.model_id.isin(id_inter_gdsc)\n",
    "mask_driverG = snv_gdsc_preprocessed.gene_symbol.isin(geneInter_4sets)\n",
    "print(f\"mask_driverG.sum: {mask_driverG.sum()}\")\n",
    "\n",
    "snv_gdsc_v1 = snv_gdsc_preprocessed.loc[mask_sample & mask_driverG, :].drop_duplicates(subset = [\"gene_symbol\", \"model_id\"])\n",
    "snv_gdsc_v1[\"mutation_status\"] = 1\n",
    "print(f'snv_gdsc_v1.shape: {snv_gdsc_v1.shape}')\n",
    "\n",
    "snv_gdsc_wide = snv_gdsc_v1.pivot_table(values=\"mutation_status\",\n",
    "                                index=\"model_id\",\n",
    "                                columns=\"gene_symbol\",\n",
    "                                aggfunc='mean',\n",
    "                                fill_value=0)\n",
    "print(f\"snv_gdsc_wide.shape: {snv_gdsc_wide.shape}\")\n",
    "#\n",
    "# add the rest driver genes\n",
    "df_add = pd.DataFrame(columns = np.setdiff1d(geneInter_4sets, snv_gdsc_wide.columns))\n",
    "print(f\"df_add.shape: {df_add.shape}\")\n",
    "snv_gdsc_wide_v1 = pd.concat([snv_gdsc_wide, df_add], axis = 1).fillna(0)\n",
    "# re-arrange columns to driverGlist\n",
    "snv_gdsc_wide_v1 = snv_gdsc_wide_v1.loc[id_inter_gdsc, geneInter_4sets]\n",
    "#\n",
    "print(f'snv_gdsc_wide_v1.shape: {snv_gdsc_wide_v1.shape}')\n",
    "# double check\n",
    "x = snv_gdsc_wide_v1.apply(lambda x: pd.Series(x.unique()).isin([0,1])).all().all()\n",
    "print(f\"x is True?: {x}\")"
   ]
  },
  {
   "cell_type": "code",
   "execution_count": 53,
   "id": "fbfcc2de",
   "metadata": {
    "hidden": true
   },
   "outputs": [
    {
     "name": "stdout",
     "output_type": "stream",
     "text": [
      "tpm_gdsc_v1.shape: (542, 776)\n",
      "x is True?: True\n"
     ]
    }
   ],
   "source": [
    "# tmp process:\n",
    "mask_gene = tpm_gdsc_preprocessed.index.isin(geneInter_4sets)\n",
    "mask_sample = tpm_gdsc_preprocessed.columns.isin(id_inter_gdsc)\n",
    "tpm_gdsc_v1 = tpm_gdsc_preprocessed.loc[mask_gene, mask_sample].T.apply(lambda x: x.astype(float))\n",
    "tpm_gdsc_v1 = tpm_gdsc_v1.apply(lambda x: np.log2(x+0.001))\n",
    "tpm_gdsc_v1 = tpm_gdsc_v1.loc[id_inter_gdsc, geneInter_4sets]\n",
    "print(f\"tpm_gdsc_v1.shape: {tpm_gdsc_v1.shape}\")\n",
    "# double check\n",
    "x = tpm_gdsc_v1.apply(lambda x: np.isnan(x).sum() == 0).all()\n",
    "print(f\"x is True?: {x}\")"
   ]
  },
  {
   "cell_type": "code",
   "execution_count": 54,
   "id": "bf888058",
   "metadata": {
    "hidden": true
   },
   "outputs": [
    {
     "data": {
      "text/html": [
       "<div>\n",
       "<style scoped>\n",
       "    .dataframe tbody tr th:only-of-type {\n",
       "        vertical-align: middle;\n",
       "    }\n",
       "\n",
       "    .dataframe tbody tr th {\n",
       "        vertical-align: top;\n",
       "    }\n",
       "\n",
       "    .dataframe thead th {\n",
       "        text-align: right;\n",
       "    }\n",
       "</style>\n",
       "<table border=\"1\" class=\"dataframe\">\n",
       "  <thead>\n",
       "    <tr style=\"text-align: right;\">\n",
       "      <th></th>\n",
       "      <th>ABCB1</th>\n",
       "      <th>ABI1</th>\n",
       "      <th>ABL1</th>\n",
       "      <th>ABL2</th>\n",
       "      <th>ACKR3</th>\n",
       "      <th>ACSL3</th>\n",
       "      <th>ACVR1</th>\n",
       "      <th>ACVR2A</th>\n",
       "      <th>AFDN</th>\n",
       "      <th>AFF1</th>\n",
       "      <th>...</th>\n",
       "      <th>ZNF521</th>\n",
       "      <th>ZNF626</th>\n",
       "      <th>ZNF680</th>\n",
       "      <th>ZNF721</th>\n",
       "      <th>ZNF780A</th>\n",
       "      <th>ZNF814</th>\n",
       "      <th>ZNF93</th>\n",
       "      <th>ZNRF3</th>\n",
       "      <th>ZRSR2</th>\n",
       "      <th>ZXDB</th>\n",
       "    </tr>\n",
       "  </thead>\n",
       "  <tbody>\n",
       "    <tr>\n",
       "      <th>SIDM00003</th>\n",
       "      <td>3.102826</td>\n",
       "      <td>5.790277</td>\n",
       "      <td>6.055304</td>\n",
       "      <td>5.499878</td>\n",
       "      <td>-9.965784</td>\n",
       "      <td>7.255982</td>\n",
       "      <td>5.821481</td>\n",
       "      <td>1.718526</td>\n",
       "      <td>4.152265</td>\n",
       "      <td>4.291383</td>\n",
       "      <td>...</td>\n",
       "      <td>3.669140</td>\n",
       "      <td>-3.307573</td>\n",
       "      <td>2.891614</td>\n",
       "      <td>2.582797</td>\n",
       "      <td>2.982035</td>\n",
       "      <td>0.848798</td>\n",
       "      <td>0.669934</td>\n",
       "      <td>-0.394032</td>\n",
       "      <td>4.493199</td>\n",
       "      <td>2.799295</td>\n",
       "    </tr>\n",
       "    <tr>\n",
       "      <th>SIDM00023</th>\n",
       "      <td>-9.965784</td>\n",
       "      <td>6.122693</td>\n",
       "      <td>5.777183</td>\n",
       "      <td>3.826904</td>\n",
       "      <td>6.473641</td>\n",
       "      <td>5.576250</td>\n",
       "      <td>3.955220</td>\n",
       "      <td>2.134550</td>\n",
       "      <td>4.393759</td>\n",
       "      <td>3.482977</td>\n",
       "      <td>...</td>\n",
       "      <td>-5.011588</td>\n",
       "      <td>-3.307573</td>\n",
       "      <td>3.897337</td>\n",
       "      <td>3.612470</td>\n",
       "      <td>2.989321</td>\n",
       "      <td>-1.282790</td>\n",
       "      <td>0.240009</td>\n",
       "      <td>0.357270</td>\n",
       "      <td>2.971038</td>\n",
       "      <td>3.393828</td>\n",
       "    </tr>\n",
       "  </tbody>\n",
       "</table>\n",
       "<p>2 rows × 776 columns</p>\n",
       "</div>"
      ],
      "text/plain": [
       "              ABCB1      ABI1      ABL1      ABL2     ACKR3     ACSL3  \\\n",
       "SIDM00003  3.102826  5.790277  6.055304  5.499878 -9.965784  7.255982   \n",
       "SIDM00023 -9.965784  6.122693  5.777183  3.826904  6.473641  5.576250   \n",
       "\n",
       "              ACVR1    ACVR2A      AFDN      AFF1  ...    ZNF521    ZNF626  \\\n",
       "SIDM00003  5.821481  1.718526  4.152265  4.291383  ...  3.669140 -3.307573   \n",
       "SIDM00023  3.955220  2.134550  4.393759  3.482977  ... -5.011588 -3.307573   \n",
       "\n",
       "             ZNF680    ZNF721   ZNF780A    ZNF814     ZNF93     ZNRF3  \\\n",
       "SIDM00003  2.891614  2.582797  2.982035  0.848798  0.669934 -0.394032   \n",
       "SIDM00023  3.897337  3.612470  2.989321 -1.282790  0.240009  0.357270   \n",
       "\n",
       "              ZRSR2      ZXDB  \n",
       "SIDM00003  4.493199  2.799295  \n",
       "SIDM00023  2.971038  3.393828  \n",
       "\n",
       "[2 rows x 776 columns]"
      ]
     },
     "execution_count": 54,
     "metadata": {},
     "output_type": "execute_result"
    }
   ],
   "source": [
    "tpm_gdsc_v1.head(2)"
   ]
  },
  {
   "cell_type": "code",
   "execution_count": 24,
   "id": "502cb534",
   "metadata": {
    "hidden": true
   },
   "outputs": [
    {
     "name": "stdout",
     "output_type": "stream",
     "text": [
      "count    776.000000\n",
      "mean      -3.379382\n",
      "std        5.659408\n",
      "min       -9.965784\n",
      "25%       -9.965784\n",
      "50%       -2.465938\n",
      "75%        1.725082\n",
      "max        8.512428\n",
      "dtype: float64\n",
      "count    776.000000\n",
      "mean       7.676777\n",
      "std        1.983155\n",
      "min       -3.171368\n",
      "25%        6.545165\n",
      "50%        7.582826\n",
      "75%        8.777382\n",
      "max       14.252104\n",
      "dtype: float64\n"
     ]
    }
   ],
   "source": [
    "print(tpm_gdsc_v1.min().describe())\n",
    "print(tpm_gdsc_v1.max().describe())"
   ]
  },
  {
   "cell_type": "code",
   "execution_count": 55,
   "id": "c9f0cffd",
   "metadata": {
    "hidden": true
   },
   "outputs": [
    {
     "name": "stdout",
     "output_type": "stream",
     "text": [
      "ic50_gdsc_v3.shape: (9653, 28)\n",
      "ic50_gdsc_v4.shape: (9553, 28)\n"
     ]
    }
   ],
   "source": [
    "# ic50 process:\n",
    "ic50_gdsc_v4 = ic50_gdsc_v3.loc[ic50_gdsc_v3.SANGER_MODEL_ID.isin(id_inter_gdsc), :]\n",
    "print(f\"ic50_gdsc_v3.shape: {ic50_gdsc_v3.shape}\")\n",
    "print(f\"ic50_gdsc_v4.shape: {ic50_gdsc_v4.shape}\")"
   ]
  },
  {
   "cell_type": "code",
   "execution_count": 56,
   "id": "e0daca3d",
   "metadata": {
    "hidden": true
   },
   "outputs": [
    {
     "data": {
      "text/plain": [
       "(18,)"
      ]
     },
     "execution_count": 56,
     "metadata": {},
     "output_type": "execute_result"
    }
   ],
   "source": [
    "ic50_gdsc_v4.drug_name_revised.unique().shape"
   ]
  },
  {
   "cell_type": "code",
   "execution_count": 57,
   "id": "f9cb413d",
   "metadata": {
    "hidden": true
   },
   "outputs": [
    {
     "name": "stdout",
     "output_type": "stream",
     "text": [
      "ic50_gdsc_v4_pivoted.shape: (542, 18)\n",
      "drug_name_revised\n",
      "Bicalutamide         4\n",
      "Cisplatin           12\n",
      "Cyclophosphamide    13\n",
      "Dasatinib            4\n",
      "Docetaxel            2\n",
      "Doxorubicin          8\n",
      "Erlotinib            5\n",
      "Etoposide           59\n",
      "Fluorouracil         3\n",
      "Gemcitabine          2\n",
      "Oxaliplatin          7\n",
      "Paclitaxel           4\n",
      "Pazopanib           63\n",
      "Sorafenib            5\n",
      "Tamoxifen            2\n",
      "Temozolomide         2\n",
      "Temsirolimus         4\n",
      "Vinorelbine          4\n",
      "dtype: int64\n",
      "ic50_gdsc_wide.shape: (542, 18)\n",
      "False\n"
     ]
    }
   ],
   "source": [
    "# pivot ic50_gdsc_v4 and process NAs in it\n",
    "ic50_gdsc_v4_pivoted = ic50_gdsc_v4.pivot(index=\"SANGER_MODEL_ID\",\n",
    "                                          columns=\"drug_name_revised\",\n",
    "                                          values=\"LN_IC50\")\n",
    "print(f\"ic50_gdsc_v4_pivoted.shape: {ic50_gdsc_v4_pivoted.shape}\")\n",
    "\n",
    "# check NAs\n",
    "x = ic50_gdsc_v4_pivoted.apply(lambda x: x.isna().sum())\n",
    "print(x)\n",
    "\n",
    "# replace NA with mean values in each columns\n",
    "def replace_na_with_mean(ser):\n",
    "    mean_value = ser.mean()\n",
    "    ser1 = np.where(ser.isna(), mean_value, ser)\n",
    "    return (ser1)\n",
    "\n",
    "ic50_gdsc_wide = ic50_gdsc_v4_pivoted.apply(replace_na_with_mean)\n",
    "ic50_gdsc_wide = ic50_gdsc_wide.loc[id_inter_gdsc, :]\n",
    "\n",
    "print(f'ic50_gdsc_wide.shape: {ic50_gdsc_wide.shape}')\n",
    "# double check\n",
    "x = ic50_gdsc_wide.apply(lambda x: x.isna().any())\n",
    "print(x.any())"
   ]
  },
  {
   "cell_type": "code",
   "execution_count": 58,
   "id": "ee1059ce",
   "metadata": {
    "hidden": true
   },
   "outputs": [
    {
     "name": "stdout",
     "output_type": "stream",
     "text": [
      "pheno_gdsc.shape: (542, 4)\n",
      "Male       279\n",
      "Female     239\n",
      "Unknown     24\n",
      "Name: Sex, dtype: int64\n",
      "# NAs in Age: 88\n",
      "# NAs in sex: 24\n",
      "count    542.000000\n",
      "mean      52.057196\n",
      "std       16.080391\n",
      "min        0.000000\n",
      "25%       46.000000\n",
      "50%       54.000000\n",
      "75%       62.000000\n",
      "max       89.000000\n",
      "Name: Age, dtype: float64\n",
      "SANGER_MODEL_ID    True\n",
      "Age                True\n",
      "Sex                True\n",
      "cancerType_TCGA    True\n",
      "dtype: bool\n",
      "pheno_gdsc_dummy.shape: (542, 15)\n",
      "pheno_gdsc_dummy.columns: Index(['Age', 'Sex_Female', 'Sex_Male', 'cancerType_TCGA_BRCA',\n",
      "       'cancerType_TCGA_COAD', 'cancerType_TCGA_ESCA', 'cancerType_TCGA_GBM',\n",
      "       'cancerType_TCGA_HNSC', 'cancerType_TCGA_KIRC', 'cancerType_TCGA_LUAD',\n",
      "       'cancerType_TCGA_OV', 'cancerType_TCGA_PAAD', 'cancerType_TCGA_SARC',\n",
      "       'cancerType_TCGA_SCLC', 'cancerType_TCGA_SKCM'],\n",
      "      dtype='object')\n"
     ]
    },
    {
     "name": "stderr",
     "output_type": "stream",
     "text": [
      "/tmp/ipykernel_3594/2989015464.py:20: SettingWithCopyWarning: \n",
      "A value is trying to be set on a copy of a slice from a DataFrame\n",
      "\n",
      "See the caveats in the documentation: https://pandas.pydata.org/pandas-docs/stable/user_guide/indexing.html#returning-a-view-versus-a-copy\n",
      "  pheno_gdsc_v1[\"Sex\"].iloc[0:24] = x\n"
     ]
    }
   ],
   "source": [
    "# pheno process\n",
    "\n",
    "col_use = ['SANGER_MODEL_ID', 'Age', 'Sex', 'cancerType_TCGA']\n",
    "pheno_gdsc = ic50_gdsc_v4.loc[:, col_use].drop_duplicates()\n",
    "print(\"pheno_gdsc.shape: {}\".format(pheno_gdsc.shape))\n",
    "\n",
    "# NAs\n",
    "print(pheno_gdsc.Sex.value_counts())\n",
    "mask_age = pheno_gdsc.Age.isna()\n",
    "mask_sex = (pheno_gdsc.Sex == \"Unknown\")\n",
    "print(f\"# NAs in Age: {mask_age.sum()}\")\n",
    "print(f\"# NAs in sex: {mask_sex.sum()}\")\n",
    "\n",
    "# fill NAs in sex by random, in age by mean age\n",
    "\n",
    "rng = np.random.default_rng(0)\n",
    "x = rng.choice([\"Male\", \"Female\"], size=24, replace=True, \n",
    "           p=[260/(260+229), 229/(260+229)], axis=0, shuffle=True)\n",
    "pheno_gdsc_v1 = pheno_gdsc.sort_values(\"Sex\", ascending = False)\n",
    "pheno_gdsc_v1[\"Sex\"].iloc[0:24] = x\n",
    "\n",
    "age_median = pheno_gdsc_v1.Age.median().astype(int)\n",
    "pheno_gdsc_v1[\"Age\"] = np.where(pheno_gdsc_v1.Age.isna(), \n",
    "                                age_median,\n",
    "                                 pheno_gdsc_v1.Age)\n",
    "print(pheno_gdsc_v1.Age.describe())\n",
    "\n",
    "# double check NAs\n",
    "check1 = pheno_gdsc_v1.apply(lambda x: x.isna().sum() == 0)\n",
    "print(check1)\n",
    "\n",
    "pheno_gdsc_v1 = pheno_gdsc_v1.set_index(\"SANGER_MODEL_ID\").loc[id_inter_gdsc, :]\n",
    "pheno_gdsc_dummy = pd.get_dummies(data = pheno_gdsc_v1, columns = [\"Sex\", \"cancerType_TCGA\"])\n",
    "print(f\"pheno_gdsc_dummy.shape: {pheno_gdsc_dummy.shape}\")\n",
    "print(f\"pheno_gdsc_dummy.columns: {pheno_gdsc_dummy.columns}\")"
   ]
  },
  {
   "cell_type": "code",
   "execution_count": 59,
   "id": "cedbf13c",
   "metadata": {
    "hidden": true
   },
   "outputs": [
    {
     "data": {
      "text/html": [
       "<div>\n",
       "<style scoped>\n",
       "    .dataframe tbody tr th:only-of-type {\n",
       "        vertical-align: middle;\n",
       "    }\n",
       "\n",
       "    .dataframe tbody tr th {\n",
       "        vertical-align: top;\n",
       "    }\n",
       "\n",
       "    .dataframe thead th {\n",
       "        text-align: right;\n",
       "    }\n",
       "</style>\n",
       "<table border=\"1\" class=\"dataframe\">\n",
       "  <thead>\n",
       "    <tr style=\"text-align: right;\">\n",
       "      <th></th>\n",
       "      <th>Age</th>\n",
       "      <th>Sex</th>\n",
       "      <th>cancerType_TCGA</th>\n",
       "    </tr>\n",
       "    <tr>\n",
       "      <th>SANGER_MODEL_ID</th>\n",
       "      <th></th>\n",
       "      <th></th>\n",
       "      <th></th>\n",
       "    </tr>\n",
       "  </thead>\n",
       "  <tbody>\n",
       "    <tr>\n",
       "      <th>SIDM00003</th>\n",
       "      <td>33.0</td>\n",
       "      <td>Male</td>\n",
       "      <td>SKCM</td>\n",
       "    </tr>\n",
       "    <tr>\n",
       "      <th>SIDM00023</th>\n",
       "      <td>54.0</td>\n",
       "      <td>Male</td>\n",
       "      <td>ESCA</td>\n",
       "    </tr>\n",
       "  </tbody>\n",
       "</table>\n",
       "</div>"
      ],
      "text/plain": [
       "                  Age   Sex cancerType_TCGA\n",
       "SANGER_MODEL_ID                            \n",
       "SIDM00003        33.0  Male            SKCM\n",
       "SIDM00023        54.0  Male            ESCA"
      ]
     },
     "execution_count": 59,
     "metadata": {},
     "output_type": "execute_result"
    }
   ],
   "source": [
    "# save driver gene filtered \n",
    "driverG_filtered = df_driverG.loc[df_driverG.symbol.isin(tpm_gdsc_v1.columns), :]\n",
    "print(f'driverG_filtered.shape: {driverG_filtered.shape}')"
   ]
  },
  {
   "cell_type": "code",
   "execution_count": 63,
   "id": "65f875ed",
   "metadata": {
    "hidden": true
   },
   "outputs": [],
   "source": [
    "# save, 20230808\n",
    "ic50_gdsc_wide.to_csv(\"../data_temp/ic50_gdsc_wide.csv\", index = True)\n",
    "ic50_gdsc_v4.to_csv(\"../data_temp/ic50_gdsc_v4.csv\", index = False)\n",
    "pheno_gdsc_dummy.to_csv(\"../data_temp/pheno_gdsc_dummy.csv\", index = True)\n",
    "pheno_gdsc_v1.to_csv(\"../data_temp/pheno_gdsc_v1.csv\", index = True)\n",
    "snv_gdsc_wide_v1.to_csv(\"../data_temp/snv_gdsc_wide_v1.csv\", index = True)\n",
    "tpm_gdsc_v1.to_csv(\"../data_temp/tpm_gdsc_v1.csv\", index = True)\n",
    "driverG_filtered.to_csv(\"../data_temp/driverG_filtered.csv\")"
   ]
  },
  {
   "cell_type": "markdown",
   "id": "b0b49fc4",
   "metadata": {
    "heading_collapsed": true
   },
   "source": [
    "# drug: with smile"
   ]
  },
  {
   "cell_type": "code",
   "execution_count": 69,
   "id": "6bbaf175",
   "metadata": {
    "hidden": true
   },
   "outputs": [],
   "source": [
    "from rdkit import Chem, DataStructs\n",
    "from rdkit.Chem import AllChem"
   ]
  },
  {
   "cell_type": "code",
   "execution_count": 5,
   "id": "08d64b2f",
   "metadata": {
    "hidden": true
   },
   "outputs": [],
   "source": [
    "# import rdkit\n",
    "# print(rdkit.__version__)"
   ]
  },
  {
   "cell_type": "code",
   "execution_count": 65,
   "id": "df1b9632",
   "metadata": {
    "hidden": true
   },
   "outputs": [
    {
     "name": "stdout",
     "output_type": "stream",
     "text": [
      "  SANGER_MODEL_ID drug_name_revised   LN_IC50  PatientID CellLineName  \\\n",
      "0       SIDM00003      Bicalutamide  2.619632  PT-3NwoWt          M14   \n",
      "1       SIDM00003         Cisplatin  2.935488  PT-3NwoWt          M14   \n",
      "\n",
      "  StrippedCellLineName   Age SourceType SangerModelID       RRID  ...  \\\n",
      "0                  M14  33.0        NaN     SIDM00003  CVCL_1395  ...   \n",
      "1                  M14  33.0        NaN     SIDM00003  CVCL_1395  ...   \n",
      "\n",
      "   CCLEName  COSMICID PublicComments WTSIMasterCellID OncotreeCode  \\\n",
      "0  M14_SKIN  905975.0            NaN            586.0          MEL   \n",
      "1  M14_SKIN  905975.0            NaN            586.0          MEL   \n",
      "\n",
      "  OncotreeSubtype OncotreePrimaryDisease  OncotreeLineage OncotreeCode_CCLE  \\\n",
      "0        Melanoma               Melanoma             Skin               MEL   \n",
      "1        Melanoma               Melanoma             Skin               MEL   \n",
      "\n",
      "   cancerType_TCGA  \n",
      "0             SKCM  \n",
      "1             SKCM  \n",
      "\n",
      "[2 rows x 28 columns]\n",
      "drug_smiles.shape: (10, 11)\n"
     ]
    }
   ],
   "source": [
    "#\n",
    "print(ic50_gdsc_v4.head(2))\n",
    "# smiles, previously prepared\n",
    "drug_smiles = pd.read_csv(\"../data_input/drug/drug_use_v2_manualAdd.csv\")\n",
    "print(\"drug_smiles.shape: {}\".format(drug_smiles.shape))"
   ]
  },
  {
   "cell_type": "code",
   "execution_count": 70,
   "id": "84a1f50d",
   "metadata": {
    "hidden": true
   },
   "outputs": [
    {
     "name": "stdout",
     "output_type": "stream",
     "text": [
      "['Bicalutamide' 'Dasatinib' 'Erlotinib' 'Pazopanib' 'Sorafenib'\n",
      " 'Tamoxifen' 'Temsirolimus' 'Vinorelbine']\n",
      "df_smile_full.shape: (18, 2)\n"
     ]
    }
   ],
   "source": [
    "# smile\n",
    "drug_use = ic50_gdsc_v4.drug_name_revised.unique()\n",
    "# print(f'drug_use: {drug_use}')\n",
    "#\n",
    "df_smile_1 = drug_smiles.loc[:, [\"drug_name_revised\", \"SMILES_PubChem\"]]\n",
    "df_smile_1 = df_smile_1.loc[df_smile_1.drug_name_revised.isin(drug_use), :]\n",
    "drug_need_smile = np.setdiff1d(drug_use, df_smile_1.drug_name_revised)\n",
    "print(drug_need_smile)\n",
    "\n",
    "# smile\n",
    "smile_add = {'Bicalutamide': \"CC(CS(=O)(=O)C1=CC=C(C=C1)F)(C(=O)NC2=CC(=C(C=C2)C#N)C(F)(F)F)O\",\n",
    " 'Dasatinib':\"CC1=C(C(=CC=C1)Cl)NC(=O)C2=CN=C(S2)NC3=CC(=NC(=N3)C)N4CCN(CC4)CCO\",\n",
    " 'Erlotinib':\"COCCOC1=C(C=C2C(=C1)C(=NC=N2)NC3=CC=CC(=C3)C#C)OCCOC\",\n",
    " 'Pazopanib':\"CC1=C(C=C(C=C1)NC2=NC=CC(=N2)N(C)C3=CC4=NN(C(=C4C=C3)C)C)S(=O)(=O)N\",\n",
    " 'Sorafenib':\"CNC(=O)C1=NC=CC(=C1)OC2=CC=C(C=C2)NC(=O)NC3=CC(=C(C=C3)Cl)C(F)(F)F\",\n",
    " 'Tamoxifen':\"CC/C(=C(\\C1=CC=CC=C1)/C2=CC=C(C=C2)OCCN(C)C)/C3=CC=CC=C3\",\n",
    " 'Temsirolimus':\"C[C@@H]1CC[C@H]2C[C@@H](/C(=C/C=C/C=C/[C@H](C[C@H](C(=O)[C@@H]([C@@H](/C(=C/[C@H](C(=O)C[C@H](OC(=O)[C@@H]3CCCCN3C(=O)C(=O)[C@@]1(O2)O)[C@H](C)C[C@@H]4CC[C@H]([C@@H](C4)OC)OC(=O)C(C)(CO)CO)C)/C)O)OC)C)C)/C)OC\",\n",
    " 'Vinorelbine':\"CCC1=C[C@H]2C[C@@](C3=C(CN(C2)C1)C4=CC=CC=C4N3)(C5=C(C=C6C(=C5)[C@]78CCN9[C@H]7[C@@](C=CC9)([C@H]([C@@]([C@@H]8N6C)(C(=O)OC)O)OC(=O)C)CC)OC)C(=O)OC\"\n",
    "}\n",
    "#\n",
    "df_smile_add = pd.DataFrame.from_dict(smile_add, orient = \"index\").reset_index()\n",
    "df_smile_add.columns = df_smile_1.columns\n",
    "#\n",
    "df_smile_full = pd.concat([df_smile_1, df_smile_add])\n",
    "print(f\"df_smile_full.shape: {df_smile_full.shape}\")"
   ]
  },
  {
   "cell_type": "code",
   "execution_count": 71,
   "id": "89cb86fa",
   "metadata": {
    "hidden": true
   },
   "outputs": [
    {
     "data": {
      "text/html": [
       "<div>\n",
       "<style scoped>\n",
       "    .dataframe tbody tr th:only-of-type {\n",
       "        vertical-align: middle;\n",
       "    }\n",
       "\n",
       "    .dataframe tbody tr th {\n",
       "        vertical-align: top;\n",
       "    }\n",
       "\n",
       "    .dataframe thead th {\n",
       "        text-align: right;\n",
       "    }\n",
       "</style>\n",
       "<table border=\"1\" class=\"dataframe\">\n",
       "  <thead>\n",
       "    <tr style=\"text-align: right;\">\n",
       "      <th></th>\n",
       "      <th>drug_name_revised</th>\n",
       "      <th>SMILES_PubChem</th>\n",
       "    </tr>\n",
       "  </thead>\n",
       "  <tbody>\n",
       "    <tr>\n",
       "      <th>0</th>\n",
       "      <td>Paclitaxel</td>\n",
       "      <td>CC1=C2[C@H](C(=O)[C@]3([C@H](C[C@@H]4[C@@](C3[...</td>\n",
       "    </tr>\n",
       "    <tr>\n",
       "      <th>1</th>\n",
       "      <td>Doxorubicin</td>\n",
       "      <td>C[C@H]1[C@H]([C@H](C[C@@H](O1)O[C@H]2C[C@@](CC...</td>\n",
       "    </tr>\n",
       "  </tbody>\n",
       "</table>\n",
       "</div>"
      ],
      "text/plain": [
       "  drug_name_revised                                     SMILES_PubChem\n",
       "0        Paclitaxel  CC1=C2[C@H](C(=O)[C@]3([C@H](C[C@@H]4[C@@](C3[...\n",
       "1       Doxorubicin  C[C@H]1[C@H]([C@H](C[C@@H](O1)O[C@H]2C[C@@](CC..."
      ]
     },
     "execution_count": 71,
     "metadata": {},
     "output_type": "execute_result"
    }
   ],
   "source": [
    "df_smile_full.head(2)"
   ]
  },
  {
   "cell_type": "code",
   "execution_count": 72,
   "id": "08a93867",
   "metadata": {
    "hidden": true
   },
   "outputs": [],
   "source": [
    "# generate fingeprints\n",
    "\n",
    "# generate molecules\n",
    "ms = []\n",
    "for drug in df_smile_full.drug_name_revised:\n",
    "    smile = df_smile_full.loc[df_smile_full.drug_name_revised == drug, \"SMILES_PubChem\"].iloc[0]\n",
    "    m = Chem.MolFromSmiles(smile)\n",
    "    ms.append(m)\n",
    "\n",
    "# generate fingeprints: Morgan fingerprint with radius 2\n",
    "fps = [AllChem.GetMorganFingerprintAsBitVect(m, 2, 512) for m in ms]\n",
    "\n",
    "# convert the RDKit explicit vectors into numpy arrays\n",
    "np_fps = []\n",
    "for fp in fps:\n",
    "  arr = np.zeros((1,))\n",
    "  DataStructs.ConvertToNumpyArray(fp, arr)\n",
    "  np_fps.append(arr)"
   ]
  },
  {
   "cell_type": "code",
   "execution_count": 73,
   "id": "ef8a135e",
   "metadata": {
    "hidden": true
   },
   "outputs": [],
   "source": [
    "# revise \n",
    "df_fingerprints = pd.DataFrame(np_fps, dtype = \"int\")\n",
    "df_fingerprints.index = df_smile_full.drug_name_revised\n",
    "df_fingerprints.columns = \"f_\" + df_fingerprints.columns.astype(str)"
   ]
  },
  {
   "cell_type": "code",
   "execution_count": 74,
   "id": "f599d2fb",
   "metadata": {
    "hidden": true
   },
   "outputs": [
    {
     "data": {
      "text/html": [
       "<div>\n",
       "<style scoped>\n",
       "    .dataframe tbody tr th:only-of-type {\n",
       "        vertical-align: middle;\n",
       "    }\n",
       "\n",
       "    .dataframe tbody tr th {\n",
       "        vertical-align: top;\n",
       "    }\n",
       "\n",
       "    .dataframe thead th {\n",
       "        text-align: right;\n",
       "    }\n",
       "</style>\n",
       "<table border=\"1\" class=\"dataframe\">\n",
       "  <thead>\n",
       "    <tr style=\"text-align: right;\">\n",
       "      <th></th>\n",
       "      <th>f_0</th>\n",
       "      <th>f_1</th>\n",
       "      <th>f_2</th>\n",
       "      <th>f_3</th>\n",
       "      <th>f_4</th>\n",
       "      <th>f_5</th>\n",
       "      <th>f_6</th>\n",
       "      <th>f_7</th>\n",
       "      <th>f_8</th>\n",
       "      <th>f_9</th>\n",
       "      <th>...</th>\n",
       "      <th>f_502</th>\n",
       "      <th>f_503</th>\n",
       "      <th>f_504</th>\n",
       "      <th>f_505</th>\n",
       "      <th>f_506</th>\n",
       "      <th>f_507</th>\n",
       "      <th>f_508</th>\n",
       "      <th>f_509</th>\n",
       "      <th>f_510</th>\n",
       "      <th>f_511</th>\n",
       "    </tr>\n",
       "    <tr>\n",
       "      <th>drug_name_revised</th>\n",
       "      <th></th>\n",
       "      <th></th>\n",
       "      <th></th>\n",
       "      <th></th>\n",
       "      <th></th>\n",
       "      <th></th>\n",
       "      <th></th>\n",
       "      <th></th>\n",
       "      <th></th>\n",
       "      <th></th>\n",
       "      <th></th>\n",
       "      <th></th>\n",
       "      <th></th>\n",
       "      <th></th>\n",
       "      <th></th>\n",
       "      <th></th>\n",
       "      <th></th>\n",
       "      <th></th>\n",
       "      <th></th>\n",
       "      <th></th>\n",
       "      <th></th>\n",
       "    </tr>\n",
       "  </thead>\n",
       "  <tbody>\n",
       "    <tr>\n",
       "      <th>Paclitaxel</th>\n",
       "      <td>0</td>\n",
       "      <td>1</td>\n",
       "      <td>0</td>\n",
       "      <td>0</td>\n",
       "      <td>0</td>\n",
       "      <td>0</td>\n",
       "      <td>0</td>\n",
       "      <td>0</td>\n",
       "      <td>0</td>\n",
       "      <td>0</td>\n",
       "      <td>...</td>\n",
       "      <td>0</td>\n",
       "      <td>0</td>\n",
       "      <td>0</td>\n",
       "      <td>1</td>\n",
       "      <td>0</td>\n",
       "      <td>1</td>\n",
       "      <td>0</td>\n",
       "      <td>0</td>\n",
       "      <td>0</td>\n",
       "      <td>0</td>\n",
       "    </tr>\n",
       "    <tr>\n",
       "      <th>Doxorubicin</th>\n",
       "      <td>1</td>\n",
       "      <td>0</td>\n",
       "      <td>0</td>\n",
       "      <td>0</td>\n",
       "      <td>0</td>\n",
       "      <td>0</td>\n",
       "      <td>0</td>\n",
       "      <td>0</td>\n",
       "      <td>0</td>\n",
       "      <td>0</td>\n",
       "      <td>...</td>\n",
       "      <td>0</td>\n",
       "      <td>0</td>\n",
       "      <td>0</td>\n",
       "      <td>1</td>\n",
       "      <td>0</td>\n",
       "      <td>1</td>\n",
       "      <td>0</td>\n",
       "      <td>0</td>\n",
       "      <td>0</td>\n",
       "      <td>0</td>\n",
       "    </tr>\n",
       "  </tbody>\n",
       "</table>\n",
       "<p>2 rows × 512 columns</p>\n",
       "</div>"
      ],
      "text/plain": [
       "                   f_0  f_1  f_2  f_3  f_4  f_5  f_6  f_7  f_8  f_9  ...  \\\n",
       "drug_name_revised                                                    ...   \n",
       "Paclitaxel           0    1    0    0    0    0    0    0    0    0  ...   \n",
       "Doxorubicin          1    0    0    0    0    0    0    0    0    0  ...   \n",
       "\n",
       "                   f_502  f_503  f_504  f_505  f_506  f_507  f_508  f_509  \\\n",
       "drug_name_revised                                                           \n",
       "Paclitaxel             0      0      0      1      0      1      0      0   \n",
       "Doxorubicin            0      0      0      1      0      1      0      0   \n",
       "\n",
       "                   f_510  f_511  \n",
       "drug_name_revised                \n",
       "Paclitaxel             0      0  \n",
       "Doxorubicin            0      0  \n",
       "\n",
       "[2 rows x 512 columns]"
      ]
     },
     "execution_count": 74,
     "metadata": {},
     "output_type": "execute_result"
    }
   ],
   "source": [
    "df_fingerprints.head(2)"
   ]
  },
  {
   "cell_type": "code",
   "execution_count": 75,
   "id": "61681640",
   "metadata": {
    "hidden": true
   },
   "outputs": [],
   "source": [
    "# save\n",
    "df_fingerprints.to_csv(\"../data_temp/df_fingerprints_18drugs.csv\")"
   ]
  },
  {
   "cell_type": "markdown",
   "id": "15b8b77b",
   "metadata": {},
   "source": [
    "# response, pheno, SNV, GEP of TCGA"
   ]
  },
  {
   "cell_type": "markdown",
   "id": "3238886f",
   "metadata": {
    "heading_collapsed": true
   },
   "source": [
    "## ID intersection"
   ]
  },
  {
   "cell_type": "code",
   "execution_count": 82,
   "id": "77b477ee",
   "metadata": {
    "hidden": true
   },
   "outputs": [
    {
     "name": "stdout",
     "output_type": "stream",
     "text": [
      "ic50_gdsc_v4.shape: (9553, 28)\n",
      "geneInter_4sets.shape: (776,)\n",
      "response_per_pt_tcga_singleDrug.shape: (404, 2)\n",
      "pheno_tcga_raw.shape: (10967, 99)\n",
      "snv_nonsilence_tcga.shape: (40543, 9104)\n",
      "tpm_tcga_v1.shape: (38502, 10536)\n"
     ]
    }
   ],
   "source": [
    "# load TCGA data\n",
    "\n",
    "print(f\"ic50_gdsc_v4.shape: {ic50_gdsc_v4.shape}\")\n",
    "print(f\"geneInter_4sets.shape: {geneInter_4sets.shape}\")\n",
    "\n",
    "print(f\"response_per_pt_tcga_singleDrug.shape: {response_per_pt_tcga_singleDrug.shape}\")\n",
    "print(f\"pheno_tcga_raw.shape: {pheno_tcga_raw.shape}\")\n",
    "print(f'snv_nonsilence_tcga.shape: {snv_nonsilence_tcga.shape}')\n",
    "print(f'tpm_tcga_v1.shape: {tpm_tcga_v1.shape}')"
   ]
  },
  {
   "cell_type": "code",
   "execution_count": 84,
   "id": "bda95301",
   "metadata": {
    "hidden": true
   },
   "outputs": [
    {
     "name": "stdout",
     "output_type": "stream",
     "text": [
      "inter_drug_a.shape: (18,)\n",
      "response_tcga_v1.shape: (297, 2)\n",
      "inter_cancer_a.shape: (11,)\n",
      "pheno_tcga_v1.shape: (5370, 99)\n"
     ]
    }
   ],
   "source": [
    "# filter response by drug, filter cancer type by pheno\n",
    "inter_drug_a = np.intersect1d(response_per_pt_tcga_singleDrug.drug_name,\n",
    "                              ic50_gdsc_v4.drug_name_revised)\n",
    "print(f\"inter_drug_a.shape: {inter_drug_a.shape}\")\n",
    "response_tcga_v1 = response_per_pt_tcga_singleDrug.loc[response_per_pt_tcga_singleDrug.drug_name.isin(inter_drug_a), :]\n",
    "print(f\"response_tcga_v1.shape: {response_tcga_v1.shape}\")\n",
    "\n",
    "inter_cancer_a = np.intersect1d(pheno_tcga_raw['TCGA PanCanAtlas Cancer Type Acronym'],\n",
    "                                ic50_gdsc_v4.cancerType_TCGA)\n",
    "print(f\"inter_cancer_a.shape: {inter_cancer_a.shape}\")\n",
    "pheno_tcga_v1 = pheno_tcga_raw.loc[pheno_tcga_raw['TCGA PanCanAtlas Cancer Type Acronym'].isin(inter_cancer_a), :]\n",
    "print(f\"pheno_tcga_v1.shape: {pheno_tcga_v1.shape}\")"
   ]
  },
  {
   "cell_type": "code",
   "execution_count": 85,
   "id": "80805f60",
   "metadata": {
    "hidden": true
   },
   "outputs": [
    {
     "name": "stdout",
     "output_type": "stream",
     "text": [
      "pt reponse.shape: (297,)\n",
      "pt_snvFrozen_response.shape: (294,)\n",
      "pt_snvFull_response.shape: (297,)\n"
     ]
    }
   ],
   "source": [
    "# intersected IDs\n",
    "\n",
    "# pt_barcode_snv\n",
    "mask_frozen_snv = snv_nonsilence_tcga.columns.str.endswith(\"01\")\n",
    "pt_barcode_snvFrozen = snv_nonsilence_tcga.columns[mask_frozen_snv].str[0:12]\n",
    "\n",
    "pt_barcode_snvFull = snv_nonsilence_tcga.columns.str[0:12].drop_duplicates()\n",
    "\n",
    "# pt_barcode_response\n",
    "pt_snvFrozen_response = np.intersect1d(pt_barcode_snvFrozen, \n",
    "                                response_tcga_v1.bcr_patient_barcode.unique())\n",
    "pt_snvFull_response = np.intersect1d(pt_barcode_snvFull, \n",
    "                                response_tcga_v1.bcr_patient_barcode.unique())\n",
    "\n",
    "print(f\"pt reponse.shape: {response_tcga_v1.bcr_patient_barcode.unique().shape}\")\n",
    "print(f\"pt_snvFrozen_response.shape: {pt_snvFrozen_response.shape}\")\n",
    "print(f\"pt_snvFull_response.shape: {pt_snvFull_response.shape}\")"
   ]
  },
  {
   "cell_type": "code",
   "execution_count": 86,
   "id": "c489ad1f",
   "metadata": {
    "hidden": true
   },
   "outputs": [
    {
     "name": "stdout",
     "output_type": "stream",
     "text": [
      "pt reponse.shape: (297,)\n",
      "pt_rna_response.shape: (297,)\n"
     ]
    }
   ],
   "source": [
    "# pt_barcode_rna\n",
    "pt_rna_response = np.intersect1d(tpm_tcga_v1.columns, \n",
    "                                response_tcga_v1.bcr_patient_barcode.unique())\n",
    "\n",
    "print(f\"pt reponse.shape: {response_tcga_v1.bcr_patient_barcode.unique().shape}\")\n",
    "print(f\"pt_rna_response.shape: {pt_rna_response.shape}\")"
   ]
  },
  {
   "cell_type": "code",
   "execution_count": 87,
   "id": "e4eb2d75",
   "metadata": {
    "hidden": true
   },
   "outputs": [
    {
     "name": "stdout",
     "output_type": "stream",
     "text": [
      "pt_barcode_inter4d_tcga.shape: (105,)\n"
     ]
    }
   ],
   "source": [
    "# intersection\n",
    "pt_barcode_inter4d_tcga = reduce(np.intersect1d,\n",
    "    [pheno_tcga_v1['Patient ID'].unique(), pt_snvFrozen_response, pt_rna_response])\n",
    "\n",
    "print(f\"pt_barcode_inter4d_tcga.shape: {pt_barcode_inter4d_tcga.shape}\")"
   ]
  },
  {
   "cell_type": "markdown",
   "id": "f21d77e0",
   "metadata": {
    "heading_collapsed": true
   },
   "source": [
    "## process response"
   ]
  },
  {
   "cell_type": "code",
   "execution_count": 88,
   "id": "c1e92234",
   "metadata": {
    "hidden": true
   },
   "outputs": [
    {
     "data": {
      "text/html": [
       "<div>\n",
       "<style scoped>\n",
       "    .dataframe tbody tr th:only-of-type {\n",
       "        vertical-align: middle;\n",
       "    }\n",
       "\n",
       "    .dataframe tbody tr th {\n",
       "        vertical-align: top;\n",
       "    }\n",
       "\n",
       "    .dataframe thead th {\n",
       "        text-align: right;\n",
       "    }\n",
       "</style>\n",
       "<table border=\"1\" class=\"dataframe\">\n",
       "  <thead>\n",
       "    <tr style=\"text-align: right;\">\n",
       "      <th></th>\n",
       "      <th>Cancer</th>\n",
       "      <th>bcr_patient_barcode</th>\n",
       "      <th>drug_name</th>\n",
       "      <th>DrugBank ID</th>\n",
       "      <th>measure_of_response</th>\n",
       "      <th>days_to_drug_therapy_start</th>\n",
       "      <th>days_to_drug_therapy_end</th>\n",
       "      <th>days_to_initial_pathologic_diagnosis</th>\n",
       "      <th>method_of_sample_procurement</th>\n",
       "      <th>days_to_sample_procurement</th>\n",
       "      <th>days_to_new_tumor_event_after_initial_treatment</th>\n",
       "      <th>additional_pharmaceutical_therapy</th>\n",
       "      <th>new_tumor_event_additional_surgery_procedure</th>\n",
       "      <th>history_of_neoadjuvant_treatment</th>\n",
       "    </tr>\n",
       "  </thead>\n",
       "  <tbody>\n",
       "    <tr>\n",
       "      <th>0</th>\n",
       "      <td>Adrenocortical carcinoma (ACC)</td>\n",
       "      <td>TCGA-OR-A5JM</td>\n",
       "      <td>Sunitinib</td>\n",
       "      <td>DB01268</td>\n",
       "      <td>Clinical Progressive Disease</td>\n",
       "      <td>378</td>\n",
       "      <td>439</td>\n",
       "      <td>0.0</td>\n",
       "      <td>Surgical Resection</td>\n",
       "      <td>1.0</td>\n",
       "      <td>72.0</td>\n",
       "      <td>YES</td>\n",
       "      <td>NO</td>\n",
       "      <td>Yes</td>\n",
       "    </tr>\n",
       "    <tr>\n",
       "      <th>1</th>\n",
       "      <td>Adrenocortical carcinoma (ACC)</td>\n",
       "      <td>TCGA-OR-A5JM</td>\n",
       "      <td>Ketoconazole</td>\n",
       "      <td>DB01026</td>\n",
       "      <td>Clinical Progressive Disease</td>\n",
       "      <td>378</td>\n",
       "      <td>439</td>\n",
       "      <td>0.0</td>\n",
       "      <td>Surgical Resection</td>\n",
       "      <td>1.0</td>\n",
       "      <td>72.0</td>\n",
       "      <td>YES</td>\n",
       "      <td>NO</td>\n",
       "      <td>Yes</td>\n",
       "    </tr>\n",
       "  </tbody>\n",
       "</table>\n",
       "</div>"
      ],
      "text/plain": [
       "                           Cancer bcr_patient_barcode     drug_name  \\\n",
       "0  Adrenocortical carcinoma (ACC)        TCGA-OR-A5JM     Sunitinib   \n",
       "1  Adrenocortical carcinoma (ACC)        TCGA-OR-A5JM  Ketoconazole   \n",
       "\n",
       "  DrugBank ID           measure_of_response days_to_drug_therapy_start  \\\n",
       "0     DB01268  Clinical Progressive Disease                        378   \n",
       "1     DB01026  Clinical Progressive Disease                        378   \n",
       "\n",
       "  days_to_drug_therapy_end  days_to_initial_pathologic_diagnosis  \\\n",
       "0                      439                                   0.0   \n",
       "1                      439                                   0.0   \n",
       "\n",
       "  method_of_sample_procurement  days_to_sample_procurement  \\\n",
       "0           Surgical Resection                         1.0   \n",
       "1           Surgical Resection                         1.0   \n",
       "\n",
       "   days_to_new_tumor_event_after_initial_treatment  \\\n",
       "0                                             72.0   \n",
       "1                                             72.0   \n",
       "\n",
       "  additional_pharmaceutical_therapy  \\\n",
       "0                               YES   \n",
       "1                               YES   \n",
       "\n",
       "  new_tumor_event_additional_surgery_procedure  \\\n",
       "0                                           NO   \n",
       "1                                           NO   \n",
       "\n",
       "  history_of_neoadjuvant_treatment  \n",
       "0                              Yes  \n",
       "1                              Yes  "
      ]
     },
     "execution_count": 88,
     "metadata": {},
     "output_type": "execute_result"
    }
   ],
   "source": [
    "drug_response_tcga.head(2)"
   ]
  },
  {
   "cell_type": "code",
   "execution_count": 89,
   "id": "35c0e31c",
   "metadata": {
    "hidden": true
   },
   "outputs": [
    {
     "data": {
      "text/html": [
       "<div>\n",
       "<style scoped>\n",
       "    .dataframe tbody tr th:only-of-type {\n",
       "        vertical-align: middle;\n",
       "    }\n",
       "\n",
       "    .dataframe tbody tr th {\n",
       "        vertical-align: top;\n",
       "    }\n",
       "\n",
       "    .dataframe thead th {\n",
       "        text-align: right;\n",
       "    }\n",
       "</style>\n",
       "<table border=\"1\" class=\"dataframe\">\n",
       "  <thead>\n",
       "    <tr style=\"text-align: right;\">\n",
       "      <th></th>\n",
       "      <th>bcr_patient_barcode</th>\n",
       "      <th>drug_name</th>\n",
       "    </tr>\n",
       "  </thead>\n",
       "  <tbody>\n",
       "    <tr>\n",
       "      <th>50</th>\n",
       "      <td>TCGA-2L-AAQA</td>\n",
       "      <td>Gemcitabine</td>\n",
       "    </tr>\n",
       "    <tr>\n",
       "      <th>51</th>\n",
       "      <td>TCGA-2L-AAQE</td>\n",
       "      <td>Gemcitabine</td>\n",
       "    </tr>\n",
       "  </tbody>\n",
       "</table>\n",
       "</div>"
      ],
      "text/plain": [
       "   bcr_patient_barcode    drug_name\n",
       "50        TCGA-2L-AAQA  Gemcitabine\n",
       "51        TCGA-2L-AAQE  Gemcitabine"
      ]
     },
     "execution_count": 89,
     "metadata": {},
     "output_type": "execute_result"
    }
   ],
   "source": [
    "response_tcga_v1.head(2)"
   ]
  },
  {
   "cell_type": "code",
   "execution_count": 90,
   "id": "e4f25307",
   "metadata": {
    "hidden": true
   },
   "outputs": [
    {
     "name": "stdout",
     "output_type": "stream",
     "text": [
      "response_tcga_v2.shape: (105, 14)\n",
      "#dup: {x}\n",
      "n_pts: (105,)\n",
      "n drugs_in_use: (13,)\n",
      "drugs_in_use: ['Tamoxifen' 'Cyclophosphamide' 'Paclitaxel' 'Docetaxel' 'Fluorouracil'\n",
      " 'Oxaliplatin' 'Etoposide' 'Cisplatin' 'Temsirolimus' 'Pazopanib'\n",
      " 'Erlotinib' 'Gemcitabine' 'Doxorubicin']\n"
     ]
    }
   ],
   "source": [
    "response_tcga_v2 = response_tcga_v1.loc[response_tcga_v1.bcr_patient_barcode.isin(pt_barcode_inter4d_tcga), :]\n",
    "response_tcga_v2 = pd.merge(drug_response_tcga,\n",
    "                            response_tcga_v2,\n",
    "                           left_on = [\"bcr_patient_barcode\", \"drug_name\"],\n",
    "                           right_on = [\"bcr_patient_barcode\", \"drug_name\"],\n",
    "                           how = \"inner\")\n",
    "print(f\"response_tcga_v2.shape: {response_tcga_v2.shape}\")\n",
    "\n",
    "# check duplication\n",
    "x = response_tcga_v2.duplicated([\"bcr_patient_barcode\", \"drug_name\"]).sum()\n",
    "print(\"#dup: {x}\")\n",
    "\n",
    "# check pts, drugs\n",
    "n_pts = response_tcga_v2.bcr_patient_barcode.unique().shape\n",
    "drugs_in_use = response_tcga_v2.drug_name.unique()\n",
    "print(f\"n_pts: {n_pts}\")\n",
    "print(f\"n drugs_in_use: {drugs_in_use.shape}\")\n",
    "print(f\"drugs_in_use: {drugs_in_use}\")"
   ]
  },
  {
   "cell_type": "code",
   "execution_count": 91,
   "id": "1a24bafc",
   "metadata": {
    "hidden": true
   },
   "outputs": [
    {
     "data": {
      "text/plain": [
       "0"
      ]
     },
     "execution_count": 91,
     "metadata": {},
     "output_type": "execute_result"
    }
   ],
   "source": [
    "# double check duplications\n",
    "response_tcga_v2.bcr_patient_barcode.duplicated().sum()"
   ]
  },
  {
   "cell_type": "markdown",
   "id": "bda76654",
   "metadata": {
    "heading_collapsed": true
   },
   "source": [
    "## process pheno"
   ]
  },
  {
   "cell_type": "code",
   "execution_count": 94,
   "id": "7bbf3608",
   "metadata": {
    "hidden": true
   },
   "outputs": [
    {
     "name": "stdout",
     "output_type": "stream",
     "text": [
      "pheno_gdsc_dummy.shape: (542, 15)\n"
     ]
    }
   ],
   "source": [
    "# load pheno_gdsc_dummy \n",
    "print(f\"pheno_gdsc_dummy.shape: {pheno_gdsc_dummy.shape}\")"
   ]
  },
  {
   "cell_type": "code",
   "execution_count": 95,
   "id": "2f48e3f6",
   "metadata": {
    "hidden": true
   },
   "outputs": [
    {
     "data": {
      "text/plain": [
       "Index(['Age', 'Sex_Female', 'Sex_Male', 'cancerType_TCGA_BRCA',\n",
       "       'cancerType_TCGA_COAD', 'cancerType_TCGA_ESCA', 'cancerType_TCGA_GBM',\n",
       "       'cancerType_TCGA_HNSC', 'cancerType_TCGA_KIRC', 'cancerType_TCGA_LUAD',\n",
       "       'cancerType_TCGA_OV', 'cancerType_TCGA_PAAD', 'cancerType_TCGA_SARC',\n",
       "       'cancerType_TCGA_SCLC', 'cancerType_TCGA_SKCM'],\n",
       "      dtype='object')"
      ]
     },
     "execution_count": 95,
     "metadata": {},
     "output_type": "execute_result"
    }
   ],
   "source": [
    "pheno_gdsc_dummy.columns"
   ]
  },
  {
   "cell_type": "code",
   "execution_count": 96,
   "id": "0ad76631",
   "metadata": {
    "hidden": true
   },
   "outputs": [
    {
     "name": "stdout",
     "output_type": "stream",
     "text": [
      "pheno_tcga_v2.shape: (105, 99)\n"
     ]
    }
   ],
   "source": [
    "# pheno\n",
    "\n",
    "pheno_tcga_v2 = pheno_tcga_v1.loc[pheno_tcga_v1['Patient ID'].isin(pt_barcode_inter4d_tcga), :]\n",
    "print(f\"pheno_tcga_v2.shape: {pheno_tcga_v2.shape}\")"
   ]
  },
  {
   "cell_type": "code",
   "execution_count": 97,
   "id": "dd59f0ed",
   "metadata": {
    "hidden": true,
    "scrolled": true
   },
   "outputs": [
    {
     "name": "stdout",
     "output_type": "stream",
     "text": [
      "0\n",
      "Male      69\n",
      "Female    36\n",
      "Name: Sex, dtype: int64\n",
      "pheno_tcga_v2_dummy.shape: (105, 3)\n",
      "pheno_tcga_v2_dummy.shape: (105, 11)\n",
      "pheno_tcga_v2_dummy.columns: Index(['Age', 'Sex_Female', 'Sex_Male', 'cancerType_TCGA_BRCA',\n",
      "       'cancerType_TCGA_COAD', 'cancerType_TCGA_ESCA', 'cancerType_TCGA_HNSC',\n",
      "       'cancerType_TCGA_KIRC', 'cancerType_TCGA_LUAD', 'cancerType_TCGA_PAAD',\n",
      "       'cancerType_TCGA_SARC'],\n",
      "      dtype='object')\n",
      "col_diff.shape: (4,)\n",
      "col_diff: ['cancerType_TCGA_GBM' 'cancerType_TCGA_OV' 'cancerType_TCGA_SCLC'\n",
      " 'cancerType_TCGA_SKCM']\n",
      "pheno_add.shape: (105, 4)\n",
      "pheno_tcga_v2_dummy.shape: (105, 15)\n"
     ]
    },
    {
     "name": "stderr",
     "output_type": "stream",
     "text": [
      "/tmp/ipykernel_3594/2960597829.py:5: SettingWithCopyWarning: \n",
      "A value is trying to be set on a copy of a slice from a DataFrame.\n",
      "Try using .loc[row_indexer,col_indexer] = value instead\n",
      "\n",
      "See the caveats in the documentation: https://pandas.pydata.org/pandas-docs/stable/user_guide/indexing.html#returning-a-view-versus-a-copy\n",
      "  pheno_tcga_v2[\"Age\"] =  pheno_tcga_v2['Diagnosis Age']\n",
      "/tmp/ipykernel_3594/2960597829.py:6: SettingWithCopyWarning: \n",
      "A value is trying to be set on a copy of a slice from a DataFrame.\n",
      "Try using .loc[row_indexer,col_indexer] = value instead\n",
      "\n",
      "See the caveats in the documentation: https://pandas.pydata.org/pandas-docs/stable/user_guide/indexing.html#returning-a-view-versus-a-copy\n",
      "  pheno_tcga_v2['cancerType_TCGA'] = pheno_tcga_v2['TCGA PanCanAtlas Cancer Type Acronym']\n"
     ]
    }
   ],
   "source": [
    "# pheno_tcga_v2 dummy\n",
    "print(pheno_tcga_v2.Sex.isna().sum())\n",
    "print(pheno_tcga_v2.Sex.value_counts())\n",
    "\n",
    "pheno_tcga_v2[\"Age\"] =  pheno_tcga_v2['Diagnosis Age']\n",
    "pheno_tcga_v2['cancerType_TCGA'] = pheno_tcga_v2['TCGA PanCanAtlas Cancer Type Acronym']\n",
    "\n",
    "cols_tcga = ['Patient ID', 'Age', 'Sex', 'cancerType_TCGA']\n",
    "pheno_tcga_v2_dummy = pheno_tcga_v2.loc[:, cols_tcga].set_index('Patient ID', drop = True)\n",
    "print(f\"pheno_tcga_v2_dummy.shape: {pheno_tcga_v2_dummy.shape}\")\n",
    "\n",
    "pheno_tcga_v2_dummy = pd.get_dummies(data=pheno_tcga_v2_dummy, \n",
    "                                     columns = [\"Sex\", \"cancerType_TCGA\"], dummy_na = False)\n",
    "print(f\"pheno_tcga_v2_dummy.shape: {pheno_tcga_v2_dummy.shape}\")\n",
    "print(f\"pheno_tcga_v2_dummy.columns: {pheno_tcga_v2_dummy.columns}\")\n",
    "\n",
    "# add col_diff to pheno_tcga_dummy\n",
    "col_diff = np.setdiff1d(pheno_gdsc_dummy.columns, pheno_tcga_v2_dummy.columns)\n",
    "print(f\"col_diff.shape: {col_diff.shape}\")\n",
    "print(f\"col_diff: {col_diff}\")\n",
    "\n",
    "pheno_add = pd.DataFrame(np.zeros(shape=(pheno_tcga_v2_dummy.shape[0], len(col_diff))), \n",
    "                         columns = col_diff,\n",
    "                        index = pheno_tcga_v2_dummy.index)\n",
    "print(f\"pheno_add.shape: {pheno_add.shape}\")\n",
    "pheno_tcga_v2_dummy = pd.concat([pheno_tcga_v2_dummy, pheno_add], axis = 1)\n",
    "print(f\"pheno_tcga_v2_dummy.shape: {pheno_tcga_v2_dummy.shape}\")"
   ]
  },
  {
   "cell_type": "markdown",
   "id": "539840b4",
   "metadata": {
    "heading_collapsed": true
   },
   "source": [
    "## process snv"
   ]
  },
  {
   "cell_type": "code",
   "execution_count": 99,
   "id": "ba6b3199",
   "metadata": {
    "hidden": true
   },
   "outputs": [
    {
     "data": {
      "text/html": [
       "<div>\n",
       "<style scoped>\n",
       "    .dataframe tbody tr th:only-of-type {\n",
       "        vertical-align: middle;\n",
       "    }\n",
       "\n",
       "    .dataframe tbody tr th {\n",
       "        vertical-align: top;\n",
       "    }\n",
       "\n",
       "    .dataframe thead th {\n",
       "        text-align: right;\n",
       "    }\n",
       "</style>\n",
       "<table border=\"1\" class=\"dataframe\">\n",
       "  <thead>\n",
       "    <tr style=\"text-align: right;\">\n",
       "      <th></th>\n",
       "      <th>TCGA-02-0003-01</th>\n",
       "      <th>TCGA-02-0033-01</th>\n",
       "      <th>TCGA-02-0047-01</th>\n",
       "      <th>TCGA-02-0055-01</th>\n",
       "      <th>TCGA-02-2470-01</th>\n",
       "      <th>TCGA-02-2483-01</th>\n",
       "      <th>TCGA-02-2485-01</th>\n",
       "      <th>TCGA-02-2486-01</th>\n",
       "      <th>TCGA-04-1353-01</th>\n",
       "      <th>TCGA-04-1369-01</th>\n",
       "      <th>...</th>\n",
       "      <th>TCGA-ZP-A9D4-01</th>\n",
       "      <th>TCGA-ZQ-A9CR-01</th>\n",
       "      <th>TCGA-ZR-A9CJ-01</th>\n",
       "      <th>TCGA-ZS-A9CD-01</th>\n",
       "      <th>TCGA-ZS-A9CE-01</th>\n",
       "      <th>TCGA-ZS-A9CF-01</th>\n",
       "      <th>TCGA-ZS-A9CG-01</th>\n",
       "      <th>TCGA-ZT-A8OM-01</th>\n",
       "      <th>TCGA-ZU-A8S4-01</th>\n",
       "      <th>TCGA-ZX-AA5X-01</th>\n",
       "    </tr>\n",
       "    <tr>\n",
       "      <th>sample</th>\n",
       "      <th></th>\n",
       "      <th></th>\n",
       "      <th></th>\n",
       "      <th></th>\n",
       "      <th></th>\n",
       "      <th></th>\n",
       "      <th></th>\n",
       "      <th></th>\n",
       "      <th></th>\n",
       "      <th></th>\n",
       "      <th></th>\n",
       "      <th></th>\n",
       "      <th></th>\n",
       "      <th></th>\n",
       "      <th></th>\n",
       "      <th></th>\n",
       "      <th></th>\n",
       "      <th></th>\n",
       "      <th></th>\n",
       "      <th></th>\n",
       "      <th></th>\n",
       "    </tr>\n",
       "  </thead>\n",
       "  <tbody>\n",
       "    <tr>\n",
       "      <th>UBE2Q2</th>\n",
       "      <td>0</td>\n",
       "      <td>0</td>\n",
       "      <td>0</td>\n",
       "      <td>0</td>\n",
       "      <td>0</td>\n",
       "      <td>0</td>\n",
       "      <td>0</td>\n",
       "      <td>0</td>\n",
       "      <td>0</td>\n",
       "      <td>0</td>\n",
       "      <td>...</td>\n",
       "      <td>0</td>\n",
       "      <td>0</td>\n",
       "      <td>0</td>\n",
       "      <td>0</td>\n",
       "      <td>0</td>\n",
       "      <td>0</td>\n",
       "      <td>0</td>\n",
       "      <td>0</td>\n",
       "      <td>0</td>\n",
       "      <td>0</td>\n",
       "    </tr>\n",
       "    <tr>\n",
       "      <th>CHMP1B</th>\n",
       "      <td>0</td>\n",
       "      <td>0</td>\n",
       "      <td>0</td>\n",
       "      <td>0</td>\n",
       "      <td>0</td>\n",
       "      <td>0</td>\n",
       "      <td>0</td>\n",
       "      <td>0</td>\n",
       "      <td>0</td>\n",
       "      <td>0</td>\n",
       "      <td>...</td>\n",
       "      <td>0</td>\n",
       "      <td>0</td>\n",
       "      <td>0</td>\n",
       "      <td>0</td>\n",
       "      <td>0</td>\n",
       "      <td>0</td>\n",
       "      <td>0</td>\n",
       "      <td>0</td>\n",
       "      <td>0</td>\n",
       "      <td>0</td>\n",
       "    </tr>\n",
       "  </tbody>\n",
       "</table>\n",
       "<p>2 rows × 9104 columns</p>\n",
       "</div>"
      ],
      "text/plain": [
       "        TCGA-02-0003-01  TCGA-02-0033-01  TCGA-02-0047-01  TCGA-02-0055-01  \\\n",
       "sample                                                                       \n",
       "UBE2Q2                0                0                0                0   \n",
       "CHMP1B                0                0                0                0   \n",
       "\n",
       "        TCGA-02-2470-01  TCGA-02-2483-01  TCGA-02-2485-01  TCGA-02-2486-01  \\\n",
       "sample                                                                       \n",
       "UBE2Q2                0                0                0                0   \n",
       "CHMP1B                0                0                0                0   \n",
       "\n",
       "        TCGA-04-1353-01  TCGA-04-1369-01  ...  TCGA-ZP-A9D4-01  \\\n",
       "sample                                    ...                    \n",
       "UBE2Q2                0                0  ...                0   \n",
       "CHMP1B                0                0  ...                0   \n",
       "\n",
       "        TCGA-ZQ-A9CR-01  TCGA-ZR-A9CJ-01  TCGA-ZS-A9CD-01  TCGA-ZS-A9CE-01  \\\n",
       "sample                                                                       \n",
       "UBE2Q2                0                0                0                0   \n",
       "CHMP1B                0                0                0                0   \n",
       "\n",
       "        TCGA-ZS-A9CF-01  TCGA-ZS-A9CG-01  TCGA-ZT-A8OM-01  TCGA-ZU-A8S4-01  \\\n",
       "sample                                                                       \n",
       "UBE2Q2                0                0                0                0   \n",
       "CHMP1B                0                0                0                0   \n",
       "\n",
       "        TCGA-ZX-AA5X-01  \n",
       "sample                   \n",
       "UBE2Q2                0  \n",
       "CHMP1B                0  \n",
       "\n",
       "[2 rows x 9104 columns]"
      ]
     },
     "execution_count": 99,
     "metadata": {},
     "output_type": "execute_result"
    }
   ],
   "source": [
    "snv_nonsilence_tcga.head(2)"
   ]
  },
  {
   "cell_type": "code",
   "execution_count": 100,
   "id": "3e083cd0",
   "metadata": {
    "hidden": true
   },
   "outputs": [
    {
     "name": "stdout",
     "output_type": "stream",
     "text": [
      "diff_driverG: ['AFDN' 'CARS1' 'CEP43' 'H3-3A' 'H3-3B' 'H4C9' 'KNL1' 'MRTFA' 'NSD2'\n",
      " 'NSD3' 'SEPTIN9' 'TENT5C' 'WDCP']\n",
      "snv_tcga_v1.shape: (763, 105)\n",
      "snv_tcga_v1.shape: (105, 776)\n",
      "#NAs: 0\n"
     ]
    }
   ],
   "source": [
    "mask_frozen_snv = snv_nonsilence_tcga.columns.str.endswith(\"01\")\n",
    "inter_driverG = np.intersect1d(snv_nonsilence_tcga.index.unique().astype(str), geneInter_4sets)\n",
    "diff_driverG = np.setdiff1d(geneInter_4sets, inter_driverG)\n",
    "print(f\"diff_driverG: {diff_driverG}\")\n",
    "snv_tcga_v1 = snv_nonsilence_tcga.loc[snv_nonsilence_tcga.index.isin(inter_driverG), mask_frozen_snv]\n",
    "snv_tcga_v1.columns = snv_tcga_v1.columns.str[0:12]\n",
    "#\n",
    "snv_tcga_v1 = snv_tcga_v1.loc[:, snv_tcga_v1.columns.isin(pt_barcode_inter4d_tcga)]\n",
    "print(f\"snv_tcga_v1.shape: {snv_tcga_v1.shape}\")\n",
    "\n",
    "snv_add = pd.DataFrame(np.zeros(shape=(diff_driverG.shape[0], snv_tcga_v1.shape[1])), \n",
    "                      index = diff_driverG,\n",
    "                      columns = snv_tcga_v1.columns)\n",
    "snv_tcga_v1 = pd.concat([snv_tcga_v1, snv_add], axis = 0).T\n",
    "snv_tcga_v1 = snv_tcga_v1.loc[pt_barcode_inter4d_tcga, geneInter_4sets]\n",
    "print(f\"snv_tcga_v1.shape: {snv_tcga_v1.shape}\")\n",
    "\n",
    "# DOUBLE CHECK NAs\n",
    "x = snv_tcga_v1.isna().sum().sum()\n",
    "print(f\"#NAs: {x}\")"
   ]
  },
  {
   "cell_type": "code",
   "execution_count": 101,
   "id": "caa91045",
   "metadata": {
    "hidden": true
   },
   "outputs": [
    {
     "data": {
      "text/html": [
       "<div>\n",
       "<style scoped>\n",
       "    .dataframe tbody tr th:only-of-type {\n",
       "        vertical-align: middle;\n",
       "    }\n",
       "\n",
       "    .dataframe tbody tr th {\n",
       "        vertical-align: top;\n",
       "    }\n",
       "\n",
       "    .dataframe thead th {\n",
       "        text-align: right;\n",
       "    }\n",
       "</style>\n",
       "<table border=\"1\" class=\"dataframe\">\n",
       "  <thead>\n",
       "    <tr style=\"text-align: right;\">\n",
       "      <th></th>\n",
       "      <th>ABCB1</th>\n",
       "      <th>ABI1</th>\n",
       "      <th>ABL1</th>\n",
       "      <th>ABL2</th>\n",
       "      <th>ACKR3</th>\n",
       "      <th>ACSL3</th>\n",
       "      <th>ACVR1</th>\n",
       "      <th>ACVR2A</th>\n",
       "      <th>AFDN</th>\n",
       "      <th>AFF1</th>\n",
       "      <th>...</th>\n",
       "      <th>ZNF521</th>\n",
       "      <th>ZNF626</th>\n",
       "      <th>ZNF680</th>\n",
       "      <th>ZNF721</th>\n",
       "      <th>ZNF780A</th>\n",
       "      <th>ZNF814</th>\n",
       "      <th>ZNF93</th>\n",
       "      <th>ZNRF3</th>\n",
       "      <th>ZRSR2</th>\n",
       "      <th>ZXDB</th>\n",
       "    </tr>\n",
       "  </thead>\n",
       "  <tbody>\n",
       "    <tr>\n",
       "      <th>TCGA-2L-AAQA</th>\n",
       "      <td>0.0</td>\n",
       "      <td>0.0</td>\n",
       "      <td>0.0</td>\n",
       "      <td>0.0</td>\n",
       "      <td>0.0</td>\n",
       "      <td>0.0</td>\n",
       "      <td>0.0</td>\n",
       "      <td>0.0</td>\n",
       "      <td>0.0</td>\n",
       "      <td>0.0</td>\n",
       "      <td>...</td>\n",
       "      <td>0.0</td>\n",
       "      <td>0.0</td>\n",
       "      <td>0.0</td>\n",
       "      <td>0.0</td>\n",
       "      <td>0.0</td>\n",
       "      <td>0.0</td>\n",
       "      <td>0.0</td>\n",
       "      <td>0.0</td>\n",
       "      <td>0.0</td>\n",
       "      <td>0.0</td>\n",
       "    </tr>\n",
       "    <tr>\n",
       "      <th>TCGA-2L-AAQE</th>\n",
       "      <td>0.0</td>\n",
       "      <td>0.0</td>\n",
       "      <td>0.0</td>\n",
       "      <td>0.0</td>\n",
       "      <td>0.0</td>\n",
       "      <td>0.0</td>\n",
       "      <td>0.0</td>\n",
       "      <td>0.0</td>\n",
       "      <td>0.0</td>\n",
       "      <td>0.0</td>\n",
       "      <td>...</td>\n",
       "      <td>0.0</td>\n",
       "      <td>0.0</td>\n",
       "      <td>0.0</td>\n",
       "      <td>0.0</td>\n",
       "      <td>0.0</td>\n",
       "      <td>0.0</td>\n",
       "      <td>0.0</td>\n",
       "      <td>0.0</td>\n",
       "      <td>0.0</td>\n",
       "      <td>0.0</td>\n",
       "    </tr>\n",
       "  </tbody>\n",
       "</table>\n",
       "<p>2 rows × 776 columns</p>\n",
       "</div>"
      ],
      "text/plain": [
       "              ABCB1  ABI1  ABL1  ABL2  ACKR3  ACSL3  ACVR1  ACVR2A  AFDN  \\\n",
       "TCGA-2L-AAQA    0.0   0.0   0.0   0.0    0.0    0.0    0.0     0.0   0.0   \n",
       "TCGA-2L-AAQE    0.0   0.0   0.0   0.0    0.0    0.0    0.0     0.0   0.0   \n",
       "\n",
       "              AFF1  ...  ZNF521  ZNF626  ZNF680  ZNF721  ZNF780A  ZNF814  \\\n",
       "TCGA-2L-AAQA   0.0  ...     0.0     0.0     0.0     0.0      0.0     0.0   \n",
       "TCGA-2L-AAQE   0.0  ...     0.0     0.0     0.0     0.0      0.0     0.0   \n",
       "\n",
       "              ZNF93  ZNRF3  ZRSR2  ZXDB  \n",
       "TCGA-2L-AAQA    0.0    0.0    0.0   0.0  \n",
       "TCGA-2L-AAQE    0.0    0.0    0.0   0.0  \n",
       "\n",
       "[2 rows x 776 columns]"
      ]
     },
     "execution_count": 101,
     "metadata": {},
     "output_type": "execute_result"
    }
   ],
   "source": [
    "snv_tcga_v1.head(2)"
   ]
  },
  {
   "cell_type": "markdown",
   "id": "035fb30f",
   "metadata": {
    "heading_collapsed": true
   },
   "source": [
    "## process gep"
   ]
  },
  {
   "cell_type": "code",
   "execution_count": 102,
   "id": "630979e7",
   "metadata": {
    "hidden": true
   },
   "outputs": [
    {
     "data": {
      "text/html": [
       "<div>\n",
       "<style scoped>\n",
       "    .dataframe tbody tr th:only-of-type {\n",
       "        vertical-align: middle;\n",
       "    }\n",
       "\n",
       "    .dataframe tbody tr th {\n",
       "        vertical-align: top;\n",
       "    }\n",
       "\n",
       "    .dataframe thead th {\n",
       "        text-align: right;\n",
       "    }\n",
       "</style>\n",
       "<table border=\"1\" class=\"dataframe\">\n",
       "  <thead>\n",
       "    <tr style=\"text-align: right;\">\n",
       "      <th></th>\n",
       "      <th>TCGA-19-1787</th>\n",
       "      <th>TCGA-S9-A7J2</th>\n",
       "      <th>TCGA-G3-A3CH</th>\n",
       "      <th>TCGA-EK-A2RE</th>\n",
       "      <th>TCGA-44-6778</th>\n",
       "      <th>TCGA-F4-6854</th>\n",
       "      <th>TCGA-AB-2863</th>\n",
       "      <th>TCGA-C8-A1HL</th>\n",
       "      <th>TCGA-EW-A2FS</th>\n",
       "      <th>TCGA-IR-A3L7</th>\n",
       "      <th>...</th>\n",
       "      <th>TCGA-A8-A09K</th>\n",
       "      <th>TCGA-61-1907</th>\n",
       "      <th>TCGA-IB-7885</th>\n",
       "      <th>TCGA-95-7947</th>\n",
       "      <th>TCGA-VQ-AA6F</th>\n",
       "      <th>TCGA-BR-8588</th>\n",
       "      <th>TCGA-24-2254</th>\n",
       "      <th>TCGA-DD-A115</th>\n",
       "      <th>TCGA-FV-A3I0</th>\n",
       "      <th>gene_ensemble</th>\n",
       "    </tr>\n",
       "    <tr>\n",
       "      <th>gene_symbol</th>\n",
       "      <th></th>\n",
       "      <th></th>\n",
       "      <th></th>\n",
       "      <th></th>\n",
       "      <th></th>\n",
       "      <th></th>\n",
       "      <th></th>\n",
       "      <th></th>\n",
       "      <th></th>\n",
       "      <th></th>\n",
       "      <th></th>\n",
       "      <th></th>\n",
       "      <th></th>\n",
       "      <th></th>\n",
       "      <th></th>\n",
       "      <th></th>\n",
       "      <th></th>\n",
       "      <th></th>\n",
       "      <th></th>\n",
       "      <th></th>\n",
       "      <th></th>\n",
       "    </tr>\n",
       "  </thead>\n",
       "  <tbody>\n",
       "    <tr>\n",
       "      <th>LINC02082</th>\n",
       "      <td>-9.9658</td>\n",
       "      <td>0.2998</td>\n",
       "      <td>-9.9658</td>\n",
       "      <td>-9.9658</td>\n",
       "      <td>-9.9658</td>\n",
       "      <td>-9.9658</td>\n",
       "      <td>-9.9658</td>\n",
       "      <td>-9.9658</td>\n",
       "      <td>-9.9658</td>\n",
       "      <td>-9.9658</td>\n",
       "      <td>...</td>\n",
       "      <td>-9.9658</td>\n",
       "      <td>-9.9658</td>\n",
       "      <td>-9.9658</td>\n",
       "      <td>-9.9658</td>\n",
       "      <td>-9.9658</td>\n",
       "      <td>-9.9658</td>\n",
       "      <td>-1.9379</td>\n",
       "      <td>-9.9658</td>\n",
       "      <td>-9.9658</td>\n",
       "      <td>ENSG00000242268</td>\n",
       "    </tr>\n",
       "    <tr>\n",
       "      <th>ST8SIA5-DT</th>\n",
       "      <td>-3.8160</td>\n",
       "      <td>-3.0469</td>\n",
       "      <td>-9.9658</td>\n",
       "      <td>-9.9658</td>\n",
       "      <td>-5.5735</td>\n",
       "      <td>-9.9658</td>\n",
       "      <td>-3.4580</td>\n",
       "      <td>-9.9658</td>\n",
       "      <td>-5.0116</td>\n",
       "      <td>-9.9658</td>\n",
       "      <td>...</td>\n",
       "      <td>-9.9658</td>\n",
       "      <td>-9.9658</td>\n",
       "      <td>-9.9658</td>\n",
       "      <td>-6.5064</td>\n",
       "      <td>-9.9658</td>\n",
       "      <td>-9.9658</td>\n",
       "      <td>-5.5735</td>\n",
       "      <td>-9.9658</td>\n",
       "      <td>-9.9658</td>\n",
       "      <td>ENSG00000270112</td>\n",
       "    </tr>\n",
       "  </tbody>\n",
       "</table>\n",
       "<p>2 rows × 10536 columns</p>\n",
       "</div>"
      ],
      "text/plain": [
       "             TCGA-19-1787  TCGA-S9-A7J2  TCGA-G3-A3CH  TCGA-EK-A2RE  \\\n",
       "gene_symbol                                                           \n",
       "LINC02082         -9.9658        0.2998       -9.9658       -9.9658   \n",
       "ST8SIA5-DT        -3.8160       -3.0469       -9.9658       -9.9658   \n",
       "\n",
       "             TCGA-44-6778  TCGA-F4-6854  TCGA-AB-2863  TCGA-C8-A1HL  \\\n",
       "gene_symbol                                                           \n",
       "LINC02082         -9.9658       -9.9658       -9.9658       -9.9658   \n",
       "ST8SIA5-DT        -5.5735       -9.9658       -3.4580       -9.9658   \n",
       "\n",
       "             TCGA-EW-A2FS  TCGA-IR-A3L7  ...  TCGA-A8-A09K  TCGA-61-1907  \\\n",
       "gene_symbol                              ...                               \n",
       "LINC02082         -9.9658       -9.9658  ...       -9.9658       -9.9658   \n",
       "ST8SIA5-DT        -5.0116       -9.9658  ...       -9.9658       -9.9658   \n",
       "\n",
       "             TCGA-IB-7885  TCGA-95-7947  TCGA-VQ-AA6F  TCGA-BR-8588  \\\n",
       "gene_symbol                                                           \n",
       "LINC02082         -9.9658       -9.9658       -9.9658       -9.9658   \n",
       "ST8SIA5-DT        -9.9658       -6.5064       -9.9658       -9.9658   \n",
       "\n",
       "             TCGA-24-2254  TCGA-DD-A115  TCGA-FV-A3I0    gene_ensemble  \n",
       "gene_symbol                                                             \n",
       "LINC02082         -1.9379       -9.9658       -9.9658  ENSG00000242268  \n",
       "ST8SIA5-DT        -5.5735       -9.9658       -9.9658  ENSG00000270112  \n",
       "\n",
       "[2 rows x 10536 columns]"
      ]
     },
     "execution_count": 102,
     "metadata": {},
     "output_type": "execute_result"
    }
   ],
   "source": [
    "tpm_tcga_v1.head(2)"
   ]
  },
  {
   "cell_type": "code",
   "execution_count": 103,
   "id": "30678d83",
   "metadata": {
    "hidden": true
   },
   "outputs": [
    {
     "name": "stdout",
     "output_type": "stream",
     "text": [
      "pt_barcode_inter4d_tcga.shape: (105,)\n",
      "mask_samples.sum: 110\n",
      "mask_sample_dup.sum: 754\n",
      "diff_gene: (0,)\n",
      "(110, 776)\n"
     ]
    }
   ],
   "source": [
    "# process gep: filter samples and drivr genes\n",
    "\n",
    "# filter samples\n",
    "mask_samples = tpm_tcga_v1.columns.isin(pt_barcode_inter4d_tcga)\n",
    "mask_sample_dup = tpm_tcga_v1.columns.duplicated()\n",
    "print(f\"pt_barcode_inter4d_tcga.shape: {pt_barcode_inter4d_tcga.shape}\")\n",
    "print(f\"mask_samples.sum: {mask_samples.sum()}\")\n",
    "print(f\"mask_sample_dup.sum: {mask_sample_dup.sum()}\")\n",
    "\n",
    "# select the driver genes\n",
    "inter_gene = np.intersect1d(tpm_tcga_v1.index, geneInter_4sets)\n",
    "diff_gene = np.setdiff1d(geneInter_4sets, tpm_tcga_v1.index)\n",
    "print(f\"diff_gene: {diff_gene.shape}\")\n",
    "tpm_tcga_v2 = tpm_tcga_v1.loc[tpm_tcga_v1.index.isin(inter_gene), mask_samples].T\n",
    "tpm_tcga_v2 = tpm_tcga_v2.loc[pt_barcode_inter4d_tcga, geneInter_4sets]\n",
    "print(tpm_tcga_v2.shape)"
   ]
  },
  {
   "cell_type": "code",
   "execution_count": 64,
   "id": "73e5c8c4",
   "metadata": {
    "hidden": true
   },
   "outputs": [
    {
     "data": {
      "text/html": [
       "<div>\n",
       "<style scoped>\n",
       "    .dataframe tbody tr th:only-of-type {\n",
       "        vertical-align: middle;\n",
       "    }\n",
       "\n",
       "    .dataframe tbody tr th {\n",
       "        vertical-align: top;\n",
       "    }\n",
       "\n",
       "    .dataframe thead th {\n",
       "        text-align: right;\n",
       "    }\n",
       "</style>\n",
       "<table border=\"1\" class=\"dataframe\">\n",
       "  <thead>\n",
       "    <tr style=\"text-align: right;\">\n",
       "      <th>gene_symbol</th>\n",
       "      <th>ABCB1</th>\n",
       "      <th>ABI1</th>\n",
       "      <th>ABL1</th>\n",
       "      <th>ABL2</th>\n",
       "      <th>ACKR3</th>\n",
       "      <th>ACSL3</th>\n",
       "      <th>ACVR1</th>\n",
       "      <th>ACVR2A</th>\n",
       "      <th>AFDN</th>\n",
       "      <th>AFF1</th>\n",
       "      <th>...</th>\n",
       "      <th>ZNF521</th>\n",
       "      <th>ZNF626</th>\n",
       "      <th>ZNF680</th>\n",
       "      <th>ZNF721</th>\n",
       "      <th>ZNF780A</th>\n",
       "      <th>ZNF814</th>\n",
       "      <th>ZNF93</th>\n",
       "      <th>ZNRF3</th>\n",
       "      <th>ZRSR2</th>\n",
       "      <th>ZXDB</th>\n",
       "    </tr>\n",
       "  </thead>\n",
       "  <tbody>\n",
       "    <tr>\n",
       "      <th>TCGA-2L-AAQA</th>\n",
       "      <td>0.5666</td>\n",
       "      <td>5.3140</td>\n",
       "      <td>4.4516</td>\n",
       "      <td>2.3704</td>\n",
       "      <td>5.3191</td>\n",
       "      <td>6.0588</td>\n",
       "      <td>4.7719</td>\n",
       "      <td>1.8643</td>\n",
       "      <td>5.3456</td>\n",
       "      <td>2.9186</td>\n",
       "      <td>...</td>\n",
       "      <td>1.7744</td>\n",
       "      <td>-0.3201</td>\n",
       "      <td>2.3193</td>\n",
       "      <td>3.7857</td>\n",
       "      <td>3.1442</td>\n",
       "      <td>2.3394</td>\n",
       "      <td>-0.2328</td>\n",
       "      <td>1.3051</td>\n",
       "      <td>3.3221</td>\n",
       "      <td>2.3222</td>\n",
       "    </tr>\n",
       "    <tr>\n",
       "      <th>TCGA-2L-AAQE</th>\n",
       "      <td>1.2023</td>\n",
       "      <td>5.1966</td>\n",
       "      <td>4.4932</td>\n",
       "      <td>1.6045</td>\n",
       "      <td>3.0740</td>\n",
       "      <td>4.9644</td>\n",
       "      <td>4.6899</td>\n",
       "      <td>3.5982</td>\n",
       "      <td>4.4183</td>\n",
       "      <td>3.2096</td>\n",
       "      <td>...</td>\n",
       "      <td>2.3308</td>\n",
       "      <td>-0.4921</td>\n",
       "      <td>1.9638</td>\n",
       "      <td>3.4687</td>\n",
       "      <td>4.1310</td>\n",
       "      <td>2.8582</td>\n",
       "      <td>1.5514</td>\n",
       "      <td>0.9115</td>\n",
       "      <td>3.8105</td>\n",
       "      <td>1.5902</td>\n",
       "    </tr>\n",
       "  </tbody>\n",
       "</table>\n",
       "<p>2 rows × 776 columns</p>\n",
       "</div>"
      ],
      "text/plain": [
       "gene_symbol    ABCB1    ABI1    ABL1    ABL2   ACKR3   ACSL3   ACVR1  ACVR2A  \\\n",
       "TCGA-2L-AAQA  0.5666  5.3140  4.4516  2.3704  5.3191  6.0588  4.7719  1.8643   \n",
       "TCGA-2L-AAQE  1.2023  5.1966  4.4932  1.6045  3.0740  4.9644  4.6899  3.5982   \n",
       "\n",
       "gene_symbol     AFDN    AFF1  ...  ZNF521  ZNF626  ZNF680  ZNF721  ZNF780A  \\\n",
       "TCGA-2L-AAQA  5.3456  2.9186  ...  1.7744 -0.3201  2.3193  3.7857   3.1442   \n",
       "TCGA-2L-AAQE  4.4183  3.2096  ...  2.3308 -0.4921  1.9638  3.4687   4.1310   \n",
       "\n",
       "gene_symbol   ZNF814   ZNF93   ZNRF3   ZRSR2    ZXDB  \n",
       "TCGA-2L-AAQA  2.3394 -0.2328  1.3051  3.3221  2.3222  \n",
       "TCGA-2L-AAQE  2.8582  1.5514  0.9115  3.8105  1.5902  \n",
       "\n",
       "[2 rows x 776 columns]"
      ]
     },
     "execution_count": 64,
     "metadata": {},
     "output_type": "execute_result"
    }
   ],
   "source": [
    "tpm_tcga_v2.head(2)"
   ]
  },
  {
   "cell_type": "markdown",
   "id": "ba17effb",
   "metadata": {
    "heading_collapsed": true
   },
   "source": [
    "## save TCGA temp"
   ]
  },
  {
   "cell_type": "code",
   "execution_count": 104,
   "id": "10d5910a",
   "metadata": {
    "hidden": true
   },
   "outputs": [],
   "source": [
    "# save\n",
    "response_tcga_v2.to_csv(\"../data_temp/response_tcga_v2.csv\", index = False)\n",
    "\n",
    "tpm_tcga_v2.to_csv(\"../data_temp/tpm_tcga_v2.csv\", index = True)\n",
    "\n",
    "pheno_tcga_v2.to_csv(\"../data_temp/pheno_tcga_v2.csv\", index = False)\n",
    "pheno_tcga_v2_dummy.to_csv(\"../data_temp/pheno_tcga_v2_dummy.csv\", index = True)\n",
    "\n",
    "snv_tcga_v1.to_csv(\"../data_temp/snv_tcga_v1.csv\", index = True)"
   ]
  },
  {
   "cell_type": "markdown",
   "id": "78f48557",
   "metadata": {},
   "source": [
    "# record"
   ]
  },
  {
   "cell_type": "code",
   "execution_count": null,
   "id": "ececae70",
   "metadata": {},
   "outputs": [],
   "source": [
    "# # drug\n",
    "# df_fingerprints.to_csv(\"../data_temp/df_fingerprints_18drugs.csv\")\n",
    "\n",
    "# # GDSC\n",
    "# ic50_gdsc_wide.to_csv(\"../data_temp/ic50_gdsc_wide.csv\", index = True)\n",
    "# ic50_gdsc_v4.to_csv(\"../data_temp/ic50_gdsc_v4.csv\", index = False)\n",
    "# pheno_gdsc_dummy.to_csv(\"../data_temp/pheno_gdsc_dummy.csv\", index = True)\n",
    "# pheno_gdsc_v1.to_csv(\"../data_temp/pheno_gdsc_v1.csv\", index = True)\n",
    "# snv_gdsc_wide_v1.to_csv(\"../data_temp/snv_gdsc_wide_v1.csv\", index = True)\n",
    "# tpm_gdsc_v1.to_csv(\"../data_temp/tpm_gdsc_v1.csv\", index = True)\n",
    "# driverG_filtered.to_csv(\"../data_temp/driverG_filtered.csv\")\n",
    "\n",
    "# # TCGA\n",
    "# response_tcga_v2.to_csv(\"../data_temp/response_tcga_v2.csv\", index = False)\n",
    "\n",
    "# tpm_tcga_v2.to_csv(\"../data_temp/tpm_tcga_v2.csv\", index = True)\n",
    "\n",
    "# pheno_tcga_v2.to_csv(\"../data_temp/pheno_tcga_v2.csv\", index = False)\n",
    "# pheno_tcga_v2_dummy.to_csv(\"../data_temp/pheno_tcga_v2_dummy.csv\", index = True)\n",
    "\n",
    "# snv_tcga_v1.to_csv(\"../data_temp/snv_tcga_v1.csv\", index = True)"
   ]
  }
 ],
 "metadata": {
  "kernelspec": {
   "display_name": "Python 3 (ipykernel)",
   "language": "python",
   "name": "python3"
  },
  "language_info": {
   "codemirror_mode": {
    "name": "ipython",
    "version": 3
   },
   "file_extension": ".py",
   "mimetype": "text/x-python",
   "name": "python",
   "nbconvert_exporter": "python",
   "pygments_lexer": "ipython3",
   "version": "3.10.6"
  },
  "toc": {
   "base_numbering": 1,
   "nav_menu": {},
   "number_sections": true,
   "sideBar": true,
   "skip_h1_title": false,
   "title_cell": "Table of Contents",
   "title_sidebar": "Contents",
   "toc_cell": false,
   "toc_position": {},
   "toc_section_display": true,
   "toc_window_display": false
  }
 },
 "nbformat": 4,
 "nbformat_minor": 5
}
