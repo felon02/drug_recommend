{
 "cells": [
  {
   "cell_type": "markdown",
   "id": "091a31a2",
   "metadata": {},
   "source": [
    "goal: CCLE dataTransform_and_testing"
   ]
  },
  {
   "cell_type": "code",
   "execution_count": 1,
   "id": "8a1c36fd",
   "metadata": {},
   "outputs": [
    {
     "name": "stderr",
     "output_type": "stream",
     "text": [
      "2024-10-09 13:24:30.576099: I tensorflow/core/util/util.cc:169] oneDNN custom operations are on. You may see slightly different numerical results due to floating-point round-off errors from different computation orders. To turn them off, set the environment variable `TF_ENABLE_ONEDNN_OPTS=0`.\n"
     ]
    }
   ],
   "source": [
    "import numpy as np\n",
    "import pandas as pd\n",
    "import os, pickle\n",
    "import matplotlib.pyplot as plt\n",
    "\n",
    "from sklearn.preprocessing import StandardScaler, MinMaxScaler, MaxAbsScaler\n",
    "from sklearn.model_selection import train_test_split, StratifiedKFold, GroupKFold\n",
    "from sklearn.metrics import classification_report, confusion_matrix\n",
    "\n",
    "# import tensorflow as tf # don't do this!!!\n",
    "# from tensorflow import keras\n",
    "from tensorflow.keras import layers, regularizers, utils, losses, optimizers\n",
    "from tensorflow.keras.models import Model, Sequential, load_model\n",
    "from tensorflow.keras.callbacks import ModelCheckpoint, EarlyStopping\n",
    "from tensorflow import linalg, random\n",
    "\n",
    "pd.set_option(\"display.precision\", 3)"
   ]
  },
  {
   "cell_type": "code",
   "execution_count": 2,
   "id": "d5819967",
   "metadata": {},
   "outputs": [
    {
     "name": "stderr",
     "output_type": "stream",
     "text": [
      "2024-10-09 13:24:37.724480: I tensorflow/core/platform/cpu_feature_guard.cc:193] This TensorFlow binary is optimized with oneAPI Deep Neural Network Library (oneDNN) to use the following CPU instructions in performance-critical operations:  SSE4.1 SSE4.2 AVX AVX2 AVX512F AVX512_VNNI FMA\n",
      "To enable them in other operations, rebuild TensorFlow with the appropriate compiler flags.\n"
     ]
    }
   ],
   "source": [
    "# load model\n",
    "\n",
    "model = load_model(\"../data_temp/out_model/model_20230828.mod\")"
   ]
  },
  {
   "cell_type": "code",
   "execution_count": 4,
   "id": "44e095a6",
   "metadata": {},
   "outputs": [],
   "source": [
    "# gdsc dict used for model training\n",
    "# feature orders in TCGA should be the same as gdsc\n",
    "\n",
    "with open('../data_temp/gdsc_dict.dict', 'rb') as f:\n",
    "    gdsc_dict = pickle.load(f)"
   ]
  },
  {
   "cell_type": "code",
   "execution_count": 5,
   "id": "7c526b69",
   "metadata": {},
   "outputs": [
    {
     "name": "stdout",
     "output_type": "stream",
     "text": [
      "dict_keys(['y_gdsc', 'x_pheno', 'x_snv', 'x_gep', 'x_drug'])\n",
      "dc1.all: True\n",
      "dc2.all: True\n",
      "dc2.all: True\n",
      "dc2.all: True\n"
     ]
    }
   ],
   "source": [
    "# double check gdsc_dict\n",
    "\n",
    "print(gdsc_dict.keys())\n",
    "\n",
    "dc1 = gdsc_dict['x_drug'].index == gdsc_dict[\"y_gdsc\"].index.get_level_values(1)\n",
    "print(f\"dc1.all: {dc1.all()}\")\n",
    "\n",
    "dc2 = gdsc_dict[\"y_gdsc\"].index.get_level_values(0) == gdsc_dict['x_pheno'].index\n",
    "print(f\"dc2.all: {dc2.all()}\")\n",
    "\n",
    "dc3 = gdsc_dict[\"y_gdsc\"].index.get_level_values(0) == gdsc_dict['x_snv'].index\n",
    "print(f\"dc2.all: {dc3.all()}\")\n",
    "\n",
    "dc4 = gdsc_dict[\"y_gdsc\"].index.get_level_values(0) == gdsc_dict['x_gep'].index\n",
    "print(f\"dc2.all: {dc4.all()}\")"
   ]
  },
  {
   "cell_type": "markdown",
   "id": "04578a3e",
   "metadata": {},
   "source": [
    "# ccle data load"
   ]
  },
  {
   "cell_type": "code",
   "execution_count": 7,
   "id": "cb6d8aac",
   "metadata": {
    "scrolled": true
   },
   "outputs": [
    {
     "name": "stderr",
     "output_type": "stream",
     "text": [
      "/tmp/ipykernel_5063/3574324941.py:13: DtypeWarning: Columns (3,19,22,27,28,29,30,31) have mixed types. Specify dtype option on import or set low_memory=False.\n",
      "  snv = pd.read_csv(os.path.join(path_ccle, \"CCLE_mutations.csv\"))\n"
     ]
    },
    {
     "name": "stdout",
     "output_type": "stream",
     "text": [
      "pheno_22Q4.shape: (1826, 23)\n",
      "snv.shape: (1231281, 32)\n",
      "tpm.shape: (1406, 53970)\n",
      "response_mfi.shape: (578, 4686)\n",
      "resonse_sens.shape: (568, 4603)\n",
      "drug_info.shape: (17058, 18)\n"
     ]
    }
   ],
   "source": [
    "# \n",
    "path_ccle = \"../data_input/ccle/data_20Q4\"\n",
    "\n",
    "response_mfi = \"primary-screen-replicate-collapsed-logfold-change.csv\"\n",
    "response_mfi = pd.read_csv(os.path.join(path_ccle, response_mfi), index_col = 0)\n",
    "\n",
    "drug_info = \"primary-screen-replicate-treatment-info.csv\"\n",
    "drug_info = pd.read_csv(os.path.join(path_ccle, drug_info))\n",
    "\n",
    "# note, i used pheno of the latest version, bencase of cancer tyep annotation\n",
    "pheno_22Q4 = pd.read_csv(\"../data_input/ccle/data_22Q4/Model.csv\", index_col = 0)\n",
    "\n",
    "snv = pd.read_csv(os.path.join(path_ccle, \"CCLE_mutations.csv\"))\n",
    "tpm = pd.read_csv(os.path.join(path_ccle, \"CCLE_expression_full.csv\"), index_col = 0)\n",
    "# # WARNING: TMP is log2(tpm + 1), should be transformed to log2(tpm+0.001)\n",
    "\n",
    "for v in [\"pheno_22Q4\", \"snv\", \"tpm\", \"response_mfi\", \"resonse_sens\", \"drug_info\"]:\n",
    "    print(f\"{v}.shape: {eval(v).shape}\")"
   ]
  },
  {
   "cell_type": "code",
   "execution_count": 8,
   "id": "ddd1ebe4",
   "metadata": {},
   "outputs": [
    {
     "name": "stdout",
     "output_type": "stream",
     "text": [
      "(1759,)\n",
      "(1406, 53970)\n"
     ]
    }
   ],
   "source": [
    "print(snv.DepMap_ID.unique().shape)\n",
    "print(tpm.shape) # row for id, column for gene"
   ]
  },
  {
   "cell_type": "code",
   "execution_count": 15,
   "id": "3f084a45",
   "metadata": {},
   "outputs": [
    {
     "name": "stdout",
     "output_type": "stream",
     "text": [
      "df_cancerType_mapping_CCLEandTCGA.shape: (180, 2)\n",
      "pheno_gdsc_v1.shape: (542, 3)\n"
     ]
    }
   ],
   "source": [
    "# anno from main1_v2\n",
    "df_cancerType_mapping_CCLEandTCGA = pd.read_csv(\"../output/df_cancerType_mapping_CCLEandTCGA.csv\")\n",
    "print(f\"df_cancerType_mapping_CCLEandTCGA.shape: {df_cancerType_mapping_CCLEandTCGA.shape}\")\n",
    "\n",
    "# pheno_gdsc_v1 from main1_v2\n",
    "pheno_gdsc_v1 = pd.read_csv(\"../data_temp/pheno_gdsc_v1.csv\", index_col = 0)\n",
    "print(f\"pheno_gdsc_v1.shape: {pheno_gdsc_v1.shape}\")"
   ]
  },
  {
   "cell_type": "markdown",
   "id": "489c6147",
   "metadata": {},
   "source": [
    "# CCLE data clean: Drugs, IDs, Cancer types"
   ]
  },
  {
   "cell_type": "markdown",
   "id": "713139d2",
   "metadata": {},
   "source": [
    "## select the drugs used in the gdsc"
   ]
  },
  {
   "cell_type": "code",
   "execution_count": 16,
   "id": "600215b9",
   "metadata": {},
   "outputs": [
    {
     "name": "stdout",
     "output_type": "stream",
     "text": [
      "drug_used.shape: (18,)\n",
      "drug_used is: Index(['Bicalutamide', 'Cisplatin', 'Cyclophosphamide', 'Dasatinib',\n",
      "       'Docetaxel', 'Doxorubicin', 'Erlotinib', 'Etoposide', 'Fluorouracil',\n",
      "       'Gemcitabine', 'Oxaliplatin', 'Paclitaxel', 'Pazopanib', 'Sorafenib',\n",
      "       'Tamoxifen', 'Temozolomide', 'Temsirolimus', 'Vinorelbine'],\n",
      "      dtype='object')\n"
     ]
    }
   ],
   "source": [
    "# select the drugs used in the gdsc\n",
    "\n",
    "drug_used = gdsc_dict['x_drug'].index.unique()\n",
    "print(f\"drug_used.shape: {drug_used.shape}\")\n",
    "print(f\"drug_used is: {drug_used}\")\n",
    "\n",
    "regx = \"|\".join(drug_used)\n",
    "\n",
    "# WARNING: the uppercase vs. lowercase\n",
    "mask = drug_info.name.str.contains(regx, case = False)\n",
    "drug_used_info = drug_info.loc[mask & (~mask.isna()), :]\n",
    "drug_used_info = drug_used_info.loc[:, ['broad_id', 'name']].drop_duplicates()\n",
    "# Note: docetaxel, Oxaliplatin has 2 broad_id, they come from different vendor\n",
    "# keep only one of them"
   ]
  },
  {
   "cell_type": "code",
   "execution_count": 17,
   "id": "90833f28",
   "metadata": {},
   "outputs": [
    {
     "name": "stdout",
     "output_type": "stream",
     "text": [
      "                     broad_id         name\n",
      "5914   BRD-K30577245-341-01-9    docetaxel\n",
      "12675  BRD-K78960041-001-03-2  oxaliplatin\n",
      "12781  BRD-K78960041-001-05-7  oxaliplatin\n",
      "14128  BRD-K30577245-001-04-3    docetaxel\n",
      "['BRD-K30577245-001-04-3', 'BRD-K78960041-001-03-2']\n"
     ]
    }
   ],
   "source": [
    "mask_dup = drug_used_info['name'].duplicated(keep=False)\n",
    "print(drug_used_info.loc[mask_dup, :])\n",
    "\n",
    "docetaxel_selected = \"BRD-K30577245-341-01-9\" # because of IC50\n",
    "docetaxel_doNotUse = \"BRD-K30577245-001-04-3\"\n",
    "oxaliplatin_selected = \"BRD-K78960041-001-05-7\" # randomly\n",
    "oxaliplatin_doNotUse = \"BRD-K78960041-001-03-2\" # randomly\n",
    "broadID_doNotUse = [docetaxel_doNotUse, oxaliplatin_doNotUse]\n",
    "print(broadID_doNotUse)"
   ]
  },
  {
   "cell_type": "code",
   "execution_count": 18,
   "id": "8fa4f0b4",
   "metadata": {},
   "outputs": [
    {
     "name": "stdout",
     "output_type": "stream",
     "text": [
      "drug_used_info.shape: (18, 3)\n",
      "dc1: True\n"
     ]
    }
   ],
   "source": [
    "#\n",
    "mask_dup = drug_used_info.name.duplicated(keep = False)\n",
    "mask_broadID = drug_used_info.broad_id.isin(broadID_doNotUse)\n",
    "drug_used_info = drug_used_info.loc[~(mask_dup & mask_broadID), :]\n",
    "\n",
    "# revise drugs\n",
    "# revise the capital letters in all the words to uppercase\n",
    "drug_revise = {'5-fluorouracil': 'Fluorouracil'}\n",
    "drug_remove = ['etoposide-phosphate']\n",
    "mask1 = drug_used_info.name.isin(drug_remove)\n",
    "drug_used_info = drug_used_info.loc[~mask1, :]\n",
    "drug_used_info[\"drug_name_revised\"] = np.where(drug_used_info.name == '5-fluorouracil',\n",
    "                                              'Fluorouracil',\n",
    "                                              drug_used_info.name)\n",
    "drug_used_info[\"drug_name_revised\"] = drug_used_info[\"drug_name_revised\"].str.title()\n",
    "print(f\"drug_used_info.shape: {drug_used_info.shape}\")\n",
    "\n",
    "# double check\n",
    "dc1 = np.sort(drug_used_info.drug_name_revised.unique()) == np.sort(drug_used)\n",
    "print(f\"dc1: {dc1.all()}\")"
   ]
  },
  {
   "cell_type": "code",
   "execution_count": 20,
   "id": "fc72de12",
   "metadata": {},
   "outputs": [
    {
     "data": {
      "text/html": [
       "<div>\n",
       "<style scoped>\n",
       "    .dataframe tbody tr th:only-of-type {\n",
       "        vertical-align: middle;\n",
       "    }\n",
       "\n",
       "    .dataframe tbody tr th {\n",
       "        vertical-align: top;\n",
       "    }\n",
       "\n",
       "    .dataframe thead th {\n",
       "        text-align: right;\n",
       "    }\n",
       "</style>\n",
       "<table border=\"1\" class=\"dataframe\">\n",
       "  <thead>\n",
       "    <tr style=\"text-align: right;\">\n",
       "      <th></th>\n",
       "      <th>broad_id</th>\n",
       "      <th>name</th>\n",
       "      <th>drug_name_revised</th>\n",
       "    </tr>\n",
       "  </thead>\n",
       "  <tbody>\n",
       "    <tr>\n",
       "      <th>4634</th>\n",
       "      <td>BRD-A29485665-001-12-8</td>\n",
       "      <td>bicalutamide</td>\n",
       "      <td>Bicalutamide</td>\n",
       "    </tr>\n",
       "    <tr>\n",
       "      <th>13005</th>\n",
       "      <td>BRD-K69172251-001-08-9</td>\n",
       "      <td>cisplatin</td>\n",
       "      <td>Cisplatin</td>\n",
       "    </tr>\n",
       "    <tr>\n",
       "      <th>8202</th>\n",
       "      <td>BRD-A09722536-002-18-0</td>\n",
       "      <td>cyclophosphamide</td>\n",
       "      <td>Cyclophosphamide</td>\n",
       "    </tr>\n",
       "    <tr>\n",
       "      <th>1426</th>\n",
       "      <td>BRD-K49328571-001-15-0</td>\n",
       "      <td>dasatinib</td>\n",
       "      <td>Dasatinib</td>\n",
       "    </tr>\n",
       "    <tr>\n",
       "      <th>5914</th>\n",
       "      <td>BRD-K30577245-341-01-9</td>\n",
       "      <td>docetaxel</td>\n",
       "      <td>Docetaxel</td>\n",
       "    </tr>\n",
       "  </tbody>\n",
       "</table>\n",
       "</div>"
      ],
      "text/plain": [
       "                     broad_id              name drug_name_revised\n",
       "4634   BRD-A29485665-001-12-8      bicalutamide      Bicalutamide\n",
       "13005  BRD-K69172251-001-08-9         cisplatin         Cisplatin\n",
       "8202   BRD-A09722536-002-18-0  cyclophosphamide  Cyclophosphamide\n",
       "1426   BRD-K49328571-001-15-0         dasatinib         Dasatinib\n",
       "5914   BRD-K30577245-341-01-9         docetaxel         Docetaxel"
      ]
     },
     "execution_count": 20,
     "metadata": {},
     "output_type": "execute_result"
    }
   ],
   "source": [
    "drug_used_info.sort_values(by = \"drug_name_revised\").head()"
   ]
  },
  {
   "cell_type": "code",
   "execution_count": 15,
   "id": "d122030c",
   "metadata": {},
   "outputs": [],
   "source": [
    "# save\n",
    "# drug_used_info.to_csv(\"../output/out_ccle/v20230812/drug_used_info.csv\", index = False)"
   ]
  },
  {
   "cell_type": "markdown",
   "id": "48f4995e",
   "metadata": {},
   "source": [
    "## select IDs that are unique to ccle"
   ]
  },
  {
   "cell_type": "code",
   "execution_count": 21,
   "id": "21ad1f02",
   "metadata": {},
   "outputs": [
    {
     "name": "stdout",
     "output_type": "stream",
     "text": [
      "id_gdsc.unique.shape: (542,)\n",
      "Index(['SIDM00003', 'SIDM00023', 'SIDM00042', 'SIDM00043', 'SIDM00044',\n",
      "       'SIDM00046', 'SIDM00049', 'SIDM00050', 'SIDM00051', 'SIDM00052',\n",
      "       ...\n",
      "       'SIDM01189', 'SIDM01191', 'SIDM01197', 'SIDM01210', 'SIDM01228',\n",
      "       'SIDM01233', 'SIDM01240', 'SIDM01242', 'SIDM01246', 'SIDM01248'],\n",
      "      dtype='object', name='SANGER_MODEL_ID', length=542)\n",
      "mask1.sum: 542\n",
      "pheno_ccle.shape: (1284, 23)\n",
      "pheno_22Q4.shape: (1826, 23)\n"
     ]
    }
   ],
   "source": [
    "## select cells that are unique to ccle\n",
    "\n",
    "id_gdsc = gdsc_dict[\"y_gdsc\"].index.get_level_values(0)\n",
    "print(f\"id_gdsc.unique.shape: {id_gdsc.unique().shape}\")\n",
    "print(id_gdsc.unique())\n",
    "\n",
    "mask1 = pheno_22Q4.SangerModelID.isin(id_gdsc)\n",
    "print(f\"mask1.sum: {mask1.sum()}\")\n",
    "pheno_ccle = pheno_22Q4.loc[~mask1, :]\n",
    "print(f\"pheno_ccle.shape: {pheno_ccle.shape}\")\n",
    "print(f\"pheno_22Q4.shape: {pheno_22Q4.shape}\")"
   ]
  },
  {
   "cell_type": "code",
   "execution_count": 22,
   "id": "2dc360bf",
   "metadata": {},
   "outputs": [
    {
     "name": "stdout",
     "output_type": "stream",
     "text": [
      "pheno_ccle_v1.shape: (1177, 26)\n",
      "pheno_ccle_v1.shape: (382, 26)\n"
     ]
    }
   ],
   "source": [
    "# filter cancer type\n",
    "pheno_ccle_v1 = pd.merge(pheno_ccle.reset_index(), df_cancerType_mapping_CCLEandTCGA,\n",
    "                        left_on = \"OncotreeCode\", right_on = \"OncotreeCode_CCLE\",\n",
    "                        how = \"inner\")\n",
    "print(f\"pheno_ccle_v1.shape: {pheno_ccle_v1.shape}\")\n",
    "\n",
    "mask = pheno_ccle_v1.cancerType_TCGA.isin(pheno_gdsc_v1.cancerType_TCGA.unique())\n",
    "pheno_ccle_v1 = pheno_ccle_v1.loc[mask, :]\n",
    "print(f\"pheno_ccle_v1.shape: {pheno_ccle_v1.shape}\")"
   ]
  },
  {
   "cell_type": "code",
   "execution_count": 23,
   "id": "bdbabd4a",
   "metadata": {},
   "outputs": [
    {
     "name": "stdout",
     "output_type": "stream",
     "text": [
      "id_inter4.shape: (93,)\n"
     ]
    }
   ],
   "source": [
    "#  id_inter\n",
    "from functools import reduce\n",
    "\n",
    "id_response = response_mfi.index.unique()\n",
    "id_pheno = pheno_ccle_v1.ModelID.unique()\n",
    "id_snv = snv.DepMap_ID.unique()\n",
    "id_gep = tpm.index.unique()\n",
    "\n",
    "id_inter4 = reduce(np.intersect1d, [id_response, id_pheno, id_snv, id_gep])\n",
    "print(f\"id_inter4.shape: {id_inter4.shape}\")"
   ]
  },
  {
   "cell_type": "code",
   "execution_count": 20,
   "id": "3db972fc",
   "metadata": {},
   "outputs": [],
   "source": [
    "# save\n",
    "# np.save(\"../output/out_ccle/v20230812/id_inter4\", id_inter4)"
   ]
  },
  {
   "cell_type": "markdown",
   "id": "02e234dd",
   "metadata": {},
   "source": [
    "# CCLE data transform: response, pheno, snv, gep, drug"
   ]
  },
  {
   "cell_type": "markdown",
   "id": "d0870283",
   "metadata": {},
   "source": [
    "## response"
   ]
  },
  {
   "cell_type": "code",
   "execution_count": 24,
   "id": "ef15c5d7",
   "metadata": {},
   "outputs": [
    {
     "data": {
      "text/html": [
       "<div>\n",
       "<style scoped>\n",
       "    .dataframe tbody tr th:only-of-type {\n",
       "        vertical-align: middle;\n",
       "    }\n",
       "\n",
       "    .dataframe tbody tr th {\n",
       "        vertical-align: top;\n",
       "    }\n",
       "\n",
       "    .dataframe thead th {\n",
       "        text-align: right;\n",
       "    }\n",
       "</style>\n",
       "<table border=\"1\" class=\"dataframe\">\n",
       "  <thead>\n",
       "    <tr style=\"text-align: right;\">\n",
       "      <th></th>\n",
       "      <th>BRD-A00077618-236-07-6::2.5::HTS</th>\n",
       "      <th>BRD-A00100033-001-08-9::2.5::HTS</th>\n",
       "      <th>BRD-A00147595-001-01-5::2.5::HTS</th>\n",
       "      <th>BRD-A00218260-001-03-4::2.5::HTS</th>\n",
       "      <th>BRD-A00376169-001-01-6::2.5::HTS</th>\n",
       "      <th>BRD-A00520476-001-07-4::2.5::HTS</th>\n",
       "      <th>BRD-A00546892-001-02-6::2.5::HTS</th>\n",
       "      <th>BRD-A00578795-001-04-3::2.5::HTS</th>\n",
       "      <th>BRD-A00758722-001-04-9::2.5::HTS</th>\n",
       "      <th>BRD-A00827783-001-24-6::2.5::HTS</th>\n",
       "      <th>...</th>\n",
       "      <th>BRD-K98557884-001-01-6::2.5::MTS004</th>\n",
       "      <th>BRD-K99077012-001-01-9::2.332734192::MTS004</th>\n",
       "      <th>BRD-K99199077-001-16-1::2.603211317::MTS004</th>\n",
       "      <th>BRD-K99431849-001-01-7::2.500018158::MTS004</th>\n",
       "      <th>BRD-K99447003-335-04-1::2.37737659::MTS004</th>\n",
       "      <th>BRD-K99506538-001-03-8::2.5::MTS004</th>\n",
       "      <th>BRD-K99616396-001-05-1::2.499991421::MTS004</th>\n",
       "      <th>BRD-K99879819-001-02-1::2.5187366::MTS004</th>\n",
       "      <th>BRD-K99919177-001-01-3::2.5::MTS004</th>\n",
       "      <th>BRD-M63173034-001-03-6::2.64076472::MTS004</th>\n",
       "    </tr>\n",
       "  </thead>\n",
       "  <tbody>\n",
       "    <tr>\n",
       "      <th>ACH-000001</th>\n",
       "      <td>-0.016</td>\n",
       "      <td>-0.449</td>\n",
       "      <td>0.489</td>\n",
       "      <td>0.207</td>\n",
       "      <td>0.273</td>\n",
       "      <td>0.021</td>\n",
       "      <td>-0.025</td>\n",
       "      <td>0.467</td>\n",
       "      <td>-0.736</td>\n",
       "      <td>0.644</td>\n",
       "      <td>...</td>\n",
       "      <td>0.429</td>\n",
       "      <td>0.205</td>\n",
       "      <td>0.150</td>\n",
       "      <td>-0.575</td>\n",
       "      <td>-0.101</td>\n",
       "      <td>0.399</td>\n",
       "      <td>-0.128</td>\n",
       "      <td>-0.142</td>\n",
       "      <td>-1.154</td>\n",
       "      <td>0.510</td>\n",
       "    </tr>\n",
       "    <tr>\n",
       "      <th>ACH-000007</th>\n",
       "      <td>-0.096</td>\n",
       "      <td>0.258</td>\n",
       "      <td>0.772</td>\n",
       "      <td>-0.439</td>\n",
       "      <td>-0.733</td>\n",
       "      <td>0.779</td>\n",
       "      <td>0.427</td>\n",
       "      <td>-1.289</td>\n",
       "      <td>-0.476</td>\n",
       "      <td>-0.277</td>\n",
       "      <td>...</td>\n",
       "      <td>-0.471</td>\n",
       "      <td>0.213</td>\n",
       "      <td>-0.123</td>\n",
       "      <td>0.626</td>\n",
       "      <td>0.383</td>\n",
       "      <td>0.212</td>\n",
       "      <td>0.349</td>\n",
       "      <td>-0.387</td>\n",
       "      <td>-0.831</td>\n",
       "      <td>0.324</td>\n",
       "    </tr>\n",
       "  </tbody>\n",
       "</table>\n",
       "<p>2 rows × 4686 columns</p>\n",
       "</div>"
      ],
      "text/plain": [
       "            BRD-A00077618-236-07-6::2.5::HTS  \\\n",
       "ACH-000001                            -0.016   \n",
       "ACH-000007                            -0.096   \n",
       "\n",
       "            BRD-A00100033-001-08-9::2.5::HTS  \\\n",
       "ACH-000001                            -0.449   \n",
       "ACH-000007                             0.258   \n",
       "\n",
       "            BRD-A00147595-001-01-5::2.5::HTS  \\\n",
       "ACH-000001                             0.489   \n",
       "ACH-000007                             0.772   \n",
       "\n",
       "            BRD-A00218260-001-03-4::2.5::HTS  \\\n",
       "ACH-000001                             0.207   \n",
       "ACH-000007                            -0.439   \n",
       "\n",
       "            BRD-A00376169-001-01-6::2.5::HTS  \\\n",
       "ACH-000001                             0.273   \n",
       "ACH-000007                            -0.733   \n",
       "\n",
       "            BRD-A00520476-001-07-4::2.5::HTS  \\\n",
       "ACH-000001                             0.021   \n",
       "ACH-000007                             0.779   \n",
       "\n",
       "            BRD-A00546892-001-02-6::2.5::HTS  \\\n",
       "ACH-000001                            -0.025   \n",
       "ACH-000007                             0.427   \n",
       "\n",
       "            BRD-A00578795-001-04-3::2.5::HTS  \\\n",
       "ACH-000001                             0.467   \n",
       "ACH-000007                            -1.289   \n",
       "\n",
       "            BRD-A00758722-001-04-9::2.5::HTS  \\\n",
       "ACH-000001                            -0.736   \n",
       "ACH-000007                            -0.476   \n",
       "\n",
       "            BRD-A00827783-001-24-6::2.5::HTS  ...  \\\n",
       "ACH-000001                             0.644  ...   \n",
       "ACH-000007                            -0.277  ...   \n",
       "\n",
       "            BRD-K98557884-001-01-6::2.5::MTS004  \\\n",
       "ACH-000001                                0.429   \n",
       "ACH-000007                               -0.471   \n",
       "\n",
       "            BRD-K99077012-001-01-9::2.332734192::MTS004  \\\n",
       "ACH-000001                                        0.205   \n",
       "ACH-000007                                        0.213   \n",
       "\n",
       "            BRD-K99199077-001-16-1::2.603211317::MTS004  \\\n",
       "ACH-000001                                        0.150   \n",
       "ACH-000007                                       -0.123   \n",
       "\n",
       "            BRD-K99431849-001-01-7::2.500018158::MTS004  \\\n",
       "ACH-000001                                       -0.575   \n",
       "ACH-000007                                        0.626   \n",
       "\n",
       "            BRD-K99447003-335-04-1::2.37737659::MTS004  \\\n",
       "ACH-000001                                      -0.101   \n",
       "ACH-000007                                       0.383   \n",
       "\n",
       "            BRD-K99506538-001-03-8::2.5::MTS004  \\\n",
       "ACH-000001                                0.399   \n",
       "ACH-000007                                0.212   \n",
       "\n",
       "            BRD-K99616396-001-05-1::2.499991421::MTS004  \\\n",
       "ACH-000001                                       -0.128   \n",
       "ACH-000007                                        0.349   \n",
       "\n",
       "            BRD-K99879819-001-02-1::2.5187366::MTS004  \\\n",
       "ACH-000001                                     -0.142   \n",
       "ACH-000007                                     -0.387   \n",
       "\n",
       "            BRD-K99919177-001-01-3::2.5::MTS004  \\\n",
       "ACH-000001                               -1.154   \n",
       "ACH-000007                               -0.831   \n",
       "\n",
       "            BRD-M63173034-001-03-6::2.64076472::MTS004  \n",
       "ACH-000001                                       0.510  \n",
       "ACH-000007                                       0.324  \n",
       "\n",
       "[2 rows x 4686 columns]"
      ]
     },
     "execution_count": 24,
     "metadata": {},
     "output_type": "execute_result"
    }
   ],
   "source": [
    "response_mfi.head(2)"
   ]
  },
  {
   "cell_type": "code",
   "execution_count": 25,
   "id": "d2382473",
   "metadata": {},
   "outputs": [
    {
     "name": "stdout",
     "output_type": "stream",
     "text": [
      "Check dup: False\n",
      "response_mfi_v1.shape: (93, 18)\n",
      "num_NAs: 52\n",
      "num_NAs: 0\n",
      "y.shape: (1674, 5)\n",
      "dc1.shape: (18,)\n",
      "(1674,)\n"
     ]
    }
   ],
   "source": [
    "# transfer response\n",
    "\n",
    "# revise columns\n",
    "t1 = response_mfi.columns.str.extract(\"([^:]+)\")[0]\n",
    "print(f\"Check dup: {t1.duplicated().any()}\")\n",
    "response_mfi.columns = t1\n",
    "mask_drug = response_mfi.columns.isin(drug_used_info.broad_id)\n",
    "mask_cell = response_mfi.index.isin(id_inter4)\n",
    "response_mfi_v1 = response_mfi.loc[mask_cell, mask_drug]\n",
    "print(f\"response_mfi_v1.shape: {response_mfi_v1.shape}\")\n",
    "\n",
    "\n",
    "# fillna by mean value\n",
    "num_NAs = response_mfi_v1.isna().sum().sum()\n",
    "print(f\"num_NAs: {num_NAs}\")\n",
    "\n",
    "response_mfi_v1 = response_mfi_v1.fillna(response_mfi_v1.mean())\n",
    "num_NAs = response_mfi_v1.isna().sum().sum()\n",
    "print(f\"num_NAs: {num_NAs}\")\n",
    "\n",
    "# transform\n",
    "y = response_mfi_v1.stack()\n",
    "# you must set names first\n",
    "y.name = \"log2FC\"\n",
    "y.index.names = [\"DepMap_ID\", \"broad_id\"]\n",
    "y = y.reset_index()\n",
    "y = pd.merge(y, drug_used_info, left_on = \"broad_id\", right_on = \"broad_id\", how = \"inner\")\n",
    "print(f\"y.shape: {y.shape}\")\n",
    "\n",
    "# double check\n",
    "dc1 = y.drug_name_revised.unique().shape\n",
    "print(f\"dc1.shape: {dc1}\")\n",
    "\n",
    "# \n",
    "y_ccle = y.set_index([\"DepMap_ID\", \"drug_name_revised\"]).log2FC\n",
    "print(y_ccle.shape)"
   ]
  },
  {
   "cell_type": "code",
   "execution_count": 26,
   "id": "24533ea4",
   "metadata": {},
   "outputs": [
    {
     "data": {
      "text/plain": [
       "DepMap_ID   drug_name_revised\n",
       "ACH-000013  Cyclophosphamide     0.252\n",
       "ACH-000014  Cyclophosphamide     0.523\n",
       "ACH-000022  Cyclophosphamide    -0.504\n",
       "ACH-000027  Cyclophosphamide     0.341\n",
       "ACH-000037  Cyclophosphamide     0.573\n",
       "Name: log2FC, dtype: float64"
      ]
     },
     "execution_count": 26,
     "metadata": {},
     "output_type": "execute_result"
    }
   ],
   "source": [
    "y_ccle.head()"
   ]
  },
  {
   "cell_type": "code",
   "execution_count": 24,
   "id": "580f4751",
   "metadata": {},
   "outputs": [
    {
     "data": {
      "text/html": [
       "<div>\n",
       "<style scoped>\n",
       "    .dataframe tbody tr th:only-of-type {\n",
       "        vertical-align: middle;\n",
       "    }\n",
       "\n",
       "    .dataframe tbody tr th {\n",
       "        vertical-align: top;\n",
       "    }\n",
       "\n",
       "    .dataframe thead th {\n",
       "        text-align: right;\n",
       "    }\n",
       "</style>\n",
       "<table border=\"1\" class=\"dataframe\">\n",
       "  <thead>\n",
       "    <tr style=\"text-align: right;\">\n",
       "      <th></th>\n",
       "      <th>DepMap_ID</th>\n",
       "      <th>broad_id</th>\n",
       "      <th>log2FC</th>\n",
       "      <th>name</th>\n",
       "      <th>drug_name_revised</th>\n",
       "    </tr>\n",
       "  </thead>\n",
       "  <tbody>\n",
       "    <tr>\n",
       "      <th>0</th>\n",
       "      <td>ACH-000013</td>\n",
       "      <td>BRD-A09722536-002-18-0</td>\n",
       "      <td>0.252</td>\n",
       "      <td>cyclophosphamide</td>\n",
       "      <td>Cyclophosphamide</td>\n",
       "    </tr>\n",
       "    <tr>\n",
       "      <th>1</th>\n",
       "      <td>ACH-000014</td>\n",
       "      <td>BRD-A09722536-002-18-0</td>\n",
       "      <td>0.523</td>\n",
       "      <td>cyclophosphamide</td>\n",
       "      <td>Cyclophosphamide</td>\n",
       "    </tr>\n",
       "  </tbody>\n",
       "</table>\n",
       "</div>"
      ],
      "text/plain": [
       "    DepMap_ID                broad_id  log2FC              name  \\\n",
       "0  ACH-000013  BRD-A09722536-002-18-0   0.252  cyclophosphamide   \n",
       "1  ACH-000014  BRD-A09722536-002-18-0   0.523  cyclophosphamide   \n",
       "\n",
       "  drug_name_revised  \n",
       "0  Cyclophosphamide  \n",
       "1  Cyclophosphamide  "
      ]
     },
     "execution_count": 24,
     "metadata": {},
     "output_type": "execute_result"
    }
   ],
   "source": [
    "y.head(2)"
   ]
  },
  {
   "cell_type": "code",
   "execution_count": 25,
   "id": "7ebfbc25",
   "metadata": {},
   "outputs": [],
   "source": [
    "# # save\n",
    "# y_ccle.to_csv(\"../output/out_ccle/v20230812/y_ccle.csv\", index = True)\n",
    "# y.to_csv(\"../output/out_ccle/v20230812/y_ccle_anno.csv\", index = False)"
   ]
  },
  {
   "cell_type": "markdown",
   "id": "63cf4c21",
   "metadata": {},
   "source": [
    "## Pheno"
   ]
  },
  {
   "cell_type": "code",
   "execution_count": 27,
   "id": "e48aa812",
   "metadata": {},
   "outputs": [
    {
     "data": {
      "text/html": [
       "<div>\n",
       "<style scoped>\n",
       "    .dataframe tbody tr th:only-of-type {\n",
       "        vertical-align: middle;\n",
       "    }\n",
       "\n",
       "    .dataframe tbody tr th {\n",
       "        vertical-align: top;\n",
       "    }\n",
       "\n",
       "    .dataframe thead th {\n",
       "        text-align: right;\n",
       "    }\n",
       "</style>\n",
       "<table border=\"1\" class=\"dataframe\">\n",
       "  <thead>\n",
       "    <tr style=\"text-align: right;\">\n",
       "      <th></th>\n",
       "      <th>ModelID</th>\n",
       "      <th>PatientID</th>\n",
       "      <th>CellLineName</th>\n",
       "      <th>StrippedCellLineName</th>\n",
       "      <th>Age</th>\n",
       "      <th>SourceType</th>\n",
       "      <th>SangerModelID</th>\n",
       "      <th>RRID</th>\n",
       "      <th>DepmapModelType</th>\n",
       "      <th>GrowthPattern</th>\n",
       "      <th>...</th>\n",
       "      <th>CCLEName</th>\n",
       "      <th>COSMICID</th>\n",
       "      <th>PublicComments</th>\n",
       "      <th>WTSIMasterCellID</th>\n",
       "      <th>OncotreeCode</th>\n",
       "      <th>OncotreeSubtype</th>\n",
       "      <th>OncotreePrimaryDisease</th>\n",
       "      <th>OncotreeLineage</th>\n",
       "      <th>OncotreeCode_CCLE</th>\n",
       "      <th>cancerType_TCGA</th>\n",
       "    </tr>\n",
       "  </thead>\n",
       "  <tbody>\n",
       "    <tr>\n",
       "      <th>36</th>\n",
       "      <td>ACH-000003</td>\n",
       "      <td>PT-puKIyc</td>\n",
       "      <td>CACO2</td>\n",
       "      <td>CACO2</td>\n",
       "      <td>72.0</td>\n",
       "      <td>Commercial</td>\n",
       "      <td>SIDM00891</td>\n",
       "      <td>CVCL_0025</td>\n",
       "      <td>COAD</td>\n",
       "      <td>Adherent</td>\n",
       "      <td>...</td>\n",
       "      <td>CACO2_LARGE_INTESTINE</td>\n",
       "      <td>NaN</td>\n",
       "      <td>NaN</td>\n",
       "      <td>NaN</td>\n",
       "      <td>COAD</td>\n",
       "      <td>Colon Adenocarcinoma</td>\n",
       "      <td>Colorectal Adenocarcinoma</td>\n",
       "      <td>Bowel</td>\n",
       "      <td>COAD</td>\n",
       "      <td>COAD</td>\n",
       "    </tr>\n",
       "    <tr>\n",
       "      <th>37</th>\n",
       "      <td>ACH-000089</td>\n",
       "      <td>PT-0joF2E</td>\n",
       "      <td>NCI-H684</td>\n",
       "      <td>NCIH684</td>\n",
       "      <td>55.0</td>\n",
       "      <td>Commercial</td>\n",
       "      <td>NaN</td>\n",
       "      <td>CVCL_9980</td>\n",
       "      <td>COAD</td>\n",
       "      <td>Unknown</td>\n",
       "      <td>...</td>\n",
       "      <td>NCIH684_LARGE_INTESTINE</td>\n",
       "      <td>NaN</td>\n",
       "      <td>NaN</td>\n",
       "      <td>NaN</td>\n",
       "      <td>COAD</td>\n",
       "      <td>Colon Adenocarcinoma</td>\n",
       "      <td>Colorectal Adenocarcinoma</td>\n",
       "      <td>Bowel</td>\n",
       "      <td>COAD</td>\n",
       "      <td>COAD</td>\n",
       "    </tr>\n",
       "  </tbody>\n",
       "</table>\n",
       "<p>2 rows × 26 columns</p>\n",
       "</div>"
      ],
      "text/plain": [
       "       ModelID  PatientID CellLineName StrippedCellLineName   Age  SourceType  \\\n",
       "36  ACH-000003  PT-puKIyc        CACO2                CACO2  72.0  Commercial   \n",
       "37  ACH-000089  PT-0joF2E     NCI-H684              NCIH684  55.0  Commercial   \n",
       "\n",
       "   SangerModelID       RRID DepmapModelType GrowthPattern  ...  \\\n",
       "36     SIDM00891  CVCL_0025            COAD      Adherent  ...   \n",
       "37           NaN  CVCL_9980            COAD       Unknown  ...   \n",
       "\n",
       "                   CCLEName COSMICID PublicComments WTSIMasterCellID  \\\n",
       "36    CACO2_LARGE_INTESTINE      NaN            NaN              NaN   \n",
       "37  NCIH684_LARGE_INTESTINE      NaN            NaN              NaN   \n",
       "\n",
       "   OncotreeCode       OncotreeSubtype     OncotreePrimaryDisease  \\\n",
       "36         COAD  Colon Adenocarcinoma  Colorectal Adenocarcinoma   \n",
       "37         COAD  Colon Adenocarcinoma  Colorectal Adenocarcinoma   \n",
       "\n",
       "    OncotreeLineage OncotreeCode_CCLE  cancerType_TCGA  \n",
       "36            Bowel              COAD             COAD  \n",
       "37            Bowel              COAD             COAD  \n",
       "\n",
       "[2 rows x 26 columns]"
      ]
     },
     "execution_count": 27,
     "metadata": {},
     "output_type": "execute_result"
    }
   ],
   "source": [
    "pheno_ccle_v1.head(2)"
   ]
  },
  {
   "cell_type": "code",
   "execution_count": 28,
   "id": "278309c6",
   "metadata": {},
   "outputs": [
    {
     "name": "stdout",
     "output_type": "stream",
     "text": [
      "pheno_ccle_v2.shape: (93, 4)\n",
      "Male       54\n",
      "Female     34\n",
      "Unknown     5\n",
      "Name: Sex, dtype: int64\n",
      "# NAs in Age: 22\n",
      "# NAs in sex: 5\n",
      "count    93.000\n",
      "mean     54.946\n",
      "std      13.719\n",
      "min       1.000\n",
      "25%      53.000\n",
      "50%      57.000\n",
      "75%      62.000\n",
      "max      88.000\n",
      "Name: Age, dtype: float64\n",
      "ModelID            True\n",
      "Age                True\n",
      "Sex                True\n",
      "cancerType_TCGA    True\n",
      "dtype: bool\n"
     ]
    },
    {
     "name": "stderr",
     "output_type": "stream",
     "text": [
      "/tmp/ipykernel_5063/4150016031.py:22: SettingWithCopyWarning: \n",
      "A value is trying to be set on a copy of a slice from a DataFrame\n",
      "\n",
      "See the caveats in the documentation: https://pandas.pydata.org/pandas-docs/stable/user_guide/indexing.html#returning-a-view-versus-a-copy\n",
      "  pheno_ccle_v2[\"Sex\"].iloc[0:5] = x\n"
     ]
    }
   ],
   "source": [
    "# pheno process\n",
    "\n",
    "# ID process\n",
    "mask_id = pheno_ccle_v1.ModelID.isin(id_inter4)\n",
    "col_use = ['ModelID', 'Age', 'Sex', 'cancerType_TCGA']\n",
    "pheno_ccle_v2 = pheno_ccle_v1.loc[mask_id, col_use].drop_duplicates()\n",
    "print(\"pheno_ccle_v2.shape: {}\".format(pheno_ccle_v2.shape))\n",
    "\n",
    "# process NAs\n",
    "print(pheno_ccle_v2.Sex.value_counts())\n",
    "mask_age = pheno_ccle_v2.Age.isna()\n",
    "mask_sex = (pheno_ccle_v2.Sex == \"Unknown\")\n",
    "print(f\"# NAs in Age: {mask_age.sum()}\")\n",
    "print(f\"# NAs in sex: {mask_sex.sum()}\")\n",
    "\n",
    "# fill NAs in sex by random, in age by mean age\n",
    "\n",
    "rng = np.random.default_rng(0)\n",
    "x = rng.choice([\"Male\", \"Female\"], size=5, replace=True, \n",
    "           p=[54/(54+34), 34/(54+34)], axis=0, shuffle=True)\n",
    "pheno_ccle_v2 = pheno_ccle_v2.sort_values(\"Sex\", ascending = False)\n",
    "pheno_ccle_v2[\"Sex\"].iloc[0:5] = x\n",
    "\n",
    "age_median = pheno_ccle_v2.Age.median().astype(int)\n",
    "pheno_ccle_v2[\"Age\"] = pheno_ccle_v2[\"Age\"].fillna(pheno_ccle_v2[\"Age\"].median())\n",
    "print(pheno_ccle_v2.Age.describe())\n",
    "\n",
    "# double check NAs\n",
    "check1 = pheno_ccle_v2.apply(lambda x: x.isna().sum() == 0)\n",
    "print(check1)"
   ]
  },
  {
   "cell_type": "code",
   "execution_count": 29,
   "id": "1ebf9577",
   "metadata": {},
   "outputs": [
    {
     "name": "stdout",
     "output_type": "stream",
     "text": [
      "pheno_ccle_v2.shape: (93, 3)\n",
      "pheno_ccle_v2_dummy.shape: (93, 14)\n",
      "pheno_ccle_v2_dummy.columns: Index(['Age', 'Sex_Female', 'Sex_Male', 'cancerType_TCGA_BRCA',\n",
      "       'cancerType_TCGA_COAD', 'cancerType_TCGA_ESCA', 'cancerType_TCGA_GBM',\n",
      "       'cancerType_TCGA_HNSC', 'cancerType_TCGA_KIRC', 'cancerType_TCGA_LUAD',\n",
      "       'cancerType_TCGA_OV', 'cancerType_TCGA_PAAD', 'cancerType_TCGA_SARC',\n",
      "       'cancerType_TCGA_SKCM'],\n",
      "      dtype='object')\n",
      "col_diff.shape: (1,)\n",
      "col_diff: ['cancerType_TCGA_SCLC']\n",
      "pheno_add.shape: (93, 1)\n",
      "pheno_ccle_v2_dummy.shape: (93, 15)\n"
     ]
    }
   ],
   "source": [
    "# dummy and and diff_cancer types\n",
    "pheno_ccle_v2 = pheno_ccle_v2.set_index(\"ModelID\").loc[id_inter4, :]\n",
    "pheno_ccle_v2_dummy = pd.get_dummies(data = pheno_ccle_v2, columns = [\"Sex\", \"cancerType_TCGA\"])\n",
    "print(f\"pheno_ccle_v2.shape: {pheno_ccle_v2.shape}\")\n",
    "print(f\"pheno_ccle_v2_dummy.shape: {pheno_ccle_v2_dummy.shape}\")\n",
    "print(f\"pheno_ccle_v2_dummy.columns: {pheno_ccle_v2_dummy.columns}\")\n",
    "\n",
    "\n",
    "# add col_diff to pheno_tcga_dummy\n",
    "col_diff = np.setdiff1d(gdsc_dict['x_pheno'].columns, pheno_ccle_v2_dummy.columns)\n",
    "print(f\"col_diff.shape: {col_diff.shape}\")\n",
    "print(f\"col_diff: {col_diff}\")\n",
    "\n",
    "pheno_add = pd.DataFrame(np.zeros(shape=(pheno_ccle_v2_dummy.shape[0], len(col_diff))), \n",
    "                         columns = col_diff,\n",
    "                        index = pheno_ccle_v2_dummy.index)\n",
    "print(f\"pheno_add.shape: {pheno_add.shape}\")\n",
    "pheno_ccle_v2_dummy = pd.concat([pheno_ccle_v2_dummy, pheno_add], axis = 1)\n",
    "print(f\"pheno_ccle_v2_dummy.shape: {pheno_ccle_v2_dummy.shape}\")"
   ]
  },
  {
   "cell_type": "code",
   "execution_count": 29,
   "id": "d2a96449",
   "metadata": {},
   "outputs": [
    {
     "data": {
      "text/html": [
       "<div>\n",
       "<style scoped>\n",
       "    .dataframe tbody tr th:only-of-type {\n",
       "        vertical-align: middle;\n",
       "    }\n",
       "\n",
       "    .dataframe tbody tr th {\n",
       "        vertical-align: top;\n",
       "    }\n",
       "\n",
       "    .dataframe thead th {\n",
       "        text-align: right;\n",
       "    }\n",
       "</style>\n",
       "<table border=\"1\" class=\"dataframe\">\n",
       "  <thead>\n",
       "    <tr style=\"text-align: right;\">\n",
       "      <th></th>\n",
       "      <th>Age</th>\n",
       "      <th>Sex_Female</th>\n",
       "      <th>Sex_Male</th>\n",
       "      <th>cancerType_TCGA_BRCA</th>\n",
       "      <th>cancerType_TCGA_COAD</th>\n",
       "      <th>cancerType_TCGA_ESCA</th>\n",
       "      <th>cancerType_TCGA_GBM</th>\n",
       "      <th>cancerType_TCGA_HNSC</th>\n",
       "      <th>cancerType_TCGA_KIRC</th>\n",
       "      <th>cancerType_TCGA_LUAD</th>\n",
       "      <th>cancerType_TCGA_OV</th>\n",
       "      <th>cancerType_TCGA_PAAD</th>\n",
       "      <th>cancerType_TCGA_SARC</th>\n",
       "      <th>cancerType_TCGA_SKCM</th>\n",
       "      <th>cancerType_TCGA_SCLC</th>\n",
       "    </tr>\n",
       "    <tr>\n",
       "      <th>ModelID</th>\n",
       "      <th></th>\n",
       "      <th></th>\n",
       "      <th></th>\n",
       "      <th></th>\n",
       "      <th></th>\n",
       "      <th></th>\n",
       "      <th></th>\n",
       "      <th></th>\n",
       "      <th></th>\n",
       "      <th></th>\n",
       "      <th></th>\n",
       "      <th></th>\n",
       "      <th></th>\n",
       "      <th></th>\n",
       "      <th></th>\n",
       "    </tr>\n",
       "  </thead>\n",
       "  <tbody>\n",
       "    <tr>\n",
       "      <th>ACH-000013</th>\n",
       "      <td>60.0</td>\n",
       "      <td>1</td>\n",
       "      <td>0</td>\n",
       "      <td>0</td>\n",
       "      <td>0</td>\n",
       "      <td>0</td>\n",
       "      <td>0</td>\n",
       "      <td>0</td>\n",
       "      <td>0</td>\n",
       "      <td>0</td>\n",
       "      <td>1</td>\n",
       "      <td>0</td>\n",
       "      <td>0</td>\n",
       "      <td>0</td>\n",
       "      <td>0.0</td>\n",
       "    </tr>\n",
       "    <tr>\n",
       "      <th>ACH-000014</th>\n",
       "      <td>56.0</td>\n",
       "      <td>0</td>\n",
       "      <td>1</td>\n",
       "      <td>0</td>\n",
       "      <td>0</td>\n",
       "      <td>0</td>\n",
       "      <td>0</td>\n",
       "      <td>0</td>\n",
       "      <td>0</td>\n",
       "      <td>0</td>\n",
       "      <td>0</td>\n",
       "      <td>0</td>\n",
       "      <td>0</td>\n",
       "      <td>1</td>\n",
       "      <td>0.0</td>\n",
       "    </tr>\n",
       "  </tbody>\n",
       "</table>\n",
       "</div>"
      ],
      "text/plain": [
       "             Age  Sex_Female  Sex_Male  cancerType_TCGA_BRCA  \\\n",
       "ModelID                                                        \n",
       "ACH-000013  60.0           1         0                     0   \n",
       "ACH-000014  56.0           0         1                     0   \n",
       "\n",
       "            cancerType_TCGA_COAD  cancerType_TCGA_ESCA  cancerType_TCGA_GBM  \\\n",
       "ModelID                                                                       \n",
       "ACH-000013                     0                     0                    0   \n",
       "ACH-000014                     0                     0                    0   \n",
       "\n",
       "            cancerType_TCGA_HNSC  cancerType_TCGA_KIRC  cancerType_TCGA_LUAD  \\\n",
       "ModelID                                                                        \n",
       "ACH-000013                     0                     0                     0   \n",
       "ACH-000014                     0                     0                     0   \n",
       "\n",
       "            cancerType_TCGA_OV  cancerType_TCGA_PAAD  cancerType_TCGA_SARC  \\\n",
       "ModelID                                                                      \n",
       "ACH-000013                   1                     0                     0   \n",
       "ACH-000014                   0                     0                     0   \n",
       "\n",
       "            cancerType_TCGA_SKCM  cancerType_TCGA_SCLC  \n",
       "ModelID                                                 \n",
       "ACH-000013                     0                   0.0  \n",
       "ACH-000014                     1                   0.0  "
      ]
     },
     "execution_count": 29,
     "metadata": {},
     "output_type": "execute_result"
    }
   ],
   "source": [
    "pheno_ccle_v2_dummy.head(2)"
   ]
  },
  {
   "cell_type": "code",
   "execution_count": 30,
   "id": "8d52ce67",
   "metadata": {},
   "outputs": [],
   "source": [
    "# save\n",
    "pheno_ccle_v2.to_csv(\"../data_temp/out_ccle/v20230812/pheno_ccle_v2.csv\", index = True)\n",
    "pheno_ccle_v2_dummy.to_csv(\"../data_temp/out_ccle/v20230812/pheno_ccle_v2_dummy.csv\", index = True)"
   ]
  },
  {
   "cell_type": "markdown",
   "id": "7e0d6a72",
   "metadata": {},
   "source": [
    "## SNV"
   ]
  },
  {
   "cell_type": "code",
   "execution_count": 30,
   "id": "c991f067",
   "metadata": {},
   "outputs": [
    {
     "data": {
      "text/html": [
       "<div>\n",
       "<style scoped>\n",
       "    .dataframe tbody tr th:only-of-type {\n",
       "        vertical-align: middle;\n",
       "    }\n",
       "\n",
       "    .dataframe tbody tr th {\n",
       "        vertical-align: top;\n",
       "    }\n",
       "\n",
       "    .dataframe thead th {\n",
       "        text-align: right;\n",
       "    }\n",
       "</style>\n",
       "<table border=\"1\" class=\"dataframe\">\n",
       "  <thead>\n",
       "    <tr style=\"text-align: right;\">\n",
       "      <th></th>\n",
       "      <th>Hugo_Symbol</th>\n",
       "      <th>Entrez_Gene_Id</th>\n",
       "      <th>NCBI_Build</th>\n",
       "      <th>Chromosome</th>\n",
       "      <th>Start_position</th>\n",
       "      <th>End_position</th>\n",
       "      <th>Strand</th>\n",
       "      <th>Variant_Classification</th>\n",
       "      <th>Variant_Type</th>\n",
       "      <th>Reference_Allele</th>\n",
       "      <th>...</th>\n",
       "      <th>isCOSMIChotspot</th>\n",
       "      <th>COSMIChsCnt</th>\n",
       "      <th>ExAC_AF</th>\n",
       "      <th>Variant_annotation</th>\n",
       "      <th>CGA_WES_AC</th>\n",
       "      <th>HC_AC</th>\n",
       "      <th>RD_AC</th>\n",
       "      <th>RNAseq_AC</th>\n",
       "      <th>SangerWES_AC</th>\n",
       "      <th>WGS_AC</th>\n",
       "    </tr>\n",
       "  </thead>\n",
       "  <tbody>\n",
       "    <tr>\n",
       "      <th>0</th>\n",
       "      <td>VPS13D</td>\n",
       "      <td>55187</td>\n",
       "      <td>37</td>\n",
       "      <td>1</td>\n",
       "      <td>12359347</td>\n",
       "      <td>12359347</td>\n",
       "      <td>+</td>\n",
       "      <td>Nonsense_Mutation</td>\n",
       "      <td>SNP</td>\n",
       "      <td>C</td>\n",
       "      <td>...</td>\n",
       "      <td>False</td>\n",
       "      <td>0.0</td>\n",
       "      <td>NaN</td>\n",
       "      <td>damaging</td>\n",
       "      <td>34:213</td>\n",
       "      <td>NaN</td>\n",
       "      <td>NaN</td>\n",
       "      <td>NaN</td>\n",
       "      <td>34:221</td>\n",
       "      <td>NaN</td>\n",
       "    </tr>\n",
       "    <tr>\n",
       "      <th>1</th>\n",
       "      <td>AADACL4</td>\n",
       "      <td>343066</td>\n",
       "      <td>37</td>\n",
       "      <td>1</td>\n",
       "      <td>12726308</td>\n",
       "      <td>12726322</td>\n",
       "      <td>+</td>\n",
       "      <td>In_Frame_Del</td>\n",
       "      <td>DEL</td>\n",
       "      <td>CTGGCGTGACGCCAT</td>\n",
       "      <td>...</td>\n",
       "      <td>False</td>\n",
       "      <td>3.0</td>\n",
       "      <td>NaN</td>\n",
       "      <td>other non-conserving</td>\n",
       "      <td>57:141</td>\n",
       "      <td>NaN</td>\n",
       "      <td>NaN</td>\n",
       "      <td>NaN</td>\n",
       "      <td>9:0</td>\n",
       "      <td>28:32</td>\n",
       "    </tr>\n",
       "  </tbody>\n",
       "</table>\n",
       "<p>2 rows × 32 columns</p>\n",
       "</div>"
      ],
      "text/plain": [
       "  Hugo_Symbol  Entrez_Gene_Id  NCBI_Build Chromosome  Start_position  \\\n",
       "0      VPS13D           55187          37          1        12359347   \n",
       "1     AADACL4          343066          37          1        12726308   \n",
       "\n",
       "   End_position Strand Variant_Classification Variant_Type Reference_Allele  \\\n",
       "0      12359347      +      Nonsense_Mutation          SNP                C   \n",
       "1      12726322      +           In_Frame_Del          DEL  CTGGCGTGACGCCAT   \n",
       "\n",
       "   ... isCOSMIChotspot COSMIChsCnt ExAC_AF    Variant_annotation CGA_WES_AC  \\\n",
       "0  ...           False         0.0     NaN              damaging     34:213   \n",
       "1  ...           False         3.0     NaN  other non-conserving     57:141   \n",
       "\n",
       "  HC_AC RD_AC RNAseq_AC SangerWES_AC WGS_AC  \n",
       "0   NaN   NaN       NaN       34:221    NaN  \n",
       "1   NaN   NaN       NaN          9:0  28:32  \n",
       "\n",
       "[2 rows x 32 columns]"
      ]
     },
     "execution_count": 30,
     "metadata": {},
     "output_type": "execute_result"
    }
   ],
   "source": [
    "snv.head(2)"
   ]
  },
  {
   "cell_type": "code",
   "execution_count": 31,
   "id": "b227701d",
   "metadata": {},
   "outputs": [
    {
     "name": "stdout",
     "output_type": "stream",
     "text": [
      "genes_full: (776,)\n"
     ]
    }
   ],
   "source": [
    "# All genes used in gdsc\n",
    "genes_full = gdsc_dict['x_snv'].columns.unique()\n",
    "print(f\"genes_full: {genes_full.shape}\")"
   ]
  },
  {
   "cell_type": "code",
   "execution_count": 32,
   "id": "22484201",
   "metadata": {},
   "outputs": [
    {
     "name": "stdout",
     "output_type": "stream",
     "text": [
      "snv_v1.shape: (2894, 32)\n",
      "snv_v1.shape: (93, 644)\n",
      "add_gene.shape: (93, 132)\n",
      "After add gene: snv_v1.shape: (93, 776)\n"
     ]
    },
    {
     "name": "stderr",
     "output_type": "stream",
     "text": [
      "/tmp/ipykernel_5063/104991296.py:18: SettingWithCopyWarning: \n",
      "A value is trying to be set on a copy of a slice from a DataFrame.\n",
      "Try using .loc[row_indexer,col_indexer] = value instead\n",
      "\n",
      "See the caveats in the documentation: https://pandas.pydata.org/pandas-docs/stable/user_guide/indexing.html#returning-a-view-versus-a-copy\n",
      "  snv_v1['i_mut'] = 1.0\n"
     ]
    }
   ],
   "source": [
    "# transfer snv\n",
    "\n",
    "mask_gene = snv.Hugo_Symbol.isin(genes_full)\n",
    "mask_cell = snv.DepMap_ID.isin(id_inter4)\n",
    "\n",
    "vc_list = [\n",
    "    'Nonsense_Mutation', 'In_Frame_Del', 'Frame_Shift_Ins',\n",
    "    'Missense_Mutation', 'Splice_Site', 'Frame_Shift_Del',\n",
    "    'De_novo_Start_OutOfFrame', 'Nonstop_Mutation', 'In_Frame_Ins',\n",
    "    'Start_Codon_SNP', 'Start_Codon_Del', 'Stop_Codon_Ins', 'Start_Codon_Ins',\n",
    "    'Stop_Codon_Del'\n",
    "]\n",
    "mask_vc = snv.Variant_Classification.isin(vc_list)\n",
    "\n",
    "snv_v1 = snv.loc[mask_gene & mask_cell & mask_vc, :]\n",
    "print(f\"snv_v1.shape: {snv_v1.shape}\")\n",
    "\n",
    "snv_v1['i_mut'] = 1.0\n",
    "snv_v1 = snv_v1.drop_duplicates([\"DepMap_ID\", \"Hugo_Symbol\"])\n",
    "snv_v1 = snv_v1.pivot(index=\"DepMap_ID\", columns=\"Hugo_Symbol\", values=\"i_mut\")\n",
    "snv_v1 = snv_v1.fillna(0)\n",
    "print(f\"snv_v1.shape: {snv_v1.shape}\")\n",
    "\n",
    "id_lack = np.setdiff1d(id_inter4, snv_v1.index)\n",
    "if len(id_lack) > 0:\n",
    "    add_id = pd.DataFrame(np.zeros((id_lack.shape[0], snv_v1.shape[0])),\n",
    "                          index=id_lack,\n",
    "                          columns=snv_v1.columns)\n",
    "    print(f\"add_id.shape: {add_id.shape}\")\n",
    "    snv_v1 = pd.concat([snv_v1, add_id], axis=0)\n",
    "    print(f\"After add id: snv_v1.shape: {snv_v1.shape}\")\n",
    "\n",
    "gene_miss = np.setdiff1d(genes_full, snv_v1.columns)\n",
    "if len(gene_miss) > 0:\n",
    "    add_gene = pd.DataFrame(np.zeros((snv_v1.shape[0], gene_miss.shape[0])),\n",
    "                            columns=gene_miss,\n",
    "                            index=snv_v1.index)\n",
    "    print(f\"add_gene.shape: {add_gene.shape}\")\n",
    "    snv_v1 = pd.concat([snv_v1, add_gene], axis=1)\n",
    "    print(f\"After add gene: snv_v1.shape: {snv_v1.shape}\")"
   ]
  },
  {
   "cell_type": "code",
   "execution_count": 35,
   "id": "ba38fca5",
   "metadata": {},
   "outputs": [],
   "source": [
    "# save\n",
    "snv_v1.to_csv(\"../data_temp/out_ccle/v20230812/snv_v1.csv\", index = True)"
   ]
  },
  {
   "cell_type": "markdown",
   "id": "c29721ce",
   "metadata": {},
   "source": [
    "## TPM"
   ]
  },
  {
   "cell_type": "code",
   "execution_count": 33,
   "id": "afccc9a5",
   "metadata": {},
   "outputs": [
    {
     "data": {
      "text/html": [
       "<div>\n",
       "<style scoped>\n",
       "    .dataframe tbody tr th:only-of-type {\n",
       "        vertical-align: middle;\n",
       "    }\n",
       "\n",
       "    .dataframe tbody tr th {\n",
       "        vertical-align: top;\n",
       "    }\n",
       "\n",
       "    .dataframe thead th {\n",
       "        text-align: right;\n",
       "    }\n",
       "</style>\n",
       "<table border=\"1\" class=\"dataframe\">\n",
       "  <thead>\n",
       "    <tr style=\"text-align: right;\">\n",
       "      <th></th>\n",
       "      <th>TSPAN6 (ENSG00000000003)</th>\n",
       "      <th>TNMD (ENSG00000000005)</th>\n",
       "      <th>DPM1 (ENSG00000000419)</th>\n",
       "      <th>SCYL3 (ENSG00000000457)</th>\n",
       "      <th>C1orf112 (ENSG00000000460)</th>\n",
       "      <th>FGR (ENSG00000000938)</th>\n",
       "      <th>CFH (ENSG00000000971)</th>\n",
       "      <th>FUCA2 (ENSG00000001036)</th>\n",
       "      <th>GCLC (ENSG00000001084)</th>\n",
       "      <th>NFYA (ENSG00000001167)</th>\n",
       "      <th>...</th>\n",
       "      <th>ENSG00000288714</th>\n",
       "      <th>ENSG00000288717</th>\n",
       "      <th>ENSG00000288718</th>\n",
       "      <th>ENSG00000288719</th>\n",
       "      <th>ENSG00000288720</th>\n",
       "      <th>ENSG00000288721</th>\n",
       "      <th>ENSG00000288722</th>\n",
       "      <th>ENSG00000288723</th>\n",
       "      <th>ENSG00000288724</th>\n",
       "      <th>ENSG00000288725</th>\n",
       "    </tr>\n",
       "  </thead>\n",
       "  <tbody>\n",
       "    <tr>\n",
       "      <th>ACH-001113</th>\n",
       "      <td>4.332</td>\n",
       "      <td>0.000</td>\n",
       "      <td>7.364</td>\n",
       "      <td>2.793</td>\n",
       "      <td>4.471</td>\n",
       "      <td>0.029</td>\n",
       "      <td>1.227</td>\n",
       "      <td>3.043</td>\n",
       "      <td>6.500</td>\n",
       "      <td>4.740</td>\n",
       "      <td>...</td>\n",
       "      <td>0.0</td>\n",
       "      <td>0.536</td>\n",
       "      <td>0.0</td>\n",
       "      <td>0.029</td>\n",
       "      <td>0.176</td>\n",
       "      <td>0.993</td>\n",
       "      <td>2.795</td>\n",
       "      <td>0.000</td>\n",
       "      <td>0.0</td>\n",
       "      <td>0.00</td>\n",
       "    </tr>\n",
       "    <tr>\n",
       "      <th>ACH-001289</th>\n",
       "      <td>4.567</td>\n",
       "      <td>0.585</td>\n",
       "      <td>7.107</td>\n",
       "      <td>2.543</td>\n",
       "      <td>3.505</td>\n",
       "      <td>0.000</td>\n",
       "      <td>0.189</td>\n",
       "      <td>3.814</td>\n",
       "      <td>4.221</td>\n",
       "      <td>3.482</td>\n",
       "      <td>...</td>\n",
       "      <td>0.0</td>\n",
       "      <td>0.880</td>\n",
       "      <td>0.0</td>\n",
       "      <td>0.014</td>\n",
       "      <td>0.014</td>\n",
       "      <td>0.433</td>\n",
       "      <td>2.973</td>\n",
       "      <td>0.057</td>\n",
       "      <td>0.0</td>\n",
       "      <td>0.07</td>\n",
       "    </tr>\n",
       "  </tbody>\n",
       "</table>\n",
       "<p>2 rows × 53970 columns</p>\n",
       "</div>"
      ],
      "text/plain": [
       "            TSPAN6 (ENSG00000000003)  TNMD (ENSG00000000005)  \\\n",
       "ACH-001113                     4.332                   0.000   \n",
       "ACH-001289                     4.567                   0.585   \n",
       "\n",
       "            DPM1 (ENSG00000000419)  SCYL3 (ENSG00000000457)  \\\n",
       "ACH-001113                   7.364                    2.793   \n",
       "ACH-001289                   7.107                    2.543   \n",
       "\n",
       "            C1orf112 (ENSG00000000460)  FGR (ENSG00000000938)  \\\n",
       "ACH-001113                       4.471                  0.029   \n",
       "ACH-001289                       3.505                  0.000   \n",
       "\n",
       "            CFH (ENSG00000000971)  FUCA2 (ENSG00000001036)  \\\n",
       "ACH-001113                  1.227                    3.043   \n",
       "ACH-001289                  0.189                    3.814   \n",
       "\n",
       "            GCLC (ENSG00000001084)  NFYA (ENSG00000001167)  ...  \\\n",
       "ACH-001113                   6.500                   4.740  ...   \n",
       "ACH-001289                   4.221                   3.482  ...   \n",
       "\n",
       "            ENSG00000288714  ENSG00000288717  ENSG00000288718  \\\n",
       "ACH-001113              0.0            0.536              0.0   \n",
       "ACH-001289              0.0            0.880              0.0   \n",
       "\n",
       "            ENSG00000288719  ENSG00000288720  ENSG00000288721  \\\n",
       "ACH-001113            0.029            0.176            0.993   \n",
       "ACH-001289            0.014            0.014            0.433   \n",
       "\n",
       "            ENSG00000288722  ENSG00000288723  ENSG00000288724  ENSG00000288725  \n",
       "ACH-001113            2.795            0.000              0.0             0.00  \n",
       "ACH-001289            2.973            0.057              0.0             0.07  \n",
       "\n",
       "[2 rows x 53970 columns]"
      ]
     },
     "execution_count": 33,
     "metadata": {},
     "output_type": "execute_result"
    }
   ],
   "source": [
    "tpm.head(2)"
   ]
  },
  {
   "cell_type": "code",
   "execution_count": 35,
   "id": "63a6f5b0",
   "metadata": {},
   "outputs": [],
   "source": [
    "# transform tpm from log2(tpm+1) to log2(tpm+0.001)\n",
    "\n",
    "def trans_log(x):\n",
    "    tpm = 2**x - 1\n",
    "    y = np.log2(tpm + 0.001)\n",
    "    return y\n",
    "tpm_v1 = tpm.apply(trans_log)"
   ]
  },
  {
   "cell_type": "code",
   "execution_count": 36,
   "id": "691256c4",
   "metadata": {},
   "outputs": [
    {
     "data": {
      "text/plain": [
       "-9.966    45281\n",
       "-6.506      446\n",
       "-5.573      314\n",
       "-5.012      233\n",
       "-4.608      180\n",
       "          ...  \n",
       " 4.261        1\n",
       " 3.811        1\n",
       " 5.280        1\n",
       " 3.178        1\n",
       " 6.190        1\n",
       "Length: 1389, dtype: int64"
      ]
     },
     "execution_count": 36,
     "metadata": {},
     "output_type": "execute_result"
    }
   ],
   "source": [
    "# double check\n",
    "tpm_v1.min().value_counts()"
   ]
  },
  {
   "cell_type": "code",
   "execution_count": 37,
   "id": "10147624",
   "metadata": {},
   "outputs": [
    {
     "name": "stdout",
     "output_type": "stream",
     "text": [
      "tpm_v1 clean.shape: (1406, 53960)\n",
      "tpm_v1 after filtering.shape: (93, 776)\n"
     ]
    }
   ],
   "source": [
    "# process column names and duplications\n",
    "tpm_v1 = tpm_v1.stack().reset_index()\n",
    "tpm_v1['gene_symbol'] = tpm_v1.level_1.str.extract(\"([^ (]+)\", expand = False).astype(str)\n",
    "tpm_v1 = tpm_v1.groupby(['level_0', 'gene_symbol'])[[0]].mean()\n",
    "tpm_v1 = tpm_v1.unstack('gene_symbol')\n",
    "tpm_v1.columns = tpm_v1.columns.droplevel(level=0)\n",
    "print(f\"tpm_v1 clean.shape: {tpm_v1.shape}\")\n",
    "\n",
    "# filter by id_inter4 and genes_full\n",
    "tpm_v1 = tpm_v1.loc[tpm_v1.index.isin(id_inter4), tpm_v1.columns.isin(genes_full)]\n",
    "print(f\"tpm_v1 after filtering.shape: {tpm_v1.shape}\")"
   ]
  },
  {
   "cell_type": "code",
   "execution_count": 38,
   "id": "5af3803c",
   "metadata": {},
   "outputs": [
    {
     "data": {
      "text/plain": [
       "-9.966    184\n",
       "-6.506     28\n",
       "-5.573     14\n",
       "-4.293     14\n",
       "-5.012     11\n",
       "         ... \n",
       " 1.345      1\n",
       " 1.428      1\n",
       " 2.043      1\n",
       " 4.319      1\n",
       "-0.072      1\n",
       "Length: 430, dtype: int64"
      ]
     },
     "execution_count": 38,
     "metadata": {},
     "output_type": "execute_result"
    }
   ],
   "source": [
    "# double check\n",
    "tpm_v1.min().value_counts()"
   ]
  },
  {
   "cell_type": "code",
   "execution_count": 39,
   "id": "9a38ff9b",
   "metadata": {},
   "outputs": [
    {
     "data": {
      "text/html": [
       "<div>\n",
       "<style scoped>\n",
       "    .dataframe tbody tr th:only-of-type {\n",
       "        vertical-align: middle;\n",
       "    }\n",
       "\n",
       "    .dataframe tbody tr th {\n",
       "        vertical-align: top;\n",
       "    }\n",
       "\n",
       "    .dataframe thead th {\n",
       "        text-align: right;\n",
       "    }\n",
       "</style>\n",
       "<table border=\"1\" class=\"dataframe\">\n",
       "  <thead>\n",
       "    <tr style=\"text-align: right;\">\n",
       "      <th>gene_symbol</th>\n",
       "      <th>ABCB1</th>\n",
       "      <th>ABI1</th>\n",
       "      <th>ABL1</th>\n",
       "      <th>ABL2</th>\n",
       "      <th>ACKR3</th>\n",
       "      <th>ACSL3</th>\n",
       "      <th>ACVR1</th>\n",
       "      <th>ACVR2A</th>\n",
       "      <th>AFDN</th>\n",
       "      <th>AFF1</th>\n",
       "      <th>...</th>\n",
       "      <th>ZNF521</th>\n",
       "      <th>ZNF626</th>\n",
       "      <th>ZNF680</th>\n",
       "      <th>ZNF721</th>\n",
       "      <th>ZNF780A</th>\n",
       "      <th>ZNF814</th>\n",
       "      <th>ZNF93</th>\n",
       "      <th>ZNRF3</th>\n",
       "      <th>ZRSR2</th>\n",
       "      <th>ZXDB</th>\n",
       "    </tr>\n",
       "    <tr>\n",
       "      <th>level_0</th>\n",
       "      <th></th>\n",
       "      <th></th>\n",
       "      <th></th>\n",
       "      <th></th>\n",
       "      <th></th>\n",
       "      <th></th>\n",
       "      <th></th>\n",
       "      <th></th>\n",
       "      <th></th>\n",
       "      <th></th>\n",
       "      <th></th>\n",
       "      <th></th>\n",
       "      <th></th>\n",
       "      <th></th>\n",
       "      <th></th>\n",
       "      <th></th>\n",
       "      <th></th>\n",
       "      <th></th>\n",
       "      <th></th>\n",
       "      <th></th>\n",
       "      <th></th>\n",
       "    </tr>\n",
       "  </thead>\n",
       "  <tbody>\n",
       "    <tr>\n",
       "      <th>ACH-000013</th>\n",
       "      <td>-1.781</td>\n",
       "      <td>3.424</td>\n",
       "      <td>4.611</td>\n",
       "      <td>2.325</td>\n",
       "      <td>-0.597</td>\n",
       "      <td>6.148</td>\n",
       "      <td>3.032</td>\n",
       "      <td>2.685</td>\n",
       "      <td>5.926</td>\n",
       "      <td>2.592</td>\n",
       "      <td>...</td>\n",
       "      <td>-6.506</td>\n",
       "      <td>-1.392</td>\n",
       "      <td>2.678</td>\n",
       "      <td>4.124</td>\n",
       "      <td>4.852</td>\n",
       "      <td>0.934</td>\n",
       "      <td>-0.472</td>\n",
       "      <td>3.558</td>\n",
       "      <td>2.057</td>\n",
       "      <td>1.585</td>\n",
       "    </tr>\n",
       "    <tr>\n",
       "      <th>ACH-000014</th>\n",
       "      <td>0.576</td>\n",
       "      <td>4.057</td>\n",
       "      <td>4.240</td>\n",
       "      <td>4.943</td>\n",
       "      <td>2.808</td>\n",
       "      <td>6.028</td>\n",
       "      <td>4.642</td>\n",
       "      <td>1.714</td>\n",
       "      <td>3.940</td>\n",
       "      <td>2.858</td>\n",
       "      <td>...</td>\n",
       "      <td>2.211</td>\n",
       "      <td>-2.548</td>\n",
       "      <td>0.215</td>\n",
       "      <td>3.985</td>\n",
       "      <td>3.297</td>\n",
       "      <td>2.278</td>\n",
       "      <td>-1.831</td>\n",
       "      <td>2.015</td>\n",
       "      <td>3.964</td>\n",
       "      <td>0.633</td>\n",
       "    </tr>\n",
       "  </tbody>\n",
       "</table>\n",
       "<p>2 rows × 776 columns</p>\n",
       "</div>"
      ],
      "text/plain": [
       "gene_symbol  ABCB1   ABI1   ABL1   ABL2  ACKR3  ACSL3  ACVR1  ACVR2A   AFDN  \\\n",
       "level_0                                                                       \n",
       "ACH-000013  -1.781  3.424  4.611  2.325 -0.597  6.148  3.032   2.685  5.926   \n",
       "ACH-000014   0.576  4.057  4.240  4.943  2.808  6.028  4.642   1.714  3.940   \n",
       "\n",
       "gene_symbol   AFF1  ...  ZNF521  ZNF626  ZNF680  ZNF721  ZNF780A  ZNF814  \\\n",
       "level_0             ...                                                    \n",
       "ACH-000013   2.592  ...  -6.506  -1.392   2.678   4.124    4.852   0.934   \n",
       "ACH-000014   2.858  ...   2.211  -2.548   0.215   3.985    3.297   2.278   \n",
       "\n",
       "gene_symbol  ZNF93  ZNRF3  ZRSR2   ZXDB  \n",
       "level_0                                  \n",
       "ACH-000013  -0.472  3.558  2.057  1.585  \n",
       "ACH-000014  -1.831  2.015  3.964  0.633  \n",
       "\n",
       "[2 rows x 776 columns]"
      ]
     },
     "execution_count": 39,
     "metadata": {},
     "output_type": "execute_result"
    }
   ],
   "source": [
    "tpm_v1.head(2)"
   ]
  },
  {
   "cell_type": "code",
   "execution_count": 42,
   "id": "89578f4b",
   "metadata": {},
   "outputs": [],
   "source": [
    "# save\n",
    "tpm_v1.to_csv(\"../data_temp/out_ccle/v20230812/tpm_v1.csv\", index = True)"
   ]
  },
  {
   "cell_type": "markdown",
   "id": "72c1e1d3",
   "metadata": {},
   "source": [
    "## transform pheno, snv, tpm, and drug"
   ]
  },
  {
   "cell_type": "code",
   "execution_count": 40,
   "id": "b0a6b8ed",
   "metadata": {},
   "outputs": [
    {
     "name": "stdout",
     "output_type": "stream",
     "text": [
      "df_drug.shape: (18, 512)\n"
     ]
    }
   ],
   "source": [
    "df_drug = pd.read_csv(\"../data_temp/df_fingerprints_18drugs.csv\", index_col = 0)\n",
    "print(f\"df_drug.shape: {df_drug.shape}\")"
   ]
  },
  {
   "cell_type": "code",
   "execution_count": 41,
   "id": "8b80d488",
   "metadata": {},
   "outputs": [
    {
     "data": {
      "text/html": [
       "<div>\n",
       "<style scoped>\n",
       "    .dataframe tbody tr th:only-of-type {\n",
       "        vertical-align: middle;\n",
       "    }\n",
       "\n",
       "    .dataframe tbody tr th {\n",
       "        vertical-align: top;\n",
       "    }\n",
       "\n",
       "    .dataframe thead th {\n",
       "        text-align: right;\n",
       "    }\n",
       "</style>\n",
       "<table border=\"1\" class=\"dataframe\">\n",
       "  <thead>\n",
       "    <tr style=\"text-align: right;\">\n",
       "      <th>gene_symbol</th>\n",
       "      <th>ABCB1</th>\n",
       "      <th>ABI1</th>\n",
       "      <th>ABL1</th>\n",
       "      <th>ABL2</th>\n",
       "      <th>ACKR3</th>\n",
       "      <th>ACSL3</th>\n",
       "      <th>ACVR1</th>\n",
       "      <th>ACVR2A</th>\n",
       "      <th>AFDN</th>\n",
       "      <th>AFF1</th>\n",
       "      <th>...</th>\n",
       "      <th>ZNF521</th>\n",
       "      <th>ZNF626</th>\n",
       "      <th>ZNF680</th>\n",
       "      <th>ZNF721</th>\n",
       "      <th>ZNF780A</th>\n",
       "      <th>ZNF814</th>\n",
       "      <th>ZNF93</th>\n",
       "      <th>ZNRF3</th>\n",
       "      <th>ZRSR2</th>\n",
       "      <th>ZXDB</th>\n",
       "    </tr>\n",
       "    <tr>\n",
       "      <th>level_0</th>\n",
       "      <th></th>\n",
       "      <th></th>\n",
       "      <th></th>\n",
       "      <th></th>\n",
       "      <th></th>\n",
       "      <th></th>\n",
       "      <th></th>\n",
       "      <th></th>\n",
       "      <th></th>\n",
       "      <th></th>\n",
       "      <th></th>\n",
       "      <th></th>\n",
       "      <th></th>\n",
       "      <th></th>\n",
       "      <th></th>\n",
       "      <th></th>\n",
       "      <th></th>\n",
       "      <th></th>\n",
       "      <th></th>\n",
       "      <th></th>\n",
       "      <th></th>\n",
       "    </tr>\n",
       "  </thead>\n",
       "  <tbody>\n",
       "    <tr>\n",
       "      <th>ACH-000013</th>\n",
       "      <td>-1.781</td>\n",
       "      <td>3.424</td>\n",
       "      <td>4.611</td>\n",
       "      <td>2.325</td>\n",
       "      <td>-0.597</td>\n",
       "      <td>6.148</td>\n",
       "      <td>3.032</td>\n",
       "      <td>2.685</td>\n",
       "      <td>5.926</td>\n",
       "      <td>2.592</td>\n",
       "      <td>...</td>\n",
       "      <td>-6.506</td>\n",
       "      <td>-1.392</td>\n",
       "      <td>2.678</td>\n",
       "      <td>4.124</td>\n",
       "      <td>4.852</td>\n",
       "      <td>0.934</td>\n",
       "      <td>-0.472</td>\n",
       "      <td>3.558</td>\n",
       "      <td>2.057</td>\n",
       "      <td>1.585</td>\n",
       "    </tr>\n",
       "    <tr>\n",
       "      <th>ACH-000014</th>\n",
       "      <td>0.576</td>\n",
       "      <td>4.057</td>\n",
       "      <td>4.240</td>\n",
       "      <td>4.943</td>\n",
       "      <td>2.808</td>\n",
       "      <td>6.028</td>\n",
       "      <td>4.642</td>\n",
       "      <td>1.714</td>\n",
       "      <td>3.940</td>\n",
       "      <td>2.858</td>\n",
       "      <td>...</td>\n",
       "      <td>2.211</td>\n",
       "      <td>-2.548</td>\n",
       "      <td>0.215</td>\n",
       "      <td>3.985</td>\n",
       "      <td>3.297</td>\n",
       "      <td>2.278</td>\n",
       "      <td>-1.831</td>\n",
       "      <td>2.015</td>\n",
       "      <td>3.964</td>\n",
       "      <td>0.633</td>\n",
       "    </tr>\n",
       "  </tbody>\n",
       "</table>\n",
       "<p>2 rows × 776 columns</p>\n",
       "</div>"
      ],
      "text/plain": [
       "gene_symbol  ABCB1   ABI1   ABL1   ABL2  ACKR3  ACSL3  ACVR1  ACVR2A   AFDN  \\\n",
       "level_0                                                                       \n",
       "ACH-000013  -1.781  3.424  4.611  2.325 -0.597  6.148  3.032   2.685  5.926   \n",
       "ACH-000014   0.576  4.057  4.240  4.943  2.808  6.028  4.642   1.714  3.940   \n",
       "\n",
       "gene_symbol   AFF1  ...  ZNF521  ZNF626  ZNF680  ZNF721  ZNF780A  ZNF814  \\\n",
       "level_0             ...                                                    \n",
       "ACH-000013   2.592  ...  -6.506  -1.392   2.678   4.124    4.852   0.934   \n",
       "ACH-000014   2.858  ...   2.211  -2.548   0.215   3.985    3.297   2.278   \n",
       "\n",
       "gene_symbol  ZNF93  ZNRF3  ZRSR2   ZXDB  \n",
       "level_0                                  \n",
       "ACH-000013  -0.472  3.558  2.057  1.585  \n",
       "ACH-000014  -1.831  2.015  3.964  0.633  \n",
       "\n",
       "[2 rows x 776 columns]"
      ]
     },
     "execution_count": 41,
     "metadata": {},
     "output_type": "execute_result"
    }
   ],
   "source": [
    "tpm_v1.head(2)"
   ]
  },
  {
   "cell_type": "code",
   "execution_count": 42,
   "id": "dea5e427",
   "metadata": {},
   "outputs": [
    {
     "name": "stdout",
     "output_type": "stream",
     "text": [
      "x_snv.shape: (1674, 776)\n",
      "x_gep.shape: (1674, 776)\n",
      "x_pheno.shape: (1674, 15)\n",
      "x_drug.shape: (1674, 512)\n"
     ]
    }
   ],
   "source": [
    "# TRANSFORM: snv, tpm, pheno, dug\n",
    "# extract the order of sample and drug\n",
    "order_sample = y_ccle.index.get_level_values(0)\n",
    "order_drug = y_ccle.index.get_level_values(1)\n",
    "order_gene = gdsc_dict['x_snv'].columns\n",
    "order_pheno = gdsc_dict['x_pheno'].columns\n",
    "order_drug_features = gdsc_dict['x_drug'].columns\n",
    "\n",
    "# x_snv\n",
    "x_snv = snv_v1.loc[order_sample, order_gene]\n",
    "print(f\"x_snv.shape: {x_snv.shape}\")\n",
    "\n",
    "# gep\n",
    "x_gep = tpm_v1.loc[order_sample, order_gene]\n",
    "print(f\"x_gep.shape: {x_gep.shape}\")\n",
    "\n",
    "# pheno\n",
    "x_pheno = pheno_ccle_v2_dummy.loc[order_sample, order_pheno]\n",
    "print(f\"x_pheno.shape: {x_pheno.shape}\")\n",
    "\n",
    "# drug\n",
    "x_drug = df_drug.loc[order_drug, order_drug_features]\n",
    "print(f\"x_drug.shape: {x_drug.shape}\")"
   ]
  },
  {
   "cell_type": "code",
   "execution_count": 46,
   "id": "b4f1811e",
   "metadata": {},
   "outputs": [],
   "source": [
    "# save dict\n",
    "\n",
    "ccle_dict = {\n",
    "    \"y\": y_ccle,\n",
    "    \"x_pheno\": x_pheno,\n",
    "    \"x_snv\": x_snv,\n",
    "    \"x_gep\": x_gep,\n",
    "    \"x_drug\": x_drug\n",
    "}\n",
    "\n",
    "# save\n",
    "with open('../data_temp/out_ccle/v20230812/ccle_dict.dict', 'wb') as f:\n",
    "    pickle.dump(ccle_dict, f)\n",
    "    \n",
    "# with open(\"../data_temp/out_ccle/v20230812/ccle_dict.dict\", \"rb\") as f:\n",
    "#     ccle_dict = pickle.load(f)"
   ]
  },
  {
   "cell_type": "markdown",
   "id": "51abc0ad",
   "metadata": {},
   "source": [
    "# model test"
   ]
  },
  {
   "cell_type": "code",
   "execution_count": 47,
   "id": "88e52d0c",
   "metadata": {},
   "outputs": [],
   "source": [
    "# with open(\"../output/out_ccle/v20230812/ccle_dict.dict\", \"rb\") as f:\n",
    "#     ccle_dict = pickle.load(f)\n",
    "# pheno_ccle_v2 = pd.read_csv(\"../data_temp/out_ccle/v20230812/pheno_ccle_v2.csv\", index_col = 0)"
   ]
  },
  {
   "cell_type": "code",
   "execution_count": 43,
   "id": "25b55795",
   "metadata": {},
   "outputs": [
    {
     "data": {
      "text/html": [
       "<div>\n",
       "<style scoped>\n",
       "    .dataframe tbody tr th:only-of-type {\n",
       "        vertical-align: middle;\n",
       "    }\n",
       "\n",
       "    .dataframe tbody tr th {\n",
       "        vertical-align: top;\n",
       "    }\n",
       "\n",
       "    .dataframe thead th {\n",
       "        text-align: right;\n",
       "    }\n",
       "</style>\n",
       "<table border=\"1\" class=\"dataframe\">\n",
       "  <thead>\n",
       "    <tr style=\"text-align: right;\">\n",
       "      <th></th>\n",
       "      <th>Age</th>\n",
       "      <th>Sex</th>\n",
       "      <th>cancerType_TCGA</th>\n",
       "    </tr>\n",
       "    <tr>\n",
       "      <th>ModelID</th>\n",
       "      <th></th>\n",
       "      <th></th>\n",
       "      <th></th>\n",
       "    </tr>\n",
       "  </thead>\n",
       "  <tbody>\n",
       "    <tr>\n",
       "      <th>ACH-000013</th>\n",
       "      <td>60.0</td>\n",
       "      <td>Female</td>\n",
       "      <td>OV</td>\n",
       "    </tr>\n",
       "    <tr>\n",
       "      <th>ACH-000014</th>\n",
       "      <td>56.0</td>\n",
       "      <td>Male</td>\n",
       "      <td>SKCM</td>\n",
       "    </tr>\n",
       "  </tbody>\n",
       "</table>\n",
       "</div>"
      ],
      "text/plain": [
       "             Age     Sex cancerType_TCGA\n",
       "ModelID                                 \n",
       "ACH-000013  60.0  Female              OV\n",
       "ACH-000014  56.0    Male            SKCM"
      ]
     },
     "execution_count": 43,
     "metadata": {},
     "output_type": "execute_result"
    }
   ],
   "source": [
    "pheno_ccle_v2.head(2)"
   ]
  },
  {
   "cell_type": "code",
   "execution_count": 50,
   "id": "f93c77ff",
   "metadata": {},
   "outputs": [
    {
     "name": "stdout",
     "output_type": "stream",
     "text": [
      "27/27 [==============================] - 0s 1ms/step\n"
     ]
    }
   ],
   "source": [
    "xs = ['x_pheno', 'x_snv', 'x_gep', 'x_drug']\n",
    "xs = [ccle_dict[e].astype('float64').to_numpy() for e in xs]\n",
    "y_pred_ccle = model.predict(xs, batch_size = 64)"
   ]
  },
  {
   "cell_type": "code",
   "execution_count": 51,
   "id": "3c3acf05",
   "metadata": {},
   "outputs": [
    {
     "name": "stdout",
     "output_type": "stream",
     "text": [
      "y_pred_v1.shape: (1674, 4)\n",
      "y_pred_v1_anno.shape: (1674, 7)\n",
      "dc.all: True\n"
     ]
    }
   ],
   "source": [
    "# y_ccle_anno\n",
    "y_pred_v1 = pd.concat([ccle_dict['y'].reset_index(),\n",
    "                       pd.Series(y_pred_ccle.flatten(), name = \"ypred\")], \n",
    "                      axis = 1)\n",
    "print(f\"y_pred_v1.shape: {y_pred_v1.shape}\")\n",
    "\n",
    "y_pred_v1_anno = pd.merge(y_pred_v1,\n",
    "                      pheno_ccle_v2,\n",
    "                       left_on = \"DepMap_ID\",\n",
    "                       right_index = True,\n",
    "                       how = \"inner\")\n",
    "print(f\"y_pred_v1_anno.shape: {y_pred_v1_anno.shape}\")\n",
    "\n",
    "# double check\n",
    "dc = np.sort(y_pred_v1.DepMap_ID.values) == y_pred_v1_anno.DepMap_ID.values\n",
    "print(f\"dc.all: {dc.all()}\")"
   ]
  },
  {
   "cell_type": "code",
   "execution_count": 52,
   "id": "f9ada0ba",
   "metadata": {},
   "outputs": [
    {
     "data": {
      "text/html": [
       "<div>\n",
       "<style scoped>\n",
       "    .dataframe tbody tr th:only-of-type {\n",
       "        vertical-align: middle;\n",
       "    }\n",
       "\n",
       "    .dataframe tbody tr th {\n",
       "        vertical-align: top;\n",
       "    }\n",
       "\n",
       "    .dataframe thead th {\n",
       "        text-align: right;\n",
       "    }\n",
       "</style>\n",
       "<table border=\"1\" class=\"dataframe\">\n",
       "  <thead>\n",
       "    <tr style=\"text-align: right;\">\n",
       "      <th></th>\n",
       "      <th>DepMap_ID</th>\n",
       "      <th>drug_name_revised</th>\n",
       "      <th>log2FC</th>\n",
       "      <th>ypred</th>\n",
       "      <th>Age</th>\n",
       "      <th>Sex</th>\n",
       "      <th>cancerType_TCGA</th>\n",
       "    </tr>\n",
       "  </thead>\n",
       "  <tbody>\n",
       "    <tr>\n",
       "      <th>0</th>\n",
       "      <td>ACH-000013</td>\n",
       "      <td>Cyclophosphamide</td>\n",
       "      <td>0.252</td>\n",
       "      <td>0.994</td>\n",
       "      <td>60.0</td>\n",
       "      <td>Female</td>\n",
       "      <td>OV</td>\n",
       "    </tr>\n",
       "    <tr>\n",
       "      <th>93</th>\n",
       "      <td>ACH-000013</td>\n",
       "      <td>Bicalutamide</td>\n",
       "      <td>0.055</td>\n",
       "      <td>0.439</td>\n",
       "      <td>60.0</td>\n",
       "      <td>Female</td>\n",
       "      <td>OV</td>\n",
       "    </tr>\n",
       "    <tr>\n",
       "      <th>186</th>\n",
       "      <td>ACH-000013</td>\n",
       "      <td>Gemcitabine</td>\n",
       "      <td>-1.424</td>\n",
       "      <td>-0.572</td>\n",
       "      <td>60.0</td>\n",
       "      <td>Female</td>\n",
       "      <td>OV</td>\n",
       "    </tr>\n",
       "    <tr>\n",
       "      <th>279</th>\n",
       "      <td>ACH-000013</td>\n",
       "      <td>Sorafenib</td>\n",
       "      <td>-0.145</td>\n",
       "      <td>0.152</td>\n",
       "      <td>60.0</td>\n",
       "      <td>Female</td>\n",
       "      <td>OV</td>\n",
       "    </tr>\n",
       "    <tr>\n",
       "      <th>372</th>\n",
       "      <td>ACH-000013</td>\n",
       "      <td>Fluorouracil</td>\n",
       "      <td>-0.520</td>\n",
       "      <td>0.734</td>\n",
       "      <td>60.0</td>\n",
       "      <td>Female</td>\n",
       "      <td>OV</td>\n",
       "    </tr>\n",
       "  </tbody>\n",
       "</table>\n",
       "</div>"
      ],
      "text/plain": [
       "      DepMap_ID drug_name_revised  log2FC  ypred   Age     Sex cancerType_TCGA\n",
       "0    ACH-000013  Cyclophosphamide   0.252  0.994  60.0  Female              OV\n",
       "93   ACH-000013      Bicalutamide   0.055  0.439  60.0  Female              OV\n",
       "186  ACH-000013       Gemcitabine  -1.424 -0.572  60.0  Female              OV\n",
       "279  ACH-000013         Sorafenib  -0.145  0.152  60.0  Female              OV\n",
       "372  ACH-000013      Fluorouracil  -0.520  0.734  60.0  Female              OV"
      ]
     },
     "execution_count": 52,
     "metadata": {},
     "output_type": "execute_result"
    }
   ],
   "source": [
    "y_pred_v1_anno.head()"
   ]
  },
  {
   "cell_type": "code",
   "execution_count": 53,
   "id": "6fdfd304",
   "metadata": {},
   "outputs": [
    {
     "name": "stdout",
     "output_type": "stream",
     "text": [
      "drug_sens: \n",
      "Docetaxel    93\n",
      "dtype: int64\n"
     ]
    }
   ],
   "source": [
    "y_pred_v1_pivot = y_pred_v1_anno.pivot_table(\n",
    "    values = \"ypred\", \n",
    "    index = \"DepMap_ID\", \n",
    "    columns = \"drug_name_revised\")\n",
    "\n",
    "drug_sens = y_pred_v1_pivot.apply(lambda x: y_pred_v1_pivot.columns[np.argmin(x)], axis = 1).value_counts()\n",
    "print(f\"drug_sens: \\n{drug_sens}\")"
   ]
  },
  {
   "cell_type": "code",
   "execution_count": 54,
   "id": "eb34c2a2",
   "metadata": {},
   "outputs": [],
   "source": [
    "# save\n",
    "y_pred_v1_anno.to_csv(\"../data_temp/out_ccle/v20230812/y_pred_v1_anno_20230828.csv\", index = False)\n",
    "y_pred_v1_pivot.to_csv(\"../data_temp/out_ccle/v20230812/y_pred_v1_pivot_anno_20230828.csv\", index = True)"
   ]
  },
  {
   "cell_type": "code",
   "execution_count": 55,
   "id": "0aabb7ea",
   "metadata": {},
   "outputs": [
    {
     "data": {
      "text/html": [
       "<div>\n",
       "<style scoped>\n",
       "    .dataframe tbody tr th:only-of-type {\n",
       "        vertical-align: middle;\n",
       "    }\n",
       "\n",
       "    .dataframe tbody tr th {\n",
       "        vertical-align: top;\n",
       "    }\n",
       "\n",
       "    .dataframe thead th {\n",
       "        text-align: right;\n",
       "    }\n",
       "</style>\n",
       "<table border=\"1\" class=\"dataframe\">\n",
       "  <thead>\n",
       "    <tr style=\"text-align: right;\">\n",
       "      <th></th>\n",
       "      <th>DepMap_ID</th>\n",
       "      <th>drug_name_revised</th>\n",
       "      <th>log2FC</th>\n",
       "      <th>ypred</th>\n",
       "      <th>Age</th>\n",
       "      <th>Sex</th>\n",
       "      <th>cancerType_TCGA</th>\n",
       "    </tr>\n",
       "  </thead>\n",
       "  <tbody>\n",
       "    <tr>\n",
       "      <th>0</th>\n",
       "      <td>ACH-000013</td>\n",
       "      <td>Cyclophosphamide</td>\n",
       "      <td>0.252</td>\n",
       "      <td>0.994</td>\n",
       "      <td>60.0</td>\n",
       "      <td>Female</td>\n",
       "      <td>OV</td>\n",
       "    </tr>\n",
       "    <tr>\n",
       "      <th>93</th>\n",
       "      <td>ACH-000013</td>\n",
       "      <td>Bicalutamide</td>\n",
       "      <td>0.055</td>\n",
       "      <td>0.439</td>\n",
       "      <td>60.0</td>\n",
       "      <td>Female</td>\n",
       "      <td>OV</td>\n",
       "    </tr>\n",
       "  </tbody>\n",
       "</table>\n",
       "</div>"
      ],
      "text/plain": [
       "     DepMap_ID drug_name_revised  log2FC  ypred   Age     Sex cancerType_TCGA\n",
       "0   ACH-000013  Cyclophosphamide   0.252  0.994  60.0  Female              OV\n",
       "93  ACH-000013      Bicalutamide   0.055  0.439  60.0  Female              OV"
      ]
     },
     "execution_count": 55,
     "metadata": {},
     "output_type": "execute_result"
    }
   ],
   "source": [
    "y_pred_v1_anno.head(2)"
   ]
  },
  {
   "cell_type": "code",
   "execution_count": 56,
   "id": "b5a88c52",
   "metadata": {},
   "outputs": [
    {
     "name": "stdout",
     "output_type": "stream",
     "text": [
      "corr_overall: 0.6550494545293325\n",
      "correlation score in drug Bicalutamide is 0.12080672107190019\n",
      "correlation score in drug Cisplatin is 0.11275370023547297\n",
      "correlation score in drug Cyclophosphamide is 0.11839158503237097\n",
      "correlation score in drug Dasatinib is 0.07464897038626397\n",
      "correlation score in drug Docetaxel is 0.16414448106038132\n",
      "correlation score in drug Doxorubicin is -0.054575048628070735\n",
      "correlation score in drug Erlotinib is 0.25656679871650284\n",
      "correlation score in drug Etoposide is 0.2612851860529751\n",
      "correlation score in drug Fluorouracil is 0.18499221159757587\n",
      "correlation score in drug Gemcitabine is 0.24218124509536462\n",
      "correlation score in drug Oxaliplatin is 0.37483670584040024\n",
      "correlation score in drug Paclitaxel is 0.3353750789367856\n",
      "correlation score in drug Pazopanib is 0.0376874343295385\n",
      "correlation score in drug Sorafenib is 0.16925134125237382\n",
      "correlation score in drug Tamoxifen is 0.005966469809325718\n",
      "correlation score in drug Temozolomide is -0.08832568590974495\n",
      "correlation score in drug Temsirolimus is 0.04523120195276592\n",
      "correlation score in drug Vinorelbine is 0.1640156380210617\n"
     ]
    }
   ],
   "source": [
    "# correlation between ytrue and ypred\n",
    "\n",
    "corr_overall = y_pred_v1_anno['log2FC'].corr(y_pred_v1_anno['ypred'])\n",
    "print(f\"corr_overall: {corr_overall}\")\n",
    "\n",
    "for k, v in y_pred_v1_anno.groupby(\"drug_name_revised\"):\n",
    "    cor_coef = v['log2FC'].corr(v['ypred'])\n",
    "    print(f\"correlation score in drug {k} is {cor_coef}\") "
   ]
  }
 ],
 "metadata": {
  "kernelspec": {
   "display_name": "Python 3 (ipykernel)",
   "language": "python",
   "name": "python3"
  },
  "language_info": {
   "codemirror_mode": {
    "name": "ipython",
    "version": 3
   },
   "file_extension": ".py",
   "mimetype": "text/x-python",
   "name": "python",
   "nbconvert_exporter": "python",
   "pygments_lexer": "ipython3",
   "version": "3.10.6"
  },
  "toc": {
   "base_numbering": 1,
   "nav_menu": {},
   "number_sections": true,
   "sideBar": true,
   "skip_h1_title": false,
   "title_cell": "Table of Contents",
   "title_sidebar": "Contents",
   "toc_cell": false,
   "toc_position": {},
   "toc_section_display": true,
   "toc_window_display": false
  }
 },
 "nbformat": 4,
 "nbformat_minor": 5
}
